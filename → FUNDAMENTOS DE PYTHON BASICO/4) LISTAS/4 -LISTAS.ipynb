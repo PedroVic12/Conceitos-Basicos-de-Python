{
 "cells": [
  {
   "cell_type": "markdown",
   "metadata": {},
   "source": [
    "***\n",
    "# ***Listas***\n",
    "***"
   ]
  },
  {
   "cell_type": "markdown",
   "metadata": {},
   "source": [
    "- Uma lista é um tipo de objeto que representa uma coleção ordenada.\n",
    "\n",
    "- As listas podem conter quaisquer tipos de objetos (strings, números, booleanos)\n",
    "\n",
    "- Seu conteúdo pode ser modificado. Não são mutáveis \n",
    "\n",
    "- Seus objetos sao acessados a partir de um `índice`\n",
    "\n",
    "- Uma lista pode crescer e diminuir de tamanho \n",
    "\n",
    "- São 'sequencias mutáveis' \n",
    "\n",
    "- Uma lista pode conter outras listas como objetos ou outro tipo qualquer de sequencia\n",
    "\n",
    "- `Suporta métodos que não sao suportados pelas strings.`"
   ]
  },
  {
   "cell_type": "markdown",
   "metadata": {},
   "source": [
    "\n",
    "## <font color= red> 1) Posições:\n"
   ]
  },
  {
   "cell_type": "code",
   "execution_count": 13,
   "metadata": {},
   "outputs": [
    {
     "name": "stdout",
     "output_type": "stream",
     "text": [
      "[3, 'abacate', 9.7, [5, 6, 3], 'Python', (3, 'j')]\n"
     ]
    }
   ],
   "source": [
    "L = [3, 'abacate', 9.7, [5, 6, 3], \"Python\", (3, 'j')]\n",
    "print(L)\n"
   ]
  },
  {
   "cell_type": "code",
   "execution_count": 14,
   "metadata": {},
   "outputs": [
    {
     "name": "stdout",
     "output_type": "stream",
     "text": [
      "9.7\n",
      "\n",
      "[5, 6, 3]\n",
      "\n",
      "6\n"
     ]
    }
   ],
   "source": [
    "print(L[2])\n",
    "print()\n",
    "print(L[3])\n",
    "print()\n",
    "print(L[3][1])"
   ]
  },
  {
   "cell_type": "markdown",
   "metadata": {},
   "source": [
    "→ Para alterar um elemento da lista, basta fazer uma atribuição de valor através do índice. O valor existente será substituído pelo novo valor."
   ]
  },
  {
   "cell_type": "code",
   "execution_count": 15,
   "metadata": {},
   "outputs": [
    {
     "name": "stdout",
     "output_type": "stream",
     "text": [
      "[3, 'abacate', 9.7, 'morango', 'Python', (3, 'j')]\n",
      "repare que o 3 aparece 2x\n"
     ]
    }
   ],
   "source": [
    "L[3] = 'morango'\n",
    "print(L)\n",
    "print(\"repare que o 3 aparece 2x\")"
   ]
  },
  {
   "cell_type": "markdown",
   "metadata": {},
   "source": [
    "### `L.remove()` → Remove a primeira ocorrência do item"
   ]
  },
  {
   "cell_type": "code",
   "execution_count": 16,
   "metadata": {},
   "outputs": [
    {
     "data": {
      "text/plain": [
       "['abacate', 9.7, 'morango', 'Python', (3, 'j')]"
      ]
     },
     "execution_count": 16,
     "metadata": {},
     "output_type": "execute_result"
    }
   ],
   "source": [
    "L.remove(3)\n",
    "L"
   ]
  },
  {
   "cell_type": "markdown",
   "metadata": {},
   "source": [
    "### `L.pop()` → Remove item na posição de índice especificada"
   ]
  },
  {
   "cell_type": "code",
   "execution_count": 17,
   "metadata": {},
   "outputs": [
    {
     "data": {
      "text/plain": [
       "['abacate', 9.7, 'Python', (3, 'j')]"
      ]
     },
     "execution_count": 17,
     "metadata": {},
     "output_type": "execute_result"
    }
   ],
   "source": [
    "L.pop(2)\n",
    "L"
   ]
  },
  {
   "cell_type": "markdown",
   "metadata": {},
   "source": [
    "##  <font color= red> 2) Fatiamento de listas"
   ]
  },
  {
   "cell_type": "code",
   "execution_count": 23,
   "metadata": {},
   "outputs": [
    {
     "name": "stdout",
     "output_type": "stream",
     "text": [
      "LISTA PRINCIPAL\n"
     ]
    },
    {
     "data": {
      "text/plain": [
       "[3, 'abacate', 9.7, [5, 6, 3], 'Python', (3, 'j')]"
      ]
     },
     "execution_count": 23,
     "metadata": {},
     "output_type": "execute_result"
    }
   ],
   "source": [
    "L = [3, 'abacate', 9.7, [5, 6, 3], \"Python\", (3, 'j')]\n",
    "print('LISTA PRINCIPAL')\n",
    "L"
   ]
  },
  {
   "cell_type": "code",
   "execution_count": 33,
   "metadata": {},
   "outputs": [
    {
     "name": "stdout",
     "output_type": "stream",
     "text": [
      "LISTA PRINCIPAL\n",
      "[3, 'abacate', 9.7, [5, 6, 3], 'Python', (3, 'j')]\n",
      "\n",
      "Seleciona os elementos das posições 1,2,3  \n"
     ]
    },
    {
     "data": {
      "text/plain": [
       "['abacate', 9.7, [5, 6, 3]]"
      ]
     },
     "execution_count": 33,
     "metadata": {},
     "output_type": "execute_result"
    }
   ],
   "source": [
    "print('LISTA PRINCIPAL')\n",
    "print(L)\n",
    "print('\\nSeleciona os elementos das posições 1,2,3  ')\n",
    "L[1:4] "
   ]
  },
  {
   "cell_type": "code",
   "execution_count": 34,
   "metadata": {},
   "outputs": [
    {
     "name": "stdout",
     "output_type": "stream",
     "text": [
      "LISTA PRINCIPAL\n",
      "[3, 'abacate', 9.7, [5, 6, 3], 'Python', (3, 'j')]\n",
      "\n",
      "Seleciona os elementos a partir da posição 2\n"
     ]
    },
    {
     "data": {
      "text/plain": [
       "[9.7, [5, 6, 3], 'Python', (3, 'j')]"
      ]
     },
     "execution_count": 34,
     "metadata": {},
     "output_type": "execute_result"
    }
   ],
   "source": [
    "print('LISTA PRINCIPAL')\n",
    "print(L)\n",
    "print('\\nSeleciona os elementos a partir da posição 2')\n",
    "L[2:]\n"
   ]
  },
  {
   "cell_type": "code",
   "execution_count": 35,
   "metadata": {},
   "outputs": [
    {
     "name": "stdout",
     "output_type": "stream",
     "text": [
      "LISTA PRINCIPAL\n",
      "[3, 'abacate', 9.7, [5, 6, 3], 'Python', (3, 'j')]\n",
      "\n",
      "Seleciona os elementos até a posição 3\n"
     ]
    },
    {
     "data": {
      "text/plain": [
       "[3, 'abacate', 9.7, [5, 6, 3]]"
      ]
     },
     "execution_count": 35,
     "metadata": {},
     "output_type": "execute_result"
    }
   ],
   "source": [
    "print('LISTA PRINCIPAL')\n",
    "print(L)\n",
    "print('\\nSeleciona os elementos até a posição 3')\n",
    "L[:4]\n"
   ]
  },
  {
   "cell_type": "markdown",
   "metadata": {},
   "source": [
    "## <font color= red> 3) Criação de listas com range( )"
   ]
  },
  {
   "cell_type": "markdown",
   "metadata": {},
   "source": [
    "A função range() define um intervalo de valores inteiros. Associada a list(), cria uma lista com os\n",
    "valores do intervalo.\n",
    "A função range() pode ter de 1 a 3 parâmetros:\n",
    "- range(n)  gera um intervalo de 0 a n-1\n",
    "- range(i, n)  gera um intervalo de i a n-1\n",
    "- range(i, n, p)  gera um intervalo de i a n-1 com intervalo p entre os números\n"
   ]
  },
  {
   "cell_type": "code",
   "execution_count": 1,
   "metadata": {},
   "outputs": [
    {
     "name": "stdout",
     "output_type": "stream",
     "text": [
      "[0, 1, 2, 3, 4]\n"
     ]
    }
   ],
   "source": [
    "L1 = list(range(5))\n",
    "print(L1)\n"
   ]
  },
  {
   "cell_type": "code",
   "execution_count": 2,
   "metadata": {},
   "outputs": [
    {
     "name": "stdout",
     "output_type": "stream",
     "text": [
      "[3, 4, 5, 6, 7]\n"
     ]
    }
   ],
   "source": [
    "L2 = list(range(3, 8))\n",
    "print(L2)\n"
   ]
  },
  {
   "cell_type": "code",
   "execution_count": 3,
   "metadata": {},
   "outputs": [
    {
     "name": "stdout",
     "output_type": "stream",
     "text": [
      "[2, 5, 8]\n"
     ]
    }
   ],
   "source": [
    "L3 = list(range(2, 11, 3))\n",
    "print(L3)\n"
   ]
  },
  {
   "cell_type": "markdown",
   "metadata": {},
   "source": [
    "## <font color= red> 4) Operações com Listas\n",
    "<img src=\"assets/operacao_com_listas.png\" width = 500 height =250> \n",
    "\n",
    "- Função map()\n",
    "- Loop normal\n",
    "- Lambda\n",
    "- List comprehension "
   ]
  },
  {
   "cell_type": "markdown",
   "metadata": {},
   "source": [
    "**→ Função `map()`**\n",
    "\n",
    "map(função,lista)"
   ]
  },
  {
   "cell_type": "code",
   "execution_count": 1,
   "metadata": {},
   "outputs": [
    {
     "name": "stdout",
     "output_type": "stream",
     "text": [
      "[1, 2, 3, 4, 5, 6]\n",
      "\n",
      "Aplicando raiz quadrada em cada elemento na lista: \n",
      "\n",
      "[1.0, 1.4142135623730951, 1.7320508075688772, 2.0, 2.23606797749979, 2.449489742783178]"
     ]
    }
   ],
   "source": [
    "import math\n",
    "lista_ex = list(range(1, 7))\n",
    "print(lista_ex)\n",
    "\n",
    "print('\\nAplicando raiz quadrada em cada elemento na lista: \\n')\n",
    "\n",
    "print(list(map(math.sqrt, lista_ex)), end='')\n"
   ]
  },
  {
   "cell_type": "markdown",
   "metadata": {},
   "source": [
    "#### <font color= green> **1) MÉTODO PRINCIPAL**"
   ]
  },
  {
   "cell_type": "code",
   "execution_count": 20,
   "metadata": {},
   "outputs": [
    {
     "data": {
      "text/plain": [
       "[1, 4, 9, 16, 25]"
      ]
     },
     "execution_count": 20,
     "metadata": {},
     "output_type": "execute_result"
    }
   ],
   "source": [
    "lista_quadrados = []\n",
    "\n",
    "for i in range(1,6):\n",
    "    lista_quadrados.append(i**2)\n",
    "lista_quadrados\n"
   ]
  },
  {
   "cell_type": "markdown",
   "metadata": {},
   "source": [
    "##### <font color= green> **2) MÉTODO LAMBDA**"
   ]
  },
  {
   "cell_type": "code",
   "execution_count": 2,
   "metadata": {},
   "outputs": [
    {
     "data": {
      "text/plain": [
       "[1, 4, 9, 16, 25]"
      ]
     },
     "execution_count": 2,
     "metadata": {},
     "output_type": "execute_result"
    }
   ],
   "source": [
    "\n",
    "números = [1, 2, 3, 4, 5]\n",
    "f = lambda x:x**2\n",
    "\n",
    "lista_5 = list(map(f,números))\n",
    "lista_5\n"
   ]
  },
  {
   "cell_type": "markdown",
   "metadata": {},
   "source": [
    "### <font color= green> **3) Usando List compreension**"
   ]
  },
  {
   "cell_type": "code",
   "execution_count": 23,
   "metadata": {},
   "outputs": [
    {
     "data": {
      "text/plain": [
       "[1, 4, 9, 16, 25]"
      ]
     },
     "execution_count": 23,
     "metadata": {},
     "output_type": "execute_result"
    }
   ],
   "source": [
    "quadrados = [x**2 for x in range(1, 6)]\n",
    "quadrados\n"
   ]
  },
  {
   "cell_type": "markdown",
   "metadata": {},
   "source": [
    "## <font color= red> 5) Principais Metodos:"
   ]
  },
  {
   "cell_type": "markdown",
   "metadata": {},
   "source": [
    "<img src=\"assets/metodos_listas1.png\" width = 500 height =250>"
   ]
  },
  {
   "cell_type": "markdown",
   "metadata": {},
   "source": [
    "<img src=\"assets/metodod_listas2.png\" width = 500 height =400>"
   ]
  },
  {
   "cell_type": "markdown",
   "metadata": {},
   "source": [
    "### Similaridades entre listas e strings\n",
    "- Ambos são indexáveis com indices a partir de [0]\n",
    "- Strings, assim como listas, podem ser fatiadas\n",
    "- A função len(x) retorna o número de elementos de uma lista e o número de caracteres de uma string\n",
    "- A operação de soma funciona de maneira parecida\n",
    "- Ambas podem ser multiplicadas por um valor inteiro"
   ]
  },
  {
   "cell_type": "markdown",
   "metadata": {},
   "source": [
    "***\n",
    "**Suponhamos que tenho duas listas :**\n",
    "\n",
    "**Lista1 = [ 1, 2 , 3, 4, 5]**\n",
    "\n",
    "**Lista2 = [1, 2]**\n",
    "\n",
    "**Como faço em Python para listar elementos da lista1 que não tá na lista2?**\n",
    "***"
   ]
  },
  {
   "cell_type": "code",
   "execution_count": 11,
   "metadata": {},
   "outputs": [
    {
     "name": "stdout",
     "output_type": "stream",
     "text": [
      "[3, 4, 5]\n",
      "{3, 4, 5}\n"
     ]
    }
   ],
   "source": [
    "# Duas maneiras bem simples:\n",
    "Lista1 = [1, 2, 3, 4, 5]\n",
    "\n",
    "Lista2 = [1, 2]\n",
    "\n",
    "# 1) List Comprehesion\n",
    "x = [n for n in Lista1 if n not in Lista2]\n",
    "print(x)\n",
    "\n",
    "# 2) Set(não vai retornar elementos duplicados)\n",
    "y = set(Lista1).difference(Lista2)\n",
    "print(y)"
   ]
  }
 ],
 "metadata": {
  "interpreter": {
   "hash": "74ab7c6ffe6706754a8af46cc4d18eebe476c74ce21a19282f620e1b1e9919fe"
  },
  "kernelspec": {
   "display_name": "Python 3.9.7 64-bit ('base': conda)",
   "language": "python",
   "name": "python3"
  },
  "language_info": {
   "codemirror_mode": {
    "name": "ipython",
    "version": 3
   },
   "file_extension": ".py",
   "mimetype": "text/x-python",
   "name": "python",
   "nbconvert_exporter": "python",
   "pygments_lexer": "ipython3",
   "version": "3.9.7"
  },
  "orig_nbformat": 4
 },
 "nbformat": 4,
 "nbformat_minor": 2
}
