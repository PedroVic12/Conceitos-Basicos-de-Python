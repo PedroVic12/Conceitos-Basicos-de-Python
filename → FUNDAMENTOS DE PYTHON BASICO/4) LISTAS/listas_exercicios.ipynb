{
 "cells": [
  {
   "cell_type": "markdown",
   "metadata": {},
   "source": [
    "#### Exercício 1) \n",
    "Dada a lista ['P','A','Y','A','T','A','H','O','N'], conte o número de variáveis 'A' e utilize um loop para remover todos os 'A' excedente."
   ]
  },
  {
   "cell_type": "code",
   "execution_count": 9,
   "metadata": {},
   "outputs": [
    {
     "name": "stdout",
     "output_type": "stream",
     "text": [
      "Numero de Variaves A =  3\n",
      "['P', 'Y', 'T', 'H', 'O', 'N']\n",
      "0 P\n",
      "1 Y\n",
      "2 T\n",
      "3 H\n",
      "4 O\n",
      "5 N\n",
      "['P', 'Y', 'T', 'H', 'O', 'N']\n"
     ]
    }
   ],
   "source": [
    " #* Contar quantidades de variaveis A\n",
    "lista = ['P','A','Y','A','T','A','H','O','N']\n",
    "num_a = lista.count('A')\n",
    "print('Numero de Variaves A = ',num_a)\n",
    "\n",
    "#* Remover todos os exercedentes \n",
    "for l in lista:\n",
    "    if l == 'A':\n",
    "        lista.remove(l)\n",
    "print(lista)\n",
    "\n",
    "#* Outra forma\n",
    "for i in enumerate(lista):\n",
    "    letra = i[1]\n",
    "    print(i[0],i[1]) #! i[0] → Retorna os indices i[1] Retorna os valores correspondentes\n",
    "    if letra == 'A':\n",
    "        lista.pop(i[0])\n",
    "print(lista)\n",
    "\n"
   ]
  },
  {
   "cell_type": "markdown",
   "metadata": {},
   "source": [
    "#### Exercício 2 \n",
    "Utilizando somente uma linha de programação, crie uma lista que contenha os números ímpares de 1 a 51."
   ]
  },
  {
   "cell_type": "code",
   "execution_count": 42,
   "metadata": {},
   "outputs": [
    {
     "name": "stdout",
     "output_type": "stream",
     "text": [
      "Método normal: [1, 3, 5, 7, 9, 11, 13, 15, 17, 19, 21, 23, 25, 27, 29, 31, 33, 35, 37, 39, 41, 43, 45, 47, 49, 51]\n",
      "Método range: [1, 3, 5, 7, 9, 11, 13, 15, 17, 19, 21, 23, 25, 27, 29, 31, 33, 35, 37, 39, 41, 43, 45, 47, 49, 51]\n",
      "List comprehension:  [1, 3, 5, 7, 9, 11, 13, 15, 17, 19, 21, 23, 25, 27, 29, 31, 33, 35, 37, 39, 41, 43, 45, 47, 49, 51]Método Lambda:  [1, 3, 5, 7, 9, 11, 13, 15, 17, 19, 21, 23, 25, 27, 29, 31, 33, 35, 37, 39, 41, 43, 45, 47, 49, 51]\n"
     ]
    }
   ],
   "source": [
    " #! Método normal\n",
    "L1 = []\n",
    "for x in L1:\n",
    "    l2 = x + 1\n",
    "print('Método normal:',l2)\n",
    "\n",
    "#! Método Range\n",
    "l2 = list(range(1,52,2))\n",
    "print('Método range:',l2)\n",
    "\n",
    "#! List comprehension \n",
    "lista2 = [(x*2 + 1) for x in range(26)]\n",
    "print('List comprehension: ', lista2,end='')\n",
    "\n",
    "#! Método Lambda\n",
    "f_x = lambda x:(x*2+1)\n",
    "lista_2 = [f_x(x) for x in range(26)]\n",
    "print('Método Lambda: ',lista_2)\n"
   ]
  },
  {
   "cell_type": "markdown",
   "metadata": {},
   "source": [
    "#### Exercício 3) \n",
    "Faça um programa que leia 5 valores números e guarde-os em uma lista. No final, mostre qual foi o maior e o menor valor digitados e as suas respectivas posições na lista."
   ]
  },
  {
   "cell_type": "code",
   "execution_count": 16,
   "metadata": {},
   "outputs": [
    {
     "name": "stdout",
     "output_type": "stream",
     "text": [
      "Maior valor digitado 1 com a chave 0\n",
      "Maior valor digitado 8 com a chave 3\n",
      "Voce digitou esses numeros:  [1, 5, 4, 8, 6]\n"
     ]
    }
   ],
   "source": [
    "lista_numeros = []\n",
    "maior = 0\n",
    "menor = 0\n",
    "\n",
    "for key in range(0,5):\n",
    "    num = int(input(f'Digite um valor para a posição {key}: '))\n",
    "    lista_numeros.append(num)\n",
    "    \n",
    "    #Analisando os numeros maiores e menores\n",
    "    if key == 0:\n",
    "        maior = menor = lista_numeros[key] \n",
    "    else:\n",
    "        if lista_numeros[key] > maior:\n",
    "            maior = lista_numeros[key]\n",
    "        if lista_numeros[key] < menor:\n",
    "            menor = lista_numeros[key]\n",
    "    \n",
    "#Posição dos números\n",
    "for chave, valor in enumerate(lista_numeros):\n",
    "    if maior == valor:\n",
    "        print(f'Maior valor digitado {maior} com a chave {chave}')\n",
    "    if menor == valor:\n",
    "        print(f'Maior valor digitado {menor} com a chave {chave}')      \n",
    "\n",
    "    \n",
    "print(\"Voce digitou esses numeros: \",lista_numeros)    \n"
   ]
  },
  {
   "cell_type": "code",
   "execution_count": 11,
   "metadata": {},
   "outputs": [
    {
     "name": "stdout",
     "output_type": "stream",
     "text": [
      "[1, 5, 6, 5, 4]\n",
      "Menor numero = 1, na posição 0 \n",
      "Maior numero = 6, na posição 2 \n"
     ]
    }
   ],
   "source": [
    "lista_num = []\n",
    "maior = menor = 0\n",
    "for n in range(0,5):\n",
    "    lista_num.append(int(input(f\"Digite um valor para a posicao {n}: \")))\n",
    "    \n",
    "    #Analisando quem foi maior ou menor\n",
    "    if n == 0:\n",
    "        maior = menor = lista_num[n]\n",
    "    else:\n",
    "        \n",
    "        if lista_num[n] > maior:\n",
    "            maior = lista_num[n]\n",
    "            \n",
    "        if lista_num[n] < menor:\n",
    "            menor = lista_num[n]\n",
    "print(lista_num)\n",
    "# Analisando as posições\n",
    "for chave, valor in enumerate(lista_num):\n",
    "    if valor == maior:\n",
    "        print(f\"Maior numero = {maior}, na posição {chave} \")\n",
    "        \n",
    "    elif valor == menor:\n",
    "        print(f\"Menor numero = {menor}, na posição {chave} \")\n"
   ]
  },
  {
   "cell_type": "markdown",
   "metadata": {},
   "source": [
    "#### Exercício 4) \n",
    "Crie um programa onde o usuário possa digitar vários valores numéricos e cadastre-os em uma lista. Caso o número já exista lá dentro, ele não será adicionado. No final, serão exibidos todos os valores únicos digitados, em ordem crescente."
   ]
  },
  {
   "cell_type": "code",
   "execution_count": 22,
   "metadata": {},
   "outputs": [
    {
     "name": "stdout",
     "output_type": "stream",
     "text": [
      "Numero adicionado\n",
      "Numero adicionado\n",
      "Numero duplicado! não vou adicionar...\n",
      "Numero adicionado\n",
      "Numero adicionado\n",
      "Numero adicionado\n",
      "Numero adicionado\n",
      "[1, 3, 9, 19, 31, 54]\n"
     ]
    }
   ],
   "source": [
    "lista_num = []\n",
    "while True:\n",
    "    #Entrada e Saida\n",
    "    num = (int(input(\"Digite um valor:\")))\n",
    "    \n",
    "    #Números duplicados\n",
    "    if num not in lista_num:\n",
    "        n= lista_num.append(num)\n",
    "        print(\"Numero adicionado\")\n",
    "    else:\n",
    "        print(\"Numero duplicado! não vou adicionar...\")\n",
    "        \n",
    "    r = str(input(\"Quer continuar? [S/N] \"))\n",
    "    resp = r.upper()\n",
    "    if resp == \"N\":\n",
    "        break\n",
    "lista_num.sort()\n",
    "print(lista_num)"
   ]
  },
  {
   "cell_type": "markdown",
   "metadata": {},
   "source": [
    "#### Exercício 5)\n",
    "Crie um programa onde o usuário possa digitar cinco valores numéricos e cadastre-os em uma lista, já na posição correta de inserção `(sem usar o sort())`. No final, mostre a lista ordenada na tela."
   ]
  },
  {
   "cell_type": "code",
   "execution_count": 33,
   "metadata": {},
   "outputs": [
    {
     "name": "stdout",
     "output_type": "stream",
     "text": [
      "Adicionado no final da lista\n",
      "Adicionado na posição 0 \n",
      "Adicionado na posição 0 \n",
      "Adicionado no final da lista\n",
      "Adicionado na posição 2 \n",
      "[1, 1, 5, 8, 9]\n"
     ]
    }
   ],
   "source": [
    "lista_números = []\n",
    "for valor in range(0,5):\n",
    "    numero = int(input(\"Digite um valor: \"))\n",
    "    # lista_números.append(numero)\n",
    "    if valor == 0 or numero > lista_números[-1]:\n",
    "        lista_números.append(numero)\n",
    "        print(\"Adicionado no final da lista\")    \n",
    "    else:\n",
    "        posicao = 0\n",
    "        while posicao < len(lista_números):\n",
    "            if numero <= lista_números[posicao]:\n",
    "                lista_números.insert(posicao,numero)\n",
    "                print(f\"Adicionado na posição {posicao} \")\n",
    "                break\n",
    "            posicao = posicao + 1\n",
    "    \n",
    "print(lista_números)\n",
    "            \n",
    "            \n",
    "                "
   ]
  },
  {
   "cell_type": "markdown",
   "metadata": {},
   "source": [
    "#### Exercício 6) \n",
    "Crie um programa que vai ler vários números e colocá-los em uma lista\n",
    "Depois disso, mostre:\n",
    "\n",
    "    a) quantos números foram digitados.\n",
    "\n",
    "    b) a lista de valores, ordenada de forma decrescente\n",
    "    \n",
    "    c) se o valor 5 foi digitado e está ou não na lista."
   ]
  },
  {
   "cell_type": "code",
   "execution_count": 37,
   "metadata": {},
   "outputs": [
    {
     "name": "stdout",
     "output_type": "stream",
     "text": [
      "A lista completa é  [2, 4, 1, 6, 7]\n",
      "A lista pares é  [2, 4, 6]\n",
      "A lista ímpares é  [1, 7]\n"
     ]
    }
   ],
   "source": [
    "lista_completa = []\n",
    "par = []\n",
    "ímpar = []\n",
    "while True:\n",
    "    #Entrada de dados:\n",
    "    lista_completa.append(int(input(\"Digite um numero: \")))\n",
    "    resp = str(input(\"Quer continuar? \"))\n",
    "    if resp in \"Nn\":\n",
    "        break\n",
    "    \n",
    "for indice, valor in enumerate(lista_completa):\n",
    "    if valor % 2 == 0:\n",
    "        par.append(valor)\n",
    "    elif valor % 2 == 1:\n",
    "        ímpar.append(valor)\n",
    "    \n",
    "    \n",
    "    \n",
    "print(\"A lista completa é \",lista_completa)\n",
    "print(\"A lista pares é \",par)\n",
    "print(\"A lista ímpares é \",ímpar)\n",
    "     "
   ]
  },
  {
   "cell_type": "markdown",
   "metadata": {},
   "source": [
    "#### Exercício 7)\n",
    "Crie um programa que vai ler vários números e colocar em uma lista. Depois disso, crie duas listas extras que vão conter apenas os valores pares e os valores ímpares digitados, respectivamente. Ao final, mostre o conteúdo das três listas geradas."
   ]
  },
  {
   "cell_type": "code",
   "execution_count": null,
   "metadata": {},
   "outputs": [],
   "source": []
  },
  {
   "cell_type": "markdown",
   "metadata": {},
   "source": [
    "#### Exercício 8) \n",
    "Crie um programa onde o usuário digite uma expressão qualquer que use parênteses. Seu aplicativo deverá analisar se a expressão passada está com os parênteses abertos e fechados na ordem correta."
   ]
  },
  {
   "cell_type": "code",
   "execution_count": null,
   "metadata": {},
   "outputs": [],
   "source": []
  }
 ],
 "metadata": {
  "interpreter": {
   "hash": "74ab7c6ffe6706754a8af46cc4d18eebe476c74ce21a19282f620e1b1e9919fe"
  },
  "kernelspec": {
   "display_name": "Python 3.9.7 64-bit ('base': conda)",
   "language": "python",
   "name": "python3"
  },
  "language_info": {
   "codemirror_mode": {
    "name": "ipython",
    "version": 3
   },
   "file_extension": ".py",
   "mimetype": "text/x-python",
   "name": "python",
   "nbconvert_exporter": "python",
   "pygments_lexer": "ipython3",
   "version": "3.10.2"
  },
  "orig_nbformat": 4
 },
 "nbformat": 4,
 "nbformat_minor": 2
}
