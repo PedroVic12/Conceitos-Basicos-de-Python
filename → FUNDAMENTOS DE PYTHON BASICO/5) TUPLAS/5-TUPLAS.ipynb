{
 "cells": [
  {
   "cell_type": "markdown",
   "metadata": {},
   "source": [
    "# Tuplas\n",
    "\n",
    "- Uma tupla é uma especie de lista que não pode ser alterada.`` É imutável`` ,ou seja, é uma sequencia com uma lista, mas não pode ser alterada.\n",
    "\n",
    "- Suportam diferentes dados, aninhamento e operações normais de sequencias"
   ]
  },
  {
   "cell_type": "code",
   "execution_count": 4,
   "metadata": {},
   "outputs": [
    {
     "name": "stdout",
     "output_type": "stream",
     "text": [
      "('Abacaxi', 'Abacate', 'Carambola', 'Pitanga')\n",
      "('palavra', 2, ['a', 'b', 'c'])\n"
     ]
    }
   ],
   "source": [
    "t = ('Abacaxi','Abacate','Carambola','Pitanga')\n",
    "u = ('palavra',2,['a','b','c'])\n",
    "print(t)\n",
    "print(u)"
   ]
  },
  {
   "cell_type": "markdown",
   "metadata": {},
   "source": [
    "### Operações com Tuplas."
   ]
  },
  {
   "cell_type": "markdown",
   "metadata": {},
   "source": [
    "``len(t)`` → Comprimento da tupla T "
   ]
  },
  {
   "cell_type": "code",
   "execution_count": 8,
   "metadata": {},
   "outputs": [
    {
     "name": "stdout",
     "output_type": "stream",
     "text": [
      "('Abacaxi', 'Abacate', 'Carambola', 'Pitanga')\n",
      "('palavra', 2, ['a', 'b', 'c'])\n",
      "4\n"
     ]
    },
    {
     "data": {
      "text/plain": [
       "3"
      ]
     },
     "execution_count": 8,
     "metadata": {},
     "output_type": "execute_result"
    }
   ],
   "source": [
    "print(t)\n",
    "print(u)\n",
    "\n",
    "\n",
    "print(len(t))\n",
    "len(u)"
   ]
  },
  {
   "cell_type": "markdown",
   "metadata": {},
   "source": [
    "``t.index()`` → N posição do item "
   ]
  },
  {
   "cell_type": "code",
   "execution_count": 16,
   "metadata": {},
   "outputs": [
    {
     "name": "stdout",
     "output_type": "stream",
     "text": [
      "Tupla T: ('Abacaxi', 'Abacate', 'Carambola', 'Pitanga')\n"
     ]
    },
    {
     "data": {
      "text/plain": [
       "2"
      ]
     },
     "execution_count": 16,
     "metadata": {},
     "output_type": "execute_result"
    }
   ],
   "source": [
    "print('Tupla T:',t)\n",
    "\n",
    "t.index('Carambola')"
   ]
  },
  {
   "cell_type": "markdown",
   "metadata": {},
   "source": [
    "``t.count()`` → N de ocorrências do objeto"
   ]
  },
  {
   "cell_type": "code",
   "execution_count": 17,
   "metadata": {},
   "outputs": [
    {
     "name": "stdout",
     "output_type": "stream",
     "text": [
      "Tupla T: ('Abacaxi', 'Abacate', 'Carambola', 'Pitanga')\n"
     ]
    },
    {
     "data": {
      "text/plain": [
       "1"
      ]
     },
     "execution_count": 17,
     "metadata": {},
     "output_type": "execute_result"
    }
   ],
   "source": [
    "print('Tupla T:',t)\n",
    "\n",
    "t.count('Abacaxi')\n"
   ]
  },
  {
   "cell_type": "code",
   "execution_count": 15,
   "metadata": {},
   "outputs": [
    {
     "name": "stdout",
     "output_type": "stream",
     "text": [
      "Tupla T: ('Abacaxi', 'Abacate', 'Carambola', 'Pitanga')\n",
      "Tupla U: ('palavra', 2, ['a', 'b', 'c'])\n",
      "Abacaxi\n",
      "C\n"
     ]
    }
   ],
   "source": [
    "print('Tupla T:',t)\n",
    "\n",
    "print(t[0])\n",
    "print(t[2][0]) "
   ]
  },
  {
   "cell_type": "markdown",
   "metadata": {},
   "source": [
    "Uma ferramenta muito utilizada em tuplas é o desempacotamento, que permite atribuir os elementos armazenados em uma tupla a diversas variáveis."
   ]
  },
  {
   "cell_type": "code",
   "execution_count": 3,
   "metadata": {},
   "outputs": [
    {
     "name": "stdout",
     "output_type": "stream",
     "text": [
      "a= 10 b= 20\n",
      "d+e= 90\n"
     ]
    }
   ],
   "source": [
    "T = (10,20,30,40,50)\n",
    "a,b,c,d,e = T\n",
    "print(\"a=\",a,\"b=\",b)\n",
    "\n",
    "print(\"d+e=\",d+e)"
   ]
  }
 ],
 "metadata": {
  "interpreter": {
   "hash": "74ab7c6ffe6706754a8af46cc4d18eebe476c74ce21a19282f620e1b1e9919fe"
  },
  "kernelspec": {
   "display_name": "Python 3.9.7 ('base')",
   "language": "python",
   "name": "python3"
  },
  "language_info": {
   "codemirror_mode": {
    "name": "ipython",
    "version": 3
   },
   "file_extension": ".py",
   "mimetype": "text/x-python",
   "name": "python",
   "nbconvert_exporter": "python",
   "pygments_lexer": "ipython3",
   "version": "3.9.7"
  },
  "orig_nbformat": 4
 },
 "nbformat": 4,
 "nbformat_minor": 2
}
