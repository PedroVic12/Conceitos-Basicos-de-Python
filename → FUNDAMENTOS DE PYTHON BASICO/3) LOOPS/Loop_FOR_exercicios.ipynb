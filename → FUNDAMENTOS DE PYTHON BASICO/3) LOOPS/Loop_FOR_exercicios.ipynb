{
 "cells": [
  {
   "cell_type": "markdown",
   "metadata": {},
   "source": [
    "***\n",
    "# Exercícios:\n",
    "*** "
   ]
  },
  {
   "cell_type": "markdown",
   "metadata": {},
   "source": [
    "#### Desenvolva um programa que leia seis números inteiros e mostre a soma apenas daqueles que forem pares. Se o valor digitado for ímpar, desconsidere-o."
   ]
  },
  {
   "cell_type": "code",
   "execution_count": null,
   "metadata": {},
   "outputs": [],
   "source": []
  },
  {
   "cell_type": "markdown",
   "metadata": {},
   "source": [
    "#### Desenvolva um programa que leia o primeiro termo e a razão de uma PA (Progressão Aritmética). No final, mostre os 10 primeiros termos dessa progressão."
   ]
  },
  {
   "cell_type": "code",
   "execution_count": null,
   "metadata": {},
   "outputs": [],
   "source": []
  },
  {
   "cell_type": "markdown",
   "metadata": {},
   "source": [
    "## <font color=yellow> Questão de entrevista de emprego (Estagio) </font>"
   ]
  },
  {
   "cell_type": "markdown",
   "metadata": {},
   "source": [
    "#### Crie um programa que leia uma frase qualquer E diga se ela é um palíndromo, desconsiderando os espaços.\n",
    "\n",
    "> Palíndromo → (palavra inversa = palavra original)\n",
    "\n",
    "- Após a sopa\n",
    "- A sacada da casa\n",
    "- A torre da derrota\n",
    "- o lobo ama o bolo\n",
    "- Anotaram a data da maratona"
   ]
  },
  {
   "cell_type": "code",
   "execution_count": 24,
   "metadata": {},
   "outputs": [
    {
     "name": "stdout",
     "output_type": "stream",
     "text": [
      "apos a sopa\n",
      "\n",
      " Frase dividida (split) em uma lista: \n",
      "['APOS', 'A', 'SOPA']\n",
      "\n",
      " Juntando as frases\n",
      "APOSASOPA\n",
      "\n",
      " Inverso da palavra:\n",
      "APOSASOPA\n",
      "A frase apos a sopa é um Palíndromo\n"
     ]
    }
   ],
   "source": [
    "frase = str(input(\"Digite uma frase: \").strip())\n",
    "print(frase)\n",
    "\n",
    "print(\"\\n Frase dividida (split) em uma lista: \")\n",
    "frase_analisada1 = frase.upper()\n",
    "frase_analisada2 = frase_analisada1.split()\n",
    "print(frase_analisada2)\n",
    "\n",
    "print(\"\\n Juntando as frases\")\n",
    "frase_junta =\"\".join(frase_analisada2)\n",
    "print(frase_junta)\n",
    "\n",
    "inverso =\"\"\n",
    "\n",
    "'''\n",
    "Frase_junta = PedroVictor tem 11 letras\n",
    "\n",
    "len(frase) = 12 (pois começa no zero)\n",
    "\n",
    "FOR range → (letra[11] ate letra[0] diminuindo em 1 em 1)\n",
    "\n",
    "lembre-se: in range possui um limite maximo, por isso termina em -1 (limite superior)\n",
    "'''\n",
    "\n",
    "for palavra in range(len(frase_junta)-1, -1,-1):\n",
    "    # print(frase_junta[palavra])\n",
    "    inverso =  inverso + frase_junta[palavra]\n",
    "print(\"\\n Inverso da palavra:\")\n",
    "print(inverso)\n",
    "    \n",
    "if inverso == frase_junta:\n",
    "    print(f\"A frase {frase} é um Palíndromo\")\n",
    "else:\n",
    "    print(f\"A frase {frase} NÃO é um Palíndromo\")\n",
    "       \n"
   ]
  },
  {
   "cell_type": "markdown",
   "metadata": {},
   "source": [
    "#### Crie um programa que leia o ano de nascimento de sete pessoas. No final, mostre quantas pessoas ainda não atingiram a maioridade e quantas já são maiores."
   ]
  },
  {
   "cell_type": "code",
   "execution_count": 43,
   "metadata": {},
   "outputs": [
    {
     "name": "stdout",
     "output_type": "stream",
     "text": [
      "O ano atual é 2022 \n"
     ]
    },
    {
     "ename": "ValueError",
     "evalue": "invalid literal for int() with base 10: ''",
     "output_type": "error",
     "traceback": [
      "\u001b[1;31m---------------------------------------------------------------------------\u001b[0m",
      "\u001b[1;31mValueError\u001b[0m                                Traceback (most recent call last)",
      "\u001b[1;32m~\\AppData\\Local\\Temp/ipykernel_5456/2520512171.py\u001b[0m in \u001b[0;36m<module>\u001b[1;34m\u001b[0m\n\u001b[0;32m      7\u001b[0m \u001b[1;33m\u001b[0m\u001b[0m\n\u001b[0;32m      8\u001b[0m \u001b[1;32mfor\u001b[0m \u001b[0mpessoa\u001b[0m \u001b[1;32min\u001b[0m \u001b[0mrange\u001b[0m\u001b[1;33m(\u001b[0m\u001b[1;36m0\u001b[0m\u001b[1;33m,\u001b[0m\u001b[1;36m8\u001b[0m\u001b[1;33m)\u001b[0m\u001b[1;33m:\u001b[0m\u001b[1;33m\u001b[0m\u001b[1;33m\u001b[0m\u001b[0m\n\u001b[1;32m----> 9\u001b[1;33m     \u001b[0mano_nascimento\u001b[0m \u001b[1;33m=\u001b[0m \u001b[0mint\u001b[0m\u001b[1;33m(\u001b[0m\u001b[0minput\u001b[0m\u001b[1;33m(\u001b[0m\u001b[1;34m\"Informe sua idade: \"\u001b[0m\u001b[1;33m)\u001b[0m\u001b[1;33m)\u001b[0m\u001b[1;33m\u001b[0m\u001b[1;33m\u001b[0m\u001b[0m\n\u001b[0m\u001b[0;32m     10\u001b[0m     \u001b[1;31m# print(ano_nascimento)\u001b[0m\u001b[1;33m\u001b[0m\u001b[1;33m\u001b[0m\u001b[0m\n\u001b[0;32m     11\u001b[0m     \u001b[0midade\u001b[0m \u001b[1;33m=\u001b[0m \u001b[0mano_atual\u001b[0m \u001b[1;33m-\u001b[0m \u001b[0mano_nascimento\u001b[0m\u001b[1;33m\u001b[0m\u001b[1;33m\u001b[0m\u001b[0m\n",
      "\u001b[1;31mValueError\u001b[0m: invalid literal for int() with base 10: ''"
     ]
    }
   ],
   "source": [
    "from datetime import date\n",
    "ano_atual = date.today().year\n",
    "print(f\"O ano atual é {ano_atual} \")\n",
    "\n",
    "pessoas_maior_id = 0\n",
    "pessoas_menor_id = 0\n",
    "\n",
    "for pessoa in range(0,8):\n",
    "    ano_nascimento = int(input(\"Informe sua idade: \"))\n",
    "    # print(ano_nascimento)\n",
    "    idade = ano_atual - ano_nascimento\n",
    "    # print(idade)\n",
    "    \n",
    "    if idade >= 18:\n",
    "        pessoas_maior_id = pessoas_maior_id + 1\n",
    "\n",
    "    else:\n",
    "        pessoas_menor_id = pessoas_menor_id + 1\n",
    "print(f\"Existem {pessoas_maior_id} que sao adultas \")\n",
    "print(f\"Existem {pessoas_menor_id} que não sao adultas\")\n",
    "    \n",
    "\n",
    "    \n"
   ]
  },
  {
   "cell_type": "markdown",
   "metadata": {},
   "source": [
    "#### Faça um programa que leia o peso de cinco pessoas. No final, mostre qual foi o maior e o menor peso lidos"
   ]
  },
  {
   "cell_type": "code",
   "execution_count": 46,
   "metadata": {},
   "outputs": [
    {
     "name": "stdout",
     "output_type": "stream",
     "text": [
      "O maior peso foi de 105.0KG \n",
      "O menor peso foi de 60.0KG \n"
     ]
    }
   ],
   "source": [
    "maior_peso = 0\n",
    "menor_peso = 0\n",
    "for pessoa in range(1,6):\n",
    "    peso = float(input(\"Digite o seu peso em [KG] \"))\n",
    "    # print(peso)\n",
    "    if pessoa == 1:\n",
    "        maior_peso = peso\n",
    "        menor_peso = peso\n",
    "    else:\n",
    "        if peso > maior_peso:\n",
    "            maior_peso = peso\n",
    "        if peso < menor_peso:\n",
    "            menor_peso = peso\n",
    "print(f\"O maior peso foi de {maior_peso}KG \")\n",
    "print(f\"O menor peso foi de {menor_peso}KG \")\n",
    "\n"
   ]
  },
  {
   "cell_type": "markdown",
   "metadata": {},
   "source": [
    "<img src= \"assets/fluxo_maior_menor_peso.png\">"
   ]
  },
  {
   "cell_type": "markdown",
   "metadata": {},
   "source": [
    "####  Desenvolva um programa que leia nome, idade e sexo de 4 pessoas No final do programa, mostre:\n",
    " - A média de idade do grupo\n",
    " - Qual é o nome do homem mais velho\n",
    " - Quantas mulheres têm menos de 20 anos"
   ]
  },
  {
   "cell_type": "code",
   "execution_count": null,
   "metadata": {},
   "outputs": [],
   "source": []
  },
  {
   "cell_type": "markdown",
   "metadata": {},
   "source": [
    "<img >"
   ]
  }
 ],
 "metadata": {
  "interpreter": {
   "hash": "74ab7c6ffe6706754a8af46cc4d18eebe476c74ce21a19282f620e1b1e9919fe"
  },
  "kernelspec": {
   "display_name": "Python 3.9.7 64-bit ('base': conda)",
   "language": "python",
   "name": "python3"
  },
  "language_info": {
   "codemirror_mode": {
    "name": "ipython",
    "version": 3
   },
   "file_extension": ".py",
   "mimetype": "text/x-python",
   "name": "python",
   "nbconvert_exporter": "python",
   "pygments_lexer": "ipython3",
   "version": "3.9.7"
  },
  "orig_nbformat": 4
 },
 "nbformat": 4,
 "nbformat_minor": 2
}
