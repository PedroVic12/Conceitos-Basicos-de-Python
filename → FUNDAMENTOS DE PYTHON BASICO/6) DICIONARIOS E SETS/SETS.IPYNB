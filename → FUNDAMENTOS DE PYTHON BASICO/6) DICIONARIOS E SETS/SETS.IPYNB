{
 "cells": [
  {
   "cell_type": "markdown",
   "metadata": {},
   "source": [
    "***\n",
    "# Sets (conjuntos) \n",
    "***\n",
    "\n",
    "Em Python, um set é uma coleção não-ordenada de valores únicos usada para armazenar múltiplos itens em um objeto. São escritos com ``chaves``\n",
    "\n",
    "Características:\n",
    "\n",
    "- Armazena apenas ``não duplicados`` (únicos)\n",
    "<br>\n",
    "<br>\n",
    "- Suporta operações matemáticas sobre ``conjuntos(União,Intersecção, Diferença e etc)``\n",
    "<br>\n",
    "<br>\n",
    "- Não é possível modificar os itens existentes, mas podemos adicionar novos elementos ``(sets são mutáveis)``\n",
    "<br>\n",
    "<br>\n",
    "- Elementos de ``qualquer tipo, não ordenados e não-indexados``."
   ]
  },
  {
   "cell_type": "code",
   "execution_count": 3,
   "metadata": {},
   "outputs": [
    {
     "name": "stdout",
     "output_type": "stream",
     "text": [
      "{'Haumea', 'Ceres', 'Plutão', 'Eris', 'Makemake'}\n"
     ]
    }
   ],
   "source": [
    "planeta_anao = {'Plutão','Ceres','Eris','Haumea','Makemake'}\n",
    "print(planeta_anao)"
   ]
  },
  {
   "cell_type": "code",
   "execution_count": 5,
   "metadata": {},
   "outputs": [
    {
     "data": {
      "text/plain": [
       "5"
      ]
     },
     "execution_count": 5,
     "metadata": {},
     "output_type": "execute_result"
    }
   ],
   "source": [
    "qtd_p = len(planeta_anao)\n",
    "qtd_p"
   ]
  },
  {
   "cell_type": "code",
   "execution_count": 6,
   "metadata": {},
   "outputs": [
    {
     "data": {
      "text/plain": [
       "False"
      ]
     },
     "execution_count": 6,
     "metadata": {},
     "output_type": "execute_result"
    }
   ],
   "source": [
    "'lua' in planeta_anao"
   ]
  },
  {
   "cell_type": "code",
   "execution_count": 7,
   "metadata": {},
   "outputs": [
    {
     "name": "stdout",
     "output_type": "stream",
     "text": [
      "HAUMEA\n",
      "CERES\n",
      "PLUTÃO\n",
      "ERIS\n",
      "MAKEMAKE\n"
     ]
    }
   ],
   "source": [
    "for astro in planeta_anao:\n",
    "    print(astro.upper())"
   ]
  },
  {
   "cell_type": "code",
   "execution_count": 10,
   "metadata": {},
   "outputs": [
    {
     "name": "stdout",
     "output_type": "stream",
     "text": [
      "Lista: ['Lua', 'Venus', 'Sirius', 'Marte', 'Lua']\n",
      "Conjunto: {'Lua', 'Marte', 'Venus', 'Sirius'}\n"
     ]
    }
   ],
   "source": [
    "astros = ['Lua','Venus','Sirius','Marte','Lua']\n",
    "print('Lista:',astros)\n",
    "\n",
    "astros_set = set(astros)\n",
    "print('Conjunto:' ,astros_set)"
   ]
  },
  {
   "cell_type": "code",
   "execution_count": 12,
   "metadata": {},
   "outputs": [
    {
     "name": "stdout",
     "output_type": "stream",
     "text": [
      "True\n"
     ]
    }
   ],
   "source": [
    "p1 = {'Terra','Venus','Mercurio','Marte'}\n",
    "p2 = {'Terra','Venus','Mercurio','Marte','Saturno'}\n",
    "\n",
    "print(p1 != p2)"
   ]
  },
  {
   "cell_type": "code",
   "execution_count": 14,
   "metadata": {},
   "outputs": [
    {
     "data": {
      "text/plain": [
       "{'Jupiter',\n",
       " 'Marte',\n",
       " 'Mercurio',\n",
       " 'Netuno',\n",
       " 'Saturno',\n",
       " 'Terra',\n",
       " 'Urano',\n",
       " 'Venus'}"
      ]
     },
     "execution_count": 14,
     "metadata": {},
     "output_type": "execute_result"
    }
   ],
   "source": [
    "p1 = {'Terra','Venus','Mercurio','Marte','Netuno'}\n",
    "p2 = {'Terra','Jupiter','Urano','Marte','Saturno'}\n",
    "\n",
    "p1.union(p2)\n",
    "p1 | p2 #*União\n"
   ]
  },
  {
   "cell_type": "code",
   "execution_count": 15,
   "metadata": {},
   "outputs": [
    {
     "data": {
      "text/plain": [
       "{'Marte', 'Terra'}"
      ]
     },
     "execution_count": 15,
     "metadata": {},
     "output_type": "execute_result"
    }
   ],
   "source": [
    "p1.intersection(p2)\n",
    "p1 & p2 #*Interseção "
   ]
  },
  {
   "cell_type": "code",
   "execution_count": 16,
   "metadata": {},
   "outputs": [
    {
     "data": {
      "text/plain": [
       "{'Mercurio', 'Netuno', 'Venus'}"
      ]
     },
     "execution_count": 16,
     "metadata": {},
     "output_type": "execute_result"
    }
   ],
   "source": [
    "p1.difference(p2)\n",
    "p1 - p2 #*Diferença"
   ]
  },
  {
   "cell_type": "code",
   "execution_count": 19,
   "metadata": {},
   "outputs": [
    {
     "name": "stdout",
     "output_type": "stream",
     "text": [
      "{'Venus', 'Netuno', 'Marte', 'Terra', 'Mercurio'} {'Urano', 'Saturno', 'Jupiter', 'Marte', 'Terra'}\n"
     ]
    },
    {
     "data": {
      "text/plain": [
       "{'Jupiter', 'Mercurio', 'Netuno', 'Saturno', 'Urano', 'Venus'}"
      ]
     },
     "execution_count": 19,
     "metadata": {},
     "output_type": "execute_result"
    }
   ],
   "source": [
    "print(p1,p2)\n",
    "p1.symmetric_difference(p2)\n",
    "p1 ^ p2 #*Diferença simétrica"
   ]
  },
  {
   "cell_type": "code",
   "execution_count": 22,
   "metadata": {},
   "outputs": [
    {
     "name": "stdout",
     "output_type": "stream",
     "text": [
      "False\n"
     ]
    },
    {
     "data": {
      "text/plain": [
       "True"
      ]
     },
     "execution_count": 22,
     "metadata": {},
     "output_type": "execute_result"
    }
   ],
   "source": [
    "p1 = {'Terra','Venus','Mercurio','Marte','Netuno'}\n",
    "p2 = {'Terra','Jupiter','Urano','Marte','Saturno'}\n",
    "p3 = {'Jupiter','Urano','Saturno'}\n",
    "\n",
    "print(p1.isdisjoint(p2)) #* Eles NÃO tem elementos em comum?\n",
    "p1.isdisjoint(p3)"
   ]
  },
  {
   "cell_type": "markdown",
   "metadata": {},
   "source": [
    "## Métodos dos Sets\n",
    "\n",
    "<img src='assets\\dicionario.png'>"
   ]
  }
 ],
 "metadata": {
  "interpreter": {
   "hash": "9f27538263f2b06562ba4c3e17832466b72ccd68c529f4ccd732119dafa958f1"
  },
  "kernelspec": {
   "display_name": "Python 3.10.2 64-bit",
   "language": "python",
   "name": "python3"
  },
  "language_info": {
   "codemirror_mode": {
    "name": "ipython",
    "version": 3
   },
   "file_extension": ".py",
   "mimetype": "text/x-python",
   "name": "python",
   "nbconvert_exporter": "python",
   "pygments_lexer": "ipython3",
   "version": "3.10.2"
  },
  "orig_nbformat": 4
 },
 "nbformat": 4,
 "nbformat_minor": 2
}
