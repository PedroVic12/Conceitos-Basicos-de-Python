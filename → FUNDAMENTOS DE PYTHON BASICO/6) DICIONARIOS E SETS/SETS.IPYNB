{
 "cells": [
  {
   "cell_type": "markdown",
   "metadata": {},
   "source": [
    "***\n",
    "# <font color='green'> Sets (conjuntos) </font>\n",
    "***\n",
    "\n",
    "Em Python, um set é uma coleção não-ordenada de valores únicos usada para armazenar múltiplos itens em um objeto. São escritos com ``chaves``\n",
    "\n",
    "Características:\n",
    "\n",
    "- Armazena apenas ``não duplicados`` (únicos)\n",
    "<br>\n",
    "<br>\n",
    "- Suporta operações matemáticas sobre ``conjuntos(União,Intersecção, Diferença e etc)``\n",
    "<br>\n",
    "<br>\n",
    "- Não é possível modificar os itens existentes, mas podemos adicionar novos elementos ``(sets são mutáveis)``\n",
    "<br>\n",
    "<br>\n",
    "- Elementos de ``qualquer tipo, não ordenados e não-indexados``."
   ]
  },
  {
   "cell_type": "code",
   "execution_count": null,
   "metadata": {},
   "outputs": [],
   "source": []
  }
 ],
 "metadata": {
  "interpreter": {
   "hash": "9f27538263f2b06562ba4c3e17832466b72ccd68c529f4ccd732119dafa958f1"
  },
  "kernelspec": {
   "display_name": "Python 3.10.2 64-bit",
   "language": "python",
   "name": "python3"
  },
  "language_info": {
   "name": "python",
   "version": "3.10.2"
  },
  "orig_nbformat": 4
 },
 "nbformat": 4,
 "nbformat_minor": 2
}
