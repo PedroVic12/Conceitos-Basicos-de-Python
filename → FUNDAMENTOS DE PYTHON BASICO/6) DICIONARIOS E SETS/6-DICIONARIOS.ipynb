{
 "cells": [
  {
   "cell_type": "markdown",
   "metadata": {},
   "source": [
    "***\n",
    "# Dicionários\n",
    "***\n",
    "\n",
    "- Não são propriamente sequencias, mas sim, ``mapeamentos``\n",
    "\n",
    "- Mapeamentos também são coleções de objetos\n",
    "\n",
    "- Os objetos são armazenados por ``chaves`` em vez de posição relativa\n",
    "\n",
    "- Simplesmente mapeiam chaves valores associados\n",
    "\n",
    "- São mutáveis.\n",
    "\n",
    "- Consistem em uma série de pares `Chave:Valor`\n",
    "\n",
    "- São uteis quando precisamos associar um conjunto de valores a chaves - para descrever as propriedades de algo, por exemplo"
   ]
  },
  {
   "cell_type": "code",
   "execution_count": 59,
   "metadata": {},
   "outputs": [
    {
     "data": {
      "text/plain": [
       "{'produto': 'tigela', 'cor': 'azul', 'preço': 14}"
      ]
     },
     "execution_count": 59,
     "metadata": {},
     "output_type": "execute_result"
    }
   ],
   "source": [
    "dic = {'produto': 'tigela',\n",
    "        'cor':'azul',\n",
    "        'preço': 14}\n",
    "dic"
   ]
  },
  {
   "cell_type": "markdown",
   "metadata": {},
   "source": [
    " - Podemos indexar um dicionario para obter e alterar os valores associados as chaves \n",
    "\n",
    "- Porem podemos usar como 'index' uma chave, não uma posição relativa"
   ]
  },
  {
   "cell_type": "code",
   "execution_count": 60,
   "metadata": {},
   "outputs": [
    {
     "data": {
      "text/plain": [
       "'azul'"
      ]
     },
     "execution_count": 60,
     "metadata": {},
     "output_type": "execute_result"
    }
   ],
   "source": [
    "dic['cor']"
   ]
  },
  {
   "cell_type": "code",
   "execution_count": 61,
   "metadata": {},
   "outputs": [
    {
     "name": "stdout",
     "output_type": "stream",
     "text": [
      "{'produto': 'tigela', 'cor': 'azul', 'preço': 15}\n"
     ]
    }
   ],
   "source": [
    "dic['preço'] += 1\n",
    "print(dic)"
   ]
  },
  {
   "cell_type": "markdown",
   "metadata": {},
   "source": [
    "### 1) Criar dicionários vazios:"
   ]
  },
  {
   "cell_type": "code",
   "execution_count": 62,
   "metadata": {},
   "outputs": [
    {
     "data": {
      "text/plain": [
       "{'Nome': 'Pedro', 'sobrenome': 'Victor', 'idade': 23}"
      ]
     },
     "execution_count": 62,
     "metadata": {},
     "output_type": "execute_result"
    }
   ],
   "source": [
    "d = {}\n",
    "d['Nome'] = 'Pedro'\n",
    "d['sobrenome'] = 'Victor'\n",
    "d['idade'] = 23\n",
    "d"
   ]
  },
  {
   "cell_type": "markdown",
   "metadata": {},
   "source": [
    "### 2) Aninhamento em dicionários\n",
    "- Podemos criar uma estrutura de dicionário por meio de aninhamento para que haja suporte a múltiplas partes, usando por exemplo listas ou outros dicionario como itens"
   ]
  },
  {
   "cell_type": "code",
   "execution_count": 63,
   "metadata": {},
   "outputs": [
    {
     "name": "stdout",
     "output_type": "stream",
     "text": [
      "{'nome': {'primeiro': 'Pedro', 'ultimo': 'Victor'}, 'conhecimentos': ['Python', 'HTML', 'CSS'], 'idade': 23}\n"
     ]
    },
    {
     "data": {
      "text/plain": [
       "{'primeiro': 'Pedro', 'ultimo': 'Victor'}"
      ]
     },
     "execution_count": 63,
     "metadata": {},
     "output_type": "execute_result"
    }
   ],
   "source": [
    "r = {'nome' : {'primeiro' : 'Pedro',\n",
    "                'ultimo' : 'Victor'},\n",
    "\n",
    "    'conhecimentos' : ['Python','HTML','CSS'],\n",
    "    'idade': 23 }\n",
    "print(r)\n",
    "r['nome']"
   ]
  },
  {
   "cell_type": "code",
   "execution_count": 64,
   "metadata": {},
   "outputs": [
    {
     "data": {
      "text/plain": [
       "'Victor'"
      ]
     },
     "execution_count": 64,
     "metadata": {},
     "output_type": "execute_result"
    }
   ],
   "source": [
    "# Retorna o ultimo nome\n",
    "r['nome']['ultimo']"
   ]
  },
  {
   "cell_type": "code",
   "execution_count": 65,
   "metadata": {},
   "outputs": [
    {
     "data": {
      "text/plain": [
       "['Python', 'HTML', 'CSS']"
      ]
     },
     "execution_count": 65,
     "metadata": {},
     "output_type": "execute_result"
    }
   ],
   "source": [
    "# Retorna a lista completa\n",
    "r['conhecimentos']"
   ]
  },
  {
   "cell_type": "code",
   "execution_count": 66,
   "metadata": {},
   "outputs": [
    {
     "data": {
      "text/plain": [
       "'CSS'"
      ]
     },
     "execution_count": 66,
     "metadata": {},
     "output_type": "execute_result"
    }
   ],
   "source": [
    "# Retorna o ultimo elemento da lista\n",
    "r['conhecimentos'][-1]"
   ]
  },
  {
   "cell_type": "code",
   "execution_count": 67,
   "metadata": {},
   "outputs": [
    {
     "data": {
      "text/plain": [
       "['Python', 'HTML', 'CSS', 'Pandas']"
      ]
     },
     "execution_count": 67,
     "metadata": {},
     "output_type": "execute_result"
    }
   ],
   "source": [
    "r['conhecimentos'].append('Pandas')\n",
    "r['conhecimentos']"
   ]
  },
  {
   "cell_type": "markdown",
   "metadata": {},
   "source": [
    "### 3) Ordenação de Dicionários\n",
    "\n",
    "- Dicionários não sao sequencias, logo nao mantém nenhuma ordem especifica de seus objetos\n",
    "\n",
    "- Portanto, se voce imprimir os itens de um dicionario, eles podem aparecer em qualquer ordem, sem ordenação\n",
    "\n",
    "- Mas é possível exibir os itens de um dicionario em ordem, usando alguns metodos interessantes."
   ]
  },
  {
   "cell_type": "markdown",
   "metadata": {},
   "source": [
    "#### Uma solução é obter uma lista com o metodo ``keys``, ordenar a lista com o ``sort`` e retornar o resultado com um loop ``for``"
   ]
  },
  {
   "cell_type": "code",
   "execution_count": 68,
   "metadata": {},
   "outputs": [
    {
     "name": "stdout",
     "output_type": "stream",
     "text": [
      "Dicionario ordenado em forma de lista ['a', 'b', 'c', 'd']\n",
      "a = 1\n",
      "b = 2\n",
      "c = 3\n",
      "d = 4\n"
     ]
    }
   ],
   "source": [
    "d = {'b' : 2,'a' : 1, 'd' : 4, 'c' : 3}\n",
    "\n",
    "ordenada = list(d.keys())\n",
    "ordenada.sort()\n",
    "print('Dicionario ordenado em forma de lista', ordenada)\n",
    "\n",
    "for key in ordenada:\n",
    "    print(key,'=', d[key])"
   ]
  },
  {
   "cell_type": "markdown",
   "metadata": {},
   "source": [
    "#### Outra forma é utilizando o `sorted`"
   ]
  },
  {
   "cell_type": "code",
   "execution_count": 69,
   "metadata": {},
   "outputs": [
    {
     "name": "stdout",
     "output_type": "stream",
     "text": [
      "a = 1\n",
      "b = 2\n",
      "c = 3\n",
      "d = 4\n"
     ]
    }
   ],
   "source": [
    "d = {'b' : 2,'a' : 1, 'd' : 4, 'c' : 3}\n",
    "\n",
    "for key in sorted(d):\n",
    "    print(key,'=',d[key])"
   ]
  },
  {
   "cell_type": "markdown",
   "metadata": {},
   "source": [
    "### 4) Metodos para dicionários:"
   ]
  },
  {
   "cell_type": "code",
   "execution_count": 72,
   "metadata": {},
   "outputs": [
    {
     "name": "stdout",
     "output_type": "stream",
     "text": [
      "{'I': 1, 'II': 2, 'III': 3, 'IV': 4}\n"
     ]
    },
    {
     "data": {
      "text/plain": [
       "3"
      ]
     },
     "execution_count": 72,
     "metadata": {},
     "output_type": "execute_result"
    }
   ],
   "source": [
    "alg_romanos = {'I':1,\n",
    "             'II':2, \n",
    "             'III':3, \n",
    "             'IV': 4}\n",
    "print(alg_romanos)             \n",
    "alg_romanos['III']"
   ]
  },
  {
   "cell_type": "markdown",
   "metadata": {},
   "source": [
    "``.items()`` → Retorna os itens do dicionário"
   ]
  },
  {
   "cell_type": "code",
   "execution_count": 75,
   "metadata": {},
   "outputs": [
    {
     "data": {
      "text/plain": [
       "[('I', 1), ('II', 2), ('III', 3), ('IV', 4)]"
      ]
     },
     "execution_count": 75,
     "metadata": {},
     "output_type": "execute_result"
    }
   ],
   "source": [
    " #* Retorna uma tupla!\n",
    "list(alg_romanos.items())"
   ]
  },
  {
   "cell_type": "code",
   "execution_count": 81,
   "metadata": {},
   "outputs": [
    {
     "data": {
      "text/plain": [
       "('II', 2)"
      ]
     },
     "execution_count": 81,
     "metadata": {},
     "output_type": "execute_result"
    }
   ],
   "source": [
    "list(alg_romanos.items())[1]"
   ]
  },
  {
   "cell_type": "code",
   "execution_count": 82,
   "metadata": {},
   "outputs": [
    {
     "data": {
      "text/plain": [
       "2"
      ]
     },
     "execution_count": 82,
     "metadata": {},
     "output_type": "execute_result"
    }
   ],
   "source": [
    "list(alg_romanos.items())[1][1]"
   ]
  },
  {
   "cell_type": "markdown",
   "metadata": {},
   "source": [
    "``.keys()`` → Retorna as chaves do dicionário"
   ]
  },
  {
   "cell_type": "code",
   "execution_count": 84,
   "metadata": {},
   "outputs": [
    {
     "data": {
      "text/plain": [
       "['I', 'II', 'III', 'IV']"
      ]
     },
     "execution_count": 84,
     "metadata": {},
     "output_type": "execute_result"
    }
   ],
   "source": [
    "list(alg_romanos.keys())"
   ]
  },
  {
   "cell_type": "markdown",
   "metadata": {},
   "source": [
    "``.values()``→\tRetorna os valores do dicionário"
   ]
  },
  {
   "cell_type": "code",
   "execution_count": 85,
   "metadata": {},
   "outputs": [
    {
     "data": {
      "text/plain": [
       "[1, 2, 3, 4]"
      ]
     },
     "execution_count": 85,
     "metadata": {},
     "output_type": "execute_result"
    }
   ],
   "source": [
    "list(alg_romanos.values())"
   ]
  },
  {
   "cell_type": "markdown",
   "metadata": {},
   "source": [
    "``.pop(key)``→\tRemove a chave especificada e retorna o valor do item"
   ]
  },
  {
   "cell_type": "code",
   "execution_count": 71,
   "metadata": {},
   "outputs": [
    {
     "name": "stdout",
     "output_type": "stream",
     "text": [
      "Retirado o numero IV =  4\n"
     ]
    },
    {
     "data": {
      "text/plain": [
       "{'I': 1, 'II': 2, 'III': 3}"
      ]
     },
     "execution_count": 71,
     "metadata": {},
     "output_type": "execute_result"
    }
   ],
   "source": [
    "a = alg_romanos.pop('IV')\n",
    "print('Retirado o numero IV = ', a)\n",
    "alg_romanos"
   ]
  },
  {
   "cell_type": "markdown",
   "metadata": {},
   "source": [
    "``.copy()``→\tRetorna uma cópia"
   ]
  },
  {
   "cell_type": "markdown",
   "metadata": {},
   "source": [
    "``.clear()``→\tRemove os itens"
   ]
  },
  {
   "cell_type": "markdown",
   "metadata": {},
   "source": [
    "``.get(key)``→\tRetornas a variáveis em key"
   ]
  },
  {
   "cell_type": "code",
   "execution_count": 92,
   "metadata": {},
   "outputs": [
    {
     "name": "stdout",
     "output_type": "stream",
     "text": [
      "1\n",
      "1\n",
      "Ambos retornam a key, mas dependendo, uma hora vai ser melhor um ou outro.\n"
     ]
    }
   ],
   "source": [
    "print( alg_romanos.get('I') ) \n",
    "\n",
    "print(alg_romanos['I'])\n",
    "\n",
    "print('Ambos retornam a key, mas dependendo, uma hora vai ser melhor um ou outro.')"
   ]
  },
  {
   "cell_type": "markdown",
   "metadata": {},
   "source": [
    "### Exemplo:\n",
    "Crie um dicionário que correlacione as seguintes listas:\n",
    "\n",
    "- valores = [1,2,3,4,5]\n",
    "- keys = ['a','b','c','d','e']\n",
    "\n",
    "Utilize um loop.\n",
    "\n",
    " partir do dicionário criado no exercício anterior, recrie as listas keys e valores."
   ]
  },
  {
   "cell_type": "code",
   "execution_count": 10,
   "metadata": {},
   "outputs": [
    {
     "name": "stdout",
     "output_type": "stream",
     "text": [
      "{'a': 1, 'b': 2, 'c': 3, 'd': 4, 'e': 5}\n",
      "\n",
      "[1, 2, 3, 4, 5]\n"
     ]
    },
    {
     "data": {
      "text/plain": [
       "['a', 'b', 'c', 'd', 'e']"
      ]
     },
     "execution_count": 10,
     "metadata": {},
     "output_type": "execute_result"
    }
   ],
   "source": [
    "dic = {'a':1,\n",
    "       'b':2,\n",
    "       'c':3,\n",
    "       'd':4,\n",
    "       'e':5}\n",
    "dic\n",
    "\n",
    "#! Criando com um loop\n",
    "valores = [1,2,3,4,5]\n",
    "keys = ['a','b','c','d','e']\n",
    "dic1 = {}\n",
    "for valor in range(5):\n",
    "      dic1[keys[valor]] = valores[valor]\n",
    "print(dic1)\n",
    "print()\n",
    "\n",
    "#* Voltando para as listas\n",
    "lista_valores = list(dic1.values())\n",
    "print(lista_valores)\n",
    "\n",
    "lista_keys = list(dic1.keys())\n",
    "lista_keys"
   ]
  }
 ],
 "metadata": {
  "interpreter": {
   "hash": "74ab7c6ffe6706754a8af46cc4d18eebe476c74ce21a19282f620e1b1e9919fe"
  },
  "kernelspec": {
   "display_name": "Python 3.9.7 ('base')",
   "language": "python",
   "name": "python3"
  },
  "language_info": {
   "codemirror_mode": {
    "name": "ipython",
    "version": 3
   },
   "file_extension": ".py",
   "mimetype": "text/x-python",
   "name": "python",
   "nbconvert_exporter": "python",
   "pygments_lexer": "ipython3",
   "version": "3.9.7"
  },
  "orig_nbformat": 4
 },
 "nbformat": 4,
 "nbformat_minor": 2
}
