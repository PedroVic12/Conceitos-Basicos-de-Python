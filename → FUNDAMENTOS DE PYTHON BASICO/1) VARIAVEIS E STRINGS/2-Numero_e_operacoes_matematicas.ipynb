{
 "cells": [
  {
   "cell_type": "markdown",
   "metadata": {},
   "source": [
    "***\n",
    "# Variáveis, Números e Operações Matemáticas\n",
    "***\n",
    "\n",
    "`Variaveis` são pequenos espaços de memória, utilizados para armazenar e manipular dados.\n",
    "\n",
    "Em Python, os tipos de dados básicos são: tipo inteiro (armazena números inteiros), tipo float (armazena \n",
    "números em formato decimal), e tipo string (armazena um conjunto de caracteres). \n",
    "\n",
    "Cada variável pode armazenar apenas um tipo de dado a cada instante.\n"
   ]
  },
  {
   "cell_type": "markdown",
   "metadata": {},
   "source": [
    "## Operações Matematicas \n",
    "\n",
    "> Soma: `+`\n",
    "\n",
    "> Subtração: `-`\n",
    "\n",
    "> Multiplicação: `*`\n",
    "\n",
    "> Divisão: `/`\n",
    "\n",
    "> Potência: `**`\n",
    "\n",
    "> Divisão inteira: `//`\n",
    "\n",
    "> Resto da divisão: `%`"
   ]
  },
  {
   "cell_type": "markdown",
   "metadata": {},
   "source": [
    "### Operaçoes Basicas"
   ]
  },
  {
   "cell_type": "code",
   "execution_count": 1,
   "metadata": {},
   "outputs": [
    {
     "name": "stdout",
     "output_type": "stream",
     "text": [
      "Estou no linux\n"
     ]
    }
   ],
   "source": [
    "# Soma \n",
    "4 + 4 \n",
    "\n",
    "print('Estou no linux')"
   ]
  },
  {
   "cell_type": "code",
   "execution_count": 3,
   "metadata": {},
   "outputs": [
    {
     "data": {
      "text/plain": [
       "1"
      ]
     },
     "execution_count": 3,
     "metadata": {},
     "output_type": "execute_result"
    }
   ],
   "source": [
    "# Subtração\n",
    "4 - 3"
   ]
  },
  {
   "cell_type": "code",
   "execution_count": 4,
   "metadata": {},
   "outputs": [
    {
     "data": {
      "text/plain": [
       "9"
      ]
     },
     "execution_count": 4,
     "metadata": {},
     "output_type": "execute_result"
    }
   ],
   "source": [
    "# Multiplicação\n",
    "3 * 3"
   ]
  },
  {
   "cell_type": "code",
   "execution_count": 1,
   "metadata": {},
   "outputs": [
    {
     "data": {
      "text/plain": [
       "1.5"
      ]
     },
     "execution_count": 1,
     "metadata": {},
     "output_type": "execute_result"
    }
   ],
   "source": [
    "# Divisão\n",
    "# Resultado é um número float\n",
    "3 / 2"
   ]
  },
  {
   "cell_type": "code",
   "execution_count": 8,
   "metadata": {},
   "outputs": [
    {
     "data": {
      "text/plain": [
       "1"
      ]
     },
     "execution_count": 8,
     "metadata": {},
     "output_type": "execute_result"
    }
   ],
   "source": [
    "# Resultado é um número inteiro\n",
    "3 // 2"
   ]
  },
  {
   "cell_type": "code",
   "execution_count": 6,
   "metadata": {},
   "outputs": [
    {
     "data": {
      "text/plain": [
       "16"
      ]
     },
     "execution_count": 6,
     "metadata": {},
     "output_type": "execute_result"
    }
   ],
   "source": [
    "# Potência\n",
    "4 ** 2  "
   ]
  },
  {
   "cell_type": "code",
   "execution_count": 7,
   "metadata": {},
   "outputs": [
    {
     "data": {
      "text/plain": [
       "1"
      ]
     },
     "execution_count": 7,
     "metadata": {},
     "output_type": "execute_result"
    }
   ],
   "source": [
    "# Módulo\n",
    "10 % 3  "
   ]
  },
  {
   "cell_type": "markdown",
   "metadata": {},
   "source": [
    "### <font color = \"red\"> → Funções abs, round e pow"
   ]
  },
  {
   "cell_type": "code",
   "execution_count": 13,
   "metadata": {},
   "outputs": [
    {
     "data": {
      "text/plain": [
       "8"
      ]
     },
     "execution_count": 13,
     "metadata": {},
     "output_type": "execute_result"
    }
   ],
   "source": [
    "# Retorna o valor absoluto\n",
    "abs(-8)\n"
   ]
  },
  {
   "cell_type": "code",
   "execution_count": 14,
   "metadata": {},
   "outputs": [
    {
     "data": {
      "text/plain": [
       "3.14"
      ]
     },
     "execution_count": 14,
     "metadata": {},
     "output_type": "execute_result"
    }
   ],
   "source": [
    "# Retorna o valor com arredondamento\n",
    "round(3.14151922,2)"
   ]
  },
  {
   "cell_type": "code",
   "execution_count": 15,
   "metadata": {},
   "outputs": [
    {
     "data": {
      "text/plain": [
       "16"
      ]
     },
     "execution_count": 15,
     "metadata": {},
     "output_type": "execute_result"
    }
   ],
   "source": [
    "# Potência\n",
    "pow(4,2)"
   ]
  },
  {
   "cell_type": "code",
   "execution_count": 16,
   "metadata": {},
   "outputs": [
    {
     "data": {
      "text/plain": [
       "125"
      ]
     },
     "execution_count": 16,
     "metadata": {},
     "output_type": "execute_result"
    }
   ],
   "source": [
    "# Potência\n",
    "pow(5,3)"
   ]
  },
  {
   "cell_type": "markdown",
   "metadata": {},
   "source": [
    "### Hexadecimal e Binário"
   ]
  },
  {
   "cell_type": "code",
   "execution_count": 9,
   "metadata": {},
   "outputs": [
    {
     "data": {
      "text/plain": [
       "'0x18a'"
      ]
     },
     "execution_count": 9,
     "metadata": {},
     "output_type": "execute_result"
    }
   ],
   "source": [
    "hex(394)"
   ]
  },
  {
   "cell_type": "code",
   "execution_count": 10,
   "metadata": {},
   "outputs": [
    {
     "data": {
      "text/plain": [
       "'0xd9'"
      ]
     },
     "execution_count": 10,
     "metadata": {},
     "output_type": "execute_result"
    }
   ],
   "source": [
    "hex(217)"
   ]
  },
  {
   "cell_type": "code",
   "execution_count": 11,
   "metadata": {},
   "outputs": [
    {
     "data": {
      "text/plain": [
       "'0b100011110'"
      ]
     },
     "execution_count": 11,
     "metadata": {},
     "output_type": "execute_result"
    }
   ],
   "source": [
    "bin(286)"
   ]
  },
  {
   "cell_type": "code",
   "execution_count": 12,
   "metadata": {},
   "outputs": [
    {
     "data": {
      "text/plain": [
       "'0b110000110'"
      ]
     },
     "execution_count": 12,
     "metadata": {},
     "output_type": "execute_result"
    }
   ],
   "source": [
    "bin(390)"
   ]
  },
  {
   "cell_type": "markdown",
   "metadata": {},
   "source": [
    "## Ordem de Precedência Aritmética\n"
   ]
  },
  {
   "cell_type": "markdown",
   "metadata": {},
   "source": [
    "> 1) Parênteses: `( )`\n",
    "\n",
    "> 2) Potência: `**`\n",
    "\n",
    "> 3) Multiplicação, Divisão, Resto, Divisão inteira: `*`, `/`, `%`, `//`\n",
    "\n",
    "> 4) Soma e Subtração: `+`, `-`"
   ]
  },
  {
   "cell_type": "markdown",
   "metadata": {},
   "source": [
    "## Personalizando ainda mais o Format "
   ]
  },
  {
   "cell_type": "markdown",
   "metadata": {},
   "source": [
    "Dentro da máscara temos:\n",
    "\n",
    "{0:10.2f}\n",
    "\n",
    "> `0` -> posição que a variável aparece dentro do .format( ). [pode ser deixado em branco]\n",
    "\n",
    "> `:` -> separador a partir dele começamos as formatações\n",
    "\n",
    "> `10` -> separamos 10 casas (caracteres) dentro do print para mostrarmos o número\n",
    "\n",
    "> `.` -> a partir do ponto, estamos formatando os valores após a vírgula decimal\n",
    "\n",
    "> `2` -> qtd de casas decimais\n",
    "\n",
    "> `f` -> para float ou d -> para inteiro\n",
    "\n",
    "<h3> Exemplo </h3>\n",
    "\n",
    "plote as variáveis abaixo:\n",
    "\n",
    "a = 245\n",
    "\n",
    "b = 2.835895\n"
   ]
  },
  {
   "cell_type": "code",
   "execution_count": 22,
   "metadata": {},
   "outputs": [
    {
     "name": "stdout",
     "output_type": "stream",
     "text": [
      "| 245 | e | 2.835895 |\n",
      "| 245 | e | 2.84 |\n"
     ]
    }
   ],
   "source": [
    "a = 245\n",
    "b = 2.835895\n",
    "\n",
    "print(f\"| {a} | e | {b} |\")\n",
    "print(f\"| {a} | e | {b:.2f} |\")"
   ]
  },
  {
   "cell_type": "markdown",
   "metadata": {},
   "source": [
    "# EXERICIOS:"
   ]
  },
  {
   "cell_type": "markdown",
   "metadata": {},
   "source": [
    "## Exercício 1:\n",
    "\n",
    "Vamos testar os comportamento dos diferentes operadores aritiméticos. Para isso, vamos montar uma calculadora, eai? bora, vamos nessa?\n",
    "\n",
    "Criar variaveis n1 e n2 que receberam inputs do tipo INT do usuario. (não se esqueça de tratar o que tá sendo recebido rsrs)\n",
    "Exibir o resultado da Adição dessas 2 variaveis.\n",
    "Exibir o resultado da Subtração dessas variaveis.\n",
    "Exibir o resultado da Multiplicação dessa variaveis.\n",
    "Exibir o resultado da Divisão dessas variaveis.\n",
    "Exibir o resultado do Módulo (Resto da divisão) entre essas variaveis.\n",
    "Exibir o resultado de uma variavel Exponenciando a outra.\n",
    "[ ]\n"
   ]
  },
  {
   "cell_type": "markdown",
   "metadata": {},
   "source": [
    "Resultado esperado: <font color=\"yellow\">\n",
    "\n",
    "n1: 7\n",
    "\n",
    "n2: 5\n",
    "\n",
    "12\n",
    "\n",
    "2\n",
    "\n",
    "35\n",
    "\n",
    "1.4\n",
    "\n",
    "2\n",
    "\n",
    "160897"
   ]
  },
  {
   "cell_type": "markdown",
   "metadata": {},
   "source": [
    "## Exercicio 2)\n",
    "Faça um programa no qual o usuário digite a distância percorrida por um carro e a qtd de litros de combustível gasto.\n",
    "\n",
    "Calcule e mostre para o usuário quantos km/l o seu carro faz.\n",
    "\n",
    "\n"
   ]
  },
  {
   "cell_type": "markdown",
   "metadata": {},
   "source": [
    "Resultado esperado: <font color = yellow>\n",
    "\n",
    "Quantos km voce rodou com seu carro? 200\n",
    "\n",
    "Quantos litros de combustivel foi gasto? 12\n",
    "\n",
    "O seu carro faz: 16.67 km/L"
   ]
  },
  {
   "cell_type": "markdown",
   "metadata": {},
   "source": []
  },
  {
   "cell_type": "markdown",
   "metadata": {},
   "source": [
    "## Exercicio 3) \n",
    "\n",
    "Escreva um programa que receba 2 valores do tipo inteiro x e y, e calcule o valor de z:\n",
    "\n",
    "$ z = (𝑥2+ 𝑦2)/(𝑥−𝑦)2 $\n"
   ]
  },
  {
   "cell_type": "code",
   "execution_count": null,
   "metadata": {},
   "outputs": [],
   "source": []
  },
  {
   "cell_type": "code",
   "execution_count": 50,
   "metadata": {},
   "outputs": [
    {
     "name": "stdout",
     "output_type": "stream",
     "text": [
      "Numero de termos 6 \n",
      "0\n",
      "1\n",
      "2\n",
      "3\n",
      "5\n"
     ]
    }
   ],
   "source": [
    "# Fibonacci = F(n) = F(n-1) + F(n-2)\n",
    "# 0 1 1 2 3 5\n",
    "n = int(input(\"numero\"))\n",
    "def fib(n):\n",
    "    print(f\"Numero de termos {n} \")\n",
    "    t0 = 0\n",
    "    t1 = 1\n",
    "    i = 3\n",
    "    print(t0)\n",
    "    while i <= n:\n",
    "        t2 = t0 + t1\n",
    "        t0 = t1\n",
    "        t1 = t2\n",
    "        i +=1\n",
    "        print(t2)\n",
    "fib(n)\n",
    "\n"
   ]
  },
  {
   "cell_type": "markdown",
   "metadata": {},
   "source": [
    "## Exercicio 4)\n",
    "\n",
    " Escreva um programa que receba o salário de um funcionário (float), e retorne o resultado do\n",
    "novo salário com reajuste de 35%."
   ]
  },
  {
   "cell_type": "code",
   "execution_count": null,
   "metadata": {},
   "outputs": [],
   "source": []
  }
 ],
 "metadata": {
  "interpreter": {
   "hash": "74ab7c6ffe6706754a8af46cc4d18eebe476c74ce21a19282f620e1b1e9919fe"
  },
  "kernelspec": {
   "display_name": "Python 3 (ipykernel)",
   "language": "python",
   "name": "python3"
  },
  "language_info": {
   "codemirror_mode": {
    "name": "ipython",
    "version": 3
   },
   "file_extension": ".py",
   "mimetype": "text/x-python",
   "name": "python",
   "nbconvert_exporter": "python",
   "pygments_lexer": "ipython3",
   "version": "3.9.7"
  },
  "orig_nbformat": 4
 },
 "nbformat": 4,
 "nbformat_minor": 2
}
