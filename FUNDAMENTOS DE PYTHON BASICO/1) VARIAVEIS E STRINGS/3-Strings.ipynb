{
 "cells": [
  {
   "cell_type": "markdown",
   "metadata": {},
   "source": [
    "***\n",
    "# VARIÁVEIS\n",
    "***"
   ]
  },
  {
   "cell_type": "markdown",
   "metadata": {},
   "source": [
    "``Variáveis`` são pequenos espaços de memória, utilizados para armazenar e manipular dados. Em \n",
    "``Python``, os tipos de dados básicos são: tipo ``int`` (armazena números inteiros), tipo ``float`` (armazena números em formato decimal), e tipo ``string`` (armazena um conjunto de caracteres). Cada variável pode armazenar apenas um tipo de dado a cada instante."
   ]
  },
  {
   "cell_type": "code",
   "execution_count": 3,
   "metadata": {},
   "outputs": [
    {
     "name": "stdout",
     "output_type": "stream",
     "text": [
      "O funcionario Pedro Victor trabalha na empresa IBM\n",
      "Possui 250 funcionarios \n",
      "O seu salatio atual é 1500.0 \n",
      "\n",
      "Verifique os tipos de dados abaixo:\n",
      " \n",
      "O tipo de dado da variavel Pedro Victor é: <class 'str'>\n",
      "O tipo de dado da variavel IBM é: <class 'str'>\n",
      "O tipo de dado da variavel 250 é: <class 'int'>\n",
      "O tipo de dado da variavel 1500.0 é: <class 'float'>\n"
     ]
    }
   ],
   "source": [
    "nome = input(\"Digite o nome de um funcionario: \")\n",
    "empresa = input(\"Digite a instituição: \")\n",
    "qtd_funcionarios = int(input(\"Difite a quantidade de funcionarios:\"))\n",
    "media_mensalidade = float(input(\"Digite a media da mensalidade\"))\n",
    "print(f\"O funcionario {nome} trabalha na empresa {empresa}\")\n",
    "print(f\"Possui {qtd_funcionarios} funcionarios \")\n",
    "print(f\"O seu salatio atual é {str(media_mensalidade)} \")\n",
    "print(\"\\nVerifique os tipos de dados abaixo:\\n \")\n",
    "print(f\"O tipo de dado da variavel {nome} é:\",type(nome))\n",
    "print(f\"O tipo de dado da variavel {empresa} é:\",type(empresa))\n",
    "print(f\"O tipo de dado da variavel {qtd_funcionarios} é:\",type(qtd_funcionarios))\n",
    "print(f\"O tipo de dado da variavel {media_mensalidade} é:\",type(media_mensalidade))"
   ]
  },
  {
   "cell_type": "markdown",
   "metadata": {},
   "source": [
    "***\n",
    "# Strings\n",
    "***"
   ]
  },
  {
   "cell_type": "markdown",
   "metadata": {},
   "source": [
    "Uma `string` é uma sequência de cadeias de caracteres simples. \n",
    "\n",
    "Tipos de dados usado para registrar informaçaoes textuais\n",
    "\n",
    "Na linguagem Python, as strings são utilizadas com aspas simples ('... ') ou aspas duplas (\"...\"). Para exibir uma string, utiliza-se o comando print()."
   ]
  },
  {
   "cell_type": "markdown",
   "metadata": {},
   "source": [
    "## 1) Metodos em Strings:"
   ]
  },
  {
   "cell_type": "markdown",
   "metadata": {},
   "source": [
    "### `ljust()` → Ajusta a string para um tamanho mínimo, acrescentando espaços à direita se necessário.\n"
   ]
  },
  {
   "cell_type": "code",
   "execution_count": 107,
   "metadata": {},
   "outputs": [
    {
     "name": "stdout",
     "output_type": "stream",
     "text": [
      "Espaço de 15 espacos a direita\n"
     ]
    },
    {
     "data": {
      "text/plain": [
       "' Python        '"
      ]
     },
     "execution_count": 107,
     "metadata": {},
     "output_type": "execute_result"
    }
   ],
   "source": [
    "p = \" Python\"\n",
    "print(\"Espaço de 15 espacos a direita\")\n",
    "p.ljust(15)"
   ]
  },
  {
   "cell_type": "markdown",
   "metadata": {},
   "source": [
    "### ``rjust()`` → Ajusta a string para um tamanho mínimo, acrescentando espaços à esquerda se necessário."
   ]
  },
  {
   "cell_type": "code",
   "execution_count": 109,
   "metadata": {},
   "outputs": [
    {
     "name": "stdout",
     "output_type": "stream",
     "text": [
      "Espaço de 15 espacos a esquerda\n"
     ]
    },
    {
     "data": {
      "text/plain": [
       "'         Python'"
      ]
     },
     "execution_count": 109,
     "metadata": {},
     "output_type": "execute_result"
    }
   ],
   "source": [
    "q = \"Python\"\n",
    "print(\"Espaço de 15 espacos a esquerda\")\n",
    "q.rjust(15)"
   ]
  },
  {
   "cell_type": "markdown",
   "metadata": {},
   "source": [
    "### `center()`→ Ajusta a string para um tamanho mínimo, acrescentando espaços à esquerda e à direita, se necessario"
   ]
  },
  {
   "cell_type": "code",
   "execution_count": 28,
   "metadata": {},
   "outputs": [
    {
     "name": "stdout",
     "output_type": "stream",
     "text": [
      "String centralizada\n"
     ]
    },
    {
     "data": {
      "text/plain": [
       "'  Python  '"
      ]
     },
     "execution_count": 28,
     "metadata": {},
     "output_type": "execute_result"
    }
   ],
   "source": [
    "r = \"Python\"\n",
    "print('String centralizada')\n",
    "r.center(10)\n"
   ]
  },
  {
   "cell_type": "markdown",
   "metadata": {},
   "source": [
    "`rstrip()` → Remove todos os espaços em branco do lado direito da string.\n"
   ]
  },
  {
   "cell_type": "code",
   "execution_count": 69,
   "metadata": {},
   "outputs": [
    {
     "data": {
      "text/plain": [
       "'Python'"
      ]
     },
     "execution_count": 69,
     "metadata": {},
     "output_type": "execute_result"
    }
   ],
   "source": [
    "t = \"Python            \"\n",
    "t.rstrip()"
   ]
  },
  {
   "cell_type": "code",
   "execution_count": 33,
   "metadata": {},
   "outputs": [
    {
     "data": {
      "text/plain": [
       "'Python'"
      ]
     },
     "execution_count": 33,
     "metadata": {},
     "output_type": "execute_result"
    }
   ],
   "source": [
    "u = \"      Python     \"\n",
    "u.strip()\n"
   ]
  },
  {
   "cell_type": "markdown",
   "metadata": {},
   "source": [
    "### `replace(S1, S2) ` → Substitui na string o trecho S1 pelo trecho S2.\n"
   ]
  },
  {
   "cell_type": "code",
   "execution_count": 72,
   "metadata": {},
   "outputs": [
    {
     "name": "stdout",
     "output_type": "stream",
     "text": [
      "Apostila teste\n",
      "Foi substituido 'teste' por 'Python' \n"
     ]
    },
    {
     "data": {
      "text/plain": [
       "'Apostila Python'"
      ]
     },
     "execution_count": 72,
     "metadata": {},
     "output_type": "execute_result"
    }
   ],
   "source": [
    "n = \"Apostila teste\"\n",
    "print(n)\n",
    "print(\"Foi substituido 'teste' por 'Python' \")\n",
    "n.replace(\"teste\", \"Python\")"
   ]
  },
  {
   "cell_type": "markdown",
   "metadata": {},
   "source": [
    "### `find()` → Retorna o índice da primeira ocorrência de um de\u0002terminado caractere na string. Se o caractere não estiver na string retorna -1"
   ]
  },
  {
   "cell_type": "code",
   "execution_count": null,
   "metadata": {},
   "outputs": [
    {
     "name": "stdout",
     "output_type": "stream",
     "text": [
      "Conta o INDEX onde ta localizada a letra h tem na palavra 'Python' \n",
      "P y t h o n\n",
      "[0,1,2,3,4,5]\n"
     ]
    },
    {
     "data": {
      "text/plain": [
       "3"
      ]
     },
     "metadata": {},
     "output_type": "display_data"
    }
   ],
   "source": [
    "o = \"Python\"\n",
    "print(\"Conta o INDEX onde ta localizada a letra h tem na palavra 'Python' \")\n",
    "print(\"P y t h o n\")\n",
    "print(\"[0,1,2,3,4,5]\")\n",
    "o.find(\"h\")"
   ]
  },
  {
   "cell_type": "markdown",
   "metadata": {},
   "source": [
    "## 2) Principais Comandos:"
   ]
  },
  {
   "cell_type": "markdown",
   "metadata": {},
   "source": [
    "### `len` → verificar o tamanho da string"
   ]
  },
  {
   "cell_type": "code",
   "execution_count": 40,
   "metadata": {},
   "outputs": [
    {
     "name": "stdout",
     "output_type": "stream",
     "text": [
      "O tamanho da string 'pizza' é 5 \n"
     ]
    }
   ],
   "source": [
    "s = 'pizza'\n",
    "x = len(s)\n",
    "print(f\"O tamanho da string 'pizza' é {x} \")"
   ]
  },
  {
   "cell_type": "markdown",
   "metadata": {},
   "source": [
    "### `print(s[0])` ou `print(s[3])` → Acessar caracteres individuais\n",
    "\n"
   ]
  },
  {
   "cell_type": "code",
   "execution_count": 47,
   "metadata": {},
   "outputs": [
    {
     "name": "stdout",
     "output_type": "stream",
     "text": [
      "A primeira letra da string 'pizza' é p \n",
      "A quarta letra da string 'pizza' é z \n"
     ]
    }
   ],
   "source": [
    "s = \"pizza\"\n",
    "x = s[0]\n",
    "print(f\"A primeira letra da string 'pizza' é {x} \")\n",
    "y = s[3]\n",
    "print(f\"A quarta letra da string 'pizza' é {y} \")\n"
   ]
  },
  {
   "cell_type": "code",
   "execution_count": 44,
   "metadata": {},
   "outputs": [
    {
     "name": "stdout",
     "output_type": "stream",
     "text": [
      "p\n",
      "i\n",
      "z\n",
      "z\n",
      "a\n"
     ]
    }
   ],
   "source": [
    "s = \"pizza\"\n",
    "print(s[0])\n",
    "print(s[1])\n",
    "print(s[2])\n",
    "print(s[3])\n",
    "print(s[4])"
   ]
  },
  {
   "cell_type": "markdown",
   "metadata": {},
   "source": [
    "### `s.capitaliza()` → Somente a primeira palavra ficara maiscula"
   ]
  },
  {
   "cell_type": "code",
   "execution_count": 77,
   "metadata": {},
   "outputs": [
    {
     "data": {
      "text/plain": [
       "'Python'"
      ]
     },
     "execution_count": 77,
     "metadata": {},
     "output_type": "execute_result"
    }
   ],
   "source": [
    "s = \"python\"\n",
    "s.capitalize()"
   ]
  },
  {
   "cell_type": "markdown",
   "metadata": {},
   "source": [
    "### `s.upper` → Deixa todos os elementos de forma maiscula"
   ]
  },
  {
   "cell_type": "code",
   "execution_count": 78,
   "metadata": {},
   "outputs": [
    {
     "data": {
      "text/plain": [
       "'PYTHON'"
      ]
     },
     "execution_count": 78,
     "metadata": {},
     "output_type": "execute_result"
    }
   ],
   "source": [
    "s = \"python\"\n",
    "s.upper()"
   ]
  },
  {
   "cell_type": "markdown",
   "metadata": {},
   "source": [
    "### `s.lower()` → Deixa todos os elementos de fomra minuscula"
   ]
  },
  {
   "cell_type": "code",
   "execution_count": 83,
   "metadata": {},
   "outputs": [
    {
     "data": {
      "text/plain": [
       "'python'"
      ]
     },
     "execution_count": 83,
     "metadata": {},
     "output_type": "execute_result"
    }
   ],
   "source": [
    "s = \"PYTHON\"\n",
    "s.lower()"
   ]
  },
  {
   "cell_type": "markdown",
   "metadata": {},
   "source": [
    "### `s.isalpha()` → Teste de conteudoo (É ALFABETICA)"
   ]
  },
  {
   "cell_type": "code",
   "execution_count": 100,
   "metadata": {},
   "outputs": [
    {
     "data": {
      "text/plain": [
       "False"
      ]
     },
     "execution_count": 100,
     "metadata": {},
     "output_type": "execute_result"
    }
   ],
   "source": [
    "s = \"Python3\"\n",
    "s.isalpha()"
   ]
  },
  {
   "cell_type": "markdown",
   "metadata": {},
   "source": [
    "### `s.isalnum()` → Teste de conteudoo (É NUMERICA)"
   ]
  },
  {
   "cell_type": "code",
   "execution_count": 99,
   "metadata": {},
   "outputs": [
    {
     "data": {
      "text/plain": [
       "True"
      ]
     },
     "execution_count": 99,
     "metadata": {},
     "output_type": "execute_result"
    }
   ],
   "source": [
    "s = \"Python3\"\n",
    "s.isalnum()"
   ]
  },
  {
   "cell_type": "markdown",
   "metadata": {},
   "source": [
    "### `s.lstrip` → Retorna uma copia da string com caracteres a esquerda removidos. Se nao for especificado, elimina espaços em branco"
   ]
  },
  {
   "cell_type": "code",
   "execution_count": 116,
   "metadata": {},
   "outputs": [
    {
     "data": {
      "text/plain": [
       "'Python'"
      ]
     },
     "execution_count": 116,
     "metadata": {},
     "output_type": "execute_result"
    }
   ],
   "source": [
    "s = \"              Python                \"\n",
    "s.strip()"
   ]
  },
  {
   "cell_type": "code",
   "execution_count": 122,
   "metadata": {},
   "outputs": [
    {
     "data": {
      "text/plain": [
       "'Py'"
      ]
     },
     "execution_count": 122,
     "metadata": {},
     "output_type": "execute_result"
    }
   ],
   "source": [
    "s = \"Python\"\n",
    "s.strip(\"thon\")"
   ]
  },
  {
   "cell_type": "markdown",
   "metadata": {},
   "source": [
    "### `s.split(\",\")` → Retorna uma lisate de itens delimitada pelo caracterer especificado"
   ]
  },
  {
   "cell_type": "code",
   "execution_count": 124,
   "metadata": {},
   "outputs": [
    {
     "data": {
      "text/plain": [
       "['P', 'e', 'd', 'r', 'o', ' ', 'V', 'i', 'c', 't', 'o', 'r']"
      ]
     },
     "execution_count": 124,
     "metadata": {},
     "output_type": "execute_result"
    }
   ],
   "source": [
    "string = \"P,e,d,r,o, ,V,i,c,t,o,r\"\n",
    "string.split(\",\")"
   ]
  },
  {
   "cell_type": "markdown",
   "metadata": {},
   "source": [
    "## 3) Fatiamentos de Strings(Slicing)\n",
    "\n",
    "- O fatiamento é uma ferramenta usada para extrair apenas uma parte dos elementos de uma string.\n",
    "\n",
    "- <font color = green> Nome_String [Limite_Inferior : Limite_Superior] </font>\n",
    "\n",
    "- Retorna uma string com os elementos das posições do limite inferior até o limite superior - 1."
   ]
  },
  {
   "cell_type": "code",
   "execution_count": 37,
   "metadata": {},
   "outputs": [
    {
     "data": {
      "text/plain": [
       "'yth'"
      ]
     },
     "execution_count": 37,
     "metadata": {},
     "output_type": "execute_result"
    }
   ],
   "source": [
    "# seleciona os elementos das posições 1,2,3\n",
    "s = \"Python\"\n",
    "s[1:4] "
   ]
  },
  {
   "cell_type": "code",
   "execution_count": 52,
   "metadata": {},
   "outputs": [
    {
     "data": {
      "text/plain": [
       "'thon'"
      ]
     },
     "execution_count": 52,
     "metadata": {},
     "output_type": "execute_result"
    }
   ],
   "source": [
    "# Seleciona os elementos A PARTIR da posição 2\n",
    "s = \"Python\"\n",
    "s[2:]"
   ]
  },
  {
   "cell_type": "code",
   "execution_count": 59,
   "metadata": {},
   "outputs": [
    {
     "name": "stdout",
     "output_type": "stream",
     "text": [
      "Pyth\n",
      "VEja que nao faz diferença\n"
     ]
    },
    {
     "data": {
      "text/plain": [
       "'Pyth'"
      ]
     },
     "execution_count": 59,
     "metadata": {},
     "output_type": "execute_result"
    }
   ],
   "source": [
    "# Seleciona os elementos até a posição 3\n",
    "s = \"Python\"\n",
    "print(s[0:4])\n",
    "print(\"VEja que nao faz diferença\")\n",
    "s[:4] \n"
   ]
  },
  {
   "cell_type": "code",
   "execution_count": 63,
   "metadata": {},
   "outputs": [
    {
     "name": "stdout",
     "output_type": "stream",
     "text": [
      "Se refere ao ultimo caracter\n",
      "n\n"
     ]
    }
   ],
   "source": [
    "s = \"Python\"\n",
    "print(\"Se refere ao ultimo caracter\")\n",
    "print(s[-1])"
   ]
  },
  {
   "cell_type": "code",
   "execution_count": 65,
   "metadata": {},
   "outputs": [
    {
     "name": "stdout",
     "output_type": "stream",
     "text": [
      "Se refere ao quarto elemento de forma inversa\n",
      "t\n"
     ]
    }
   ],
   "source": [
    "s = \"Python\"\n",
    "print(\"Se refere ao quarto elemento de forma inversa\")\n",
    "print(s[-4])"
   ]
  },
  {
   "cell_type": "markdown",
   "metadata": {},
   "source": [
    "## Exercicios:"
   ]
  },
  {
   "cell_type": "markdown",
   "metadata": {},
   "source": [
    "### 1) Qual comando permite retornar os 3 primeiros caracterres da string \"Linux\"?"
   ]
  },
  {
   "cell_type": "code",
   "execution_count": 67,
   "metadata": {},
   "outputs": [
    {
     "name": "stdout",
     "output_type": "stream",
     "text": [
      "Lin\n"
     ]
    }
   ],
   "source": [
    "string = \"Linux\"\n",
    "print(string[:3])"
   ]
  },
  {
   "cell_type": "markdown",
   "metadata": {},
   "source": [
    "### 2) COnsidera a string A = ``\"Um elefante incomoda muita gente\"``. Que fatia coressponde a ``\"Elefante incomoda\"`` ?"
   ]
  },
  {
   "cell_type": "code",
   "execution_count": null,
   "metadata": {},
   "outputs": [],
   "source": []
  },
  {
   "cell_type": "markdown",
   "metadata": {},
   "source": [
    "### 3) Escreva um programa que solicite uma frase ao ususario e escreva a frase toda em maiscula e sem espaços em branco."
   ]
  },
  {
   "cell_type": "code",
   "execution_count": null,
   "metadata": {},
   "outputs": [],
   "source": []
  }
 ],
 "metadata": {
  "interpreter": {
   "hash": "74ab7c6ffe6706754a8af46cc4d18eebe476c74ce21a19282f620e1b1e9919fe"
  },
  "kernelspec": {
   "display_name": "Python 3.9.7 64-bit ('base': conda)",
   "language": "python",
   "name": "python3"
  },
  "language_info": {
   "codemirror_mode": {
    "name": "ipython",
    "version": 3
   },
   "file_extension": ".py",
   "mimetype": "text/x-python",
   "name": "python",
   "nbconvert_exporter": "python",
   "pygments_lexer": "ipython3",
   "version": "3.9.7"
  },
  "orig_nbformat": 4
 },
 "nbformat": 4,
 "nbformat_minor": 2
}
