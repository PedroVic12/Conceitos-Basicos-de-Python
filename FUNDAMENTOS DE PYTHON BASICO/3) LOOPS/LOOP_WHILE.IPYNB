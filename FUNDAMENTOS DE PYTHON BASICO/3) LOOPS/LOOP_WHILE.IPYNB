{
 "cells": [
  {
   "cell_type": "markdown",
   "metadata": {},
   "source": [
    "***\n",
    "# LOOP WHILE\n",
    "***"
   ]
  },
  {
   "cell_type": "markdown",
   "metadata": {},
   "source": [
    "Estrutura de repetição que permite executar um bloco de código enquanto uma condição de teste retornar `verdadeiro`. Quando a condição passa a ter valor `falso`, a repetição termina.\n",
    "\n",
    "\n",
    "É um `loop INFINITO` caso a ele nao retorne um booleano ou usando uma parada `Break`"
   ]
  },
  {
   "cell_type": "code",
   "execution_count": 2,
   "metadata": {},
   "outputs": [
    {
     "name": "stdout",
     "output_type": "stream",
     "text": [
      "O valor do contador é 0 \n",
      "O valor do contador é 1 \n",
      "O valor do contador é 2 \n",
      "O valor do contador é 3 \n",
      "O valor do contador é 4 \n",
      "O valor do contador é 5 \n",
      "Fim do loop\n"
     ]
    }
   ],
   "source": [
    "contador = 0\n",
    "while contador < 6:\n",
    "    print(f'O valor do contador é {contador} ')\n",
    "    contador += 1\n",
    "    \n",
    "print('Fim do loop')"
   ]
  },
  {
   "cell_type": "markdown",
   "metadata": {},
   "source": [
    "#### While usando uma VARIÁVEL de controle."
   ]
  },
  {
   "cell_type": "code",
   "execution_count": 4,
   "metadata": {},
   "outputs": [
    {
     "name": "stdout",
     "output_type": "stream",
     "text": [
      "Senha incorreta. Tente novamente\n",
      "Senha incorreta. Tente novamente\n",
      "Senha incorreta. Tente novamente\n",
      "Senha incorreta. Tente novamente\n",
      "Acesso liberado \n"
     ]
    }
   ],
   "source": [
    "senha = \"54321\"\n",
    "leitura = \" \"\n",
    "while (leitura != senha):\n",
    "    leitura = input(\"Digite a senha: \")\n",
    "    if leitura == senha:\n",
    "        print('Acesso liberado ')\n",
    "    else:\n",
    "        print('Senha incorreta. Tente novamente')\n"
   ]
  },
  {
   "cell_type": "markdown",
   "metadata": {},
   "source": [
    "#### While com break"
   ]
  },
  {
   "cell_type": "code",
   "execution_count": 7,
   "metadata": {},
   "outputs": [
    {
     "name": "stdout",
     "output_type": "stream",
     "text": [
      "O valor de x é 10\n",
      "O valor de x é 11\n",
      "O valor de x é 12\n",
      "O valor de x é 13\n",
      "O valor de x é 14\n",
      "O valor de x é 15\n",
      "O valor de x é 16\n",
      "O valor de x é 17\n",
      "O valor de x é 18\n",
      "O valor de x é 19\n",
      "Loop interrompido em 20\n"
     ]
    }
   ],
   "source": [
    "x = 10\n",
    "\n",
    "while x > 5:\n",
    "    print(f'O valor de x é {x}')\n",
    "    x += 1\n",
    "    if x == 20:\n",
    "        break\n",
    "print('Loop interrompido em 20')"
   ]
  },
  {
   "cell_type": "markdown",
   "metadata": {},
   "source": [
    "***\n",
    "### Exercício:\n",
    "***"
   ]
  },
  {
   "cell_type": "markdown",
   "metadata": {},
   "source": [
    "Dado um número inteiro, faça um operador while que calcule o fatorial desse número. Dicas: utilize as operações *= e também -="
   ]
  },
  {
   "cell_type": "code",
   "execution_count": 5,
   "metadata": {},
   "outputs": [
    {
     "name": "stdout",
     "output_type": "stream",
     "text": [
      "120\n"
     ]
    }
   ],
   "source": [
    "# n! = (n)*(n-1)...(1)\n",
    "fatorial = 1\n",
    "\n",
    "num = int(input(\"Digite um numero que deseja calcular o FATORIAL. \"))\n",
    "if type(num) is int:\n",
    "    while num>0:\n",
    "        fatorial = fatorial*num\n",
    "        num = num - 1\n",
    "print(fatorial)\n",
    "    "
   ]
  },
  {
   "cell_type": "markdown",
   "metadata": {},
   "source": [
    "***\n",
    "### Desafio 1 - Números primos\n",
    "***\n",
    "Crie uma lista com os cinquenta primeiros números primos.\n",
    "\n",
    "Dica: pode ser utilizado o comando break e continue"
   ]
  },
  {
   "cell_type": "code",
   "execution_count": 44,
   "metadata": {},
   "outputs": [
    {
     "name": "stdout",
     "output_type": "stream",
     "text": [
      "[2, 3, 5, 7, 11, 13, 17, 19, 23, 29, 31, 37, 41, 43, 47, 53, 59, 61, 67, 71, 73, 79, 83, 89, 97, 101, 103, 107, 109, 113, 127, 131, 137, 139, 149, 151, 157, 163, 167, 173, 179, 181, 191, 193, 197, 199, 211, 223, 227, 229]\n"
     ]
    }
   ],
   "source": [
    "# Numero primo → divisível por 1 e ele mesmo.\n",
    "num_primos = [2]\n",
    "prox_num = 2\n",
    "\n",
    "while len(num_primos) < 50:\n",
    "    prox_num = prox_num + 1\n",
    "    status = ''\n",
    "    \n",
    "    for num in num_primos:\n",
    "        quociente  = prox_num/num\n",
    "        quociente_inteiro = prox_num//num\n",
    "        \n",
    "        if quociente == quociente_inteiro:\n",
    "            status = 'pula'\n",
    "            break\n",
    "        \n",
    "    if status == 'pula':\n",
    "        continue\n",
    "    else:\n",
    "        num_primos.append(prox_num)\n",
    "        \n",
    "print(num_primos)"
   ]
  },
  {
   "cell_type": "markdown",
   "metadata": {},
   "source": [
    "***\n",
    "### Desafio 2 - Combinação\n",
    "*** \n",
    "\n",
    "Crie uma lista de todas as palavras formadas com as letras: ARARA\n",
    "\n",
    "Dica: o problema se trata de uma permutação com elementos repetidos.\n",
    "\n",
    "$P^{3,2}_{5} = \\frac{5!}{3!2!} = 10$"
   ]
  },
  {
   "cell_type": "code",
   "execution_count": 54,
   "metadata": {},
   "outputs": [
    {
     "ename": "ValueError",
     "evalue": "empty separator",
     "output_type": "error",
     "traceback": [
      "\u001b[1;31m---------------------------------------------------------------------------\u001b[0m",
      "\u001b[1;31mValueError\u001b[0m                                Traceback (most recent call last)",
      "\u001b[1;32m~\\AppData\\Local\\Temp/ipykernel_22476/3539521795.py\u001b[0m in \u001b[0;36m<module>\u001b[1;34m\u001b[0m\n\u001b[0;32m      1\u001b[0m \u001b[0mp\u001b[0m \u001b[1;33m=\u001b[0m \u001b[1;34m'arara'\u001b[0m\u001b[1;33m\u001b[0m\u001b[1;33m\u001b[0m\u001b[0m\n\u001b[1;32m----> 2\u001b[1;33m \u001b[0mpalavra\u001b[0m \u001b[1;33m=\u001b[0m \u001b[0mp\u001b[0m\u001b[1;33m.\u001b[0m\u001b[0msplit\u001b[0m\u001b[1;33m(\u001b[0m\u001b[1;34m''\u001b[0m\u001b[1;33m)\u001b[0m\u001b[1;33m\u001b[0m\u001b[1;33m\u001b[0m\u001b[0m\n\u001b[0m\u001b[0;32m      3\u001b[0m \u001b[0mprint\u001b[0m\u001b[1;33m(\u001b[0m\u001b[0mpalavra\u001b[0m\u001b[1;33m)\u001b[0m\u001b[1;33m\u001b[0m\u001b[1;33m\u001b[0m\u001b[0m\n\u001b[0;32m      4\u001b[0m \u001b[1;33m\u001b[0m\u001b[0m\n",
      "\u001b[1;31mValueError\u001b[0m: empty separator"
     ]
    }
   ],
   "source": [
    "p = 'arara'\n",
    "palavra = p.split('')\n",
    "print(palavra)\n",
    "\n"
   ]
  }
 ],
 "metadata": {
  "interpreter": {
   "hash": "74ab7c6ffe6706754a8af46cc4d18eebe476c74ce21a19282f620e1b1e9919fe"
  },
  "kernelspec": {
   "display_name": "Python 3.9.7 64-bit ('base': conda)",
   "language": "python",
   "name": "python3"
  },
  "language_info": {
   "codemirror_mode": {
    "name": "ipython",
    "version": 3
   },
   "file_extension": ".py",
   "mimetype": "text/x-python",
   "name": "python",
   "nbconvert_exporter": "python",
   "pygments_lexer": "ipython3",
   "version": "3.9.7"
  },
  "orig_nbformat": 4
 },
 "nbformat": 4,
 "nbformat_minor": 2
}
