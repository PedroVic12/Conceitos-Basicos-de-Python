{
 "cells": [
  {
   "cell_type": "markdown",
   "metadata": {},
   "source": [
    "***\n",
    "# Exercícios:\n",
    "*** "
   ]
  },
  {
   "cell_type": "markdown",
   "metadata": {},
   "source": [
    "#### Faça um programa que leia um número qualquer e mostre o seu fatorial **(USANDO O WHILE)** "
   ]
  },
  {
   "cell_type": "code",
   "execution_count": 12,
   "metadata": {},
   "outputs": [
    {
     "name": "stdout",
     "output_type": "stream",
     "text": [
      "Calculando 5! = 4 x 3 x 2 x 1 = 120"
     ]
    }
   ],
   "source": [
    "import math\n",
    "numero = int(input(\"Digite um numero para saber qual é o seu fatorial\"))\n",
    "fatorial = math.factorial(numero)\n",
    "contador = numero\n",
    "print(f\"Calculando {numero}! = \",end =\"\")\n",
    "while contador > 1: #Fatorial sempre termina em 1!\n",
    "    contador = contador - 1\n",
    "    print(f\"{contador} \",end =\"\")\n",
    "    print(\"x \" if contador > 1 else f'= {fatorial}',end='')\n",
    "\n"
   ]
  },
  {
   "cell_type": "markdown",
   "metadata": {},
   "source": [
    "#### Crie um programa que leia vários números inteiros pelo teclado. No final da execução, mostre a média entre todos os valores e qual foi o maior e o menor valores lidos. O programa deve perguntar ao usuário se ele quer ou não continuar a digitar valores"
   ]
  },
  {
   "cell_type": "code",
   "execution_count": 20,
   "metadata": {},
   "outputs": [
    {
     "name": "stdout",
     "output_type": "stream",
     "text": [
      "Voce digitou 5 números, teve a media de 3.0 \n",
      "O maior valor foi 5 e o menor valor foi 0 \n"
     ]
    }
   ],
   "source": [
    "contador = 0\n",
    "maior = 0\n",
    "menor = 0\n",
    "soma_números = 0\n",
    "quant = 0\n",
    "while True:\n",
    "    numero = int(input(\"Digite um numero: \"))\n",
    "    contador = contador + 1\n",
    "    soma_números = soma_números + numero\n",
    "    r = str(input(\"Quer continuar? [S/N] \"))\n",
    "    resp = r.upper() \n",
    "    \n",
    "    if quant == 1:\n",
    "        maior = menor = numero\n",
    "    else:\n",
    "        if numero > maior:\n",
    "            maior = numero\n",
    "        if numero < menor:\n",
    "            menor = numero\n",
    "      \n",
    "    if resp == \"N\":\n",
    "        break\n",
    "media = soma_números/contador\n",
    "\n",
    "print(f\"Voce digitou {contador} números, teve a media de {media} \")\n",
    "print(f\"O maior valor foi {maior} e o menor valor foi {menor} \")"
   ]
  },
  {
   "cell_type": "markdown",
   "metadata": {},
   "source": [
    "####  Faça um programa que jogue par ou ímpar com o computador. O jogo só será interrompido quando o jogador perder, mostrando o total de vitórias consecutivas que ele conquistou, no final do jogo."
   ]
  },
  {
   "cell_type": "code",
   "execution_count": 26,
   "metadata": {},
   "outputs": [
    {
     "name": "stdout",
     "output_type": "stream",
     "text": [
      "==============================\n",
      "JOGO DO PAR OU ÍMPAR\n",
      "==============================\n",
      "Voce jogou 2 e o pc 10. Total = 12, DEU PAR! \n",
      "VOCE VENCEU\n",
      "Vamos jogar novamente!\n",
      "Voce jogou 4 e o pc 10. Total = 14, DEU PAR! \n",
      "VOCE VENCEU\n",
      "Vamos jogar novamente!\n",
      "Voce jogou 1 e o pc 1. Total = 2, DEU PAR! \n",
      "Voce perdeu!\n",
      "Game Over!\n",
      "Voce venceu 2 \n"
     ]
    }
   ],
   "source": [
    "from random import randint\n",
    "print(\"=\"*30)\n",
    "print(\"JOGO DO PAR OU ÍMPAR\")\n",
    "print(\"=\"*30)\n",
    "soma_vitorias = 0\n",
    "while True:\n",
    "    num_jogador = int(input(\"Digite um valor de 1 a 10: \"))\n",
    "    escolha_jogador = str(input(\"Par ou Ímpar? [P/I] \"))\n",
    "    choice = escolha_jogador.upper()\n",
    "\n",
    "    num_pc = randint(1,10)\n",
    "    soma = num_jogador + num_pc\n",
    "    \n",
    "    if soma % 2 == 0:\n",
    "        frase = \"DEU PAR!\"\n",
    "    else:\n",
    "        frase = \"DEU ÍMPAR!\"\n",
    "    \n",
    "    print(f\"Voce jogou {num_jogador} e o pc {num_pc}. Total = {soma}, {frase} \")\n",
    "    \n",
    "    if choice == \"P\":\n",
    "        if (soma % 2) == 0:\n",
    "            print(\"VOCE VENCEU\")\n",
    "            print(\"Vamos jogar novamente!\")\n",
    "            soma_vitorias = soma_vitorias + 1\n",
    "        else:\n",
    "            print(\"Voce perdeu!\")\n",
    "            print(\"Game Over!\")\n",
    "            break\n",
    "            \n",
    "    elif choice == \"I\":\n",
    "        if (soma % 2) == 1:\n",
    "            print(\"VOCE VENCEU\")\n",
    "            print(\"Vamos jogar novamente!\")\n",
    "            soma_vitorias = soma_vitorias + 1\n",
    "        else:\n",
    "            print(\"Voce perdeu!\")\n",
    "            print(\"Game Over!\")\n",
    "            break\n",
    "print(f\"Voce venceu {soma_vitorias} vezes \")\n"
   ]
  },
  {
   "cell_type": "markdown",
   "metadata": {},
   "source": [
    "#### Crie um programa que leia a idade e o sexo de várias pessoas. A cada pessoa cadastrada, o programa deverá perguntar se o usuário quer ou não continuar.\n",
    "\n",
    "    No final, mostra:\n",
    "    a) quantas pessoas têm mais de 18 anos\n",
    "    b) quantos homens foram cadastrados\n",
    "    c) quantas mulheres têm menos de 20 anos"
   ]
  },
  {
   "cell_type": "code",
   "execution_count": null,
   "metadata": {},
   "outputs": [],
   "source": []
  },
  {
   "cell_type": "markdown",
   "metadata": {},
   "source": [
    "#### Crie um programa que leia o nome e o preço de vários produtos. O programa deverá perguntar se o usuário vai continuar. No final, mostre:\n",
    "    a) qual é o total gasto na compra\n",
    "    b) quantos produtos custam mais de R$ 1000\n",
    "    c) qual é o nome do produto mais barato"
   ]
  },
  {
   "cell_type": "code",
   "execution_count": null,
   "metadata": {},
   "outputs": [],
   "source": []
  },
  {
   "cell_type": "markdown",
   "metadata": {},
   "source": [
    "#### Crie um programa que simule o funcionamento de um caixa eletrónico. No início, pergunte ao usuário qual será o valor a ser sacado (inteiro) e o programa vai informar quantas cédulas de cada valor serão entregues.\n",
    "\n",
    "    Obs.: Considere que o caixa possui cédulas de R$50, R$20, R$10 e R$1."
   ]
  },
  {
   "cell_type": "code",
   "execution_count": null,
   "metadata": {},
   "outputs": [],
   "source": []
  }
 ],
 "metadata": {
  "interpreter": {
   "hash": "74ab7c6ffe6706754a8af46cc4d18eebe476c74ce21a19282f620e1b1e9919fe"
  },
  "kernelspec": {
   "display_name": "Python 3.9.7 64-bit ('base': conda)",
   "language": "python",
   "name": "python3"
  },
  "language_info": {
   "codemirror_mode": {
    "name": "ipython",
    "version": 3
   },
   "file_extension": ".py",
   "mimetype": "text/x-python",
   "name": "python",
   "nbconvert_exporter": "python",
   "pygments_lexer": "ipython3",
   "version": "3.9.7"
  },
  "orig_nbformat": 4
 },
 "nbformat": 4,
 "nbformat_minor": 2
}
