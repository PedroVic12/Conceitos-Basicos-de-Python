{
 "cells": [
  {
   "cell_type": "markdown",
   "metadata": {},
   "source": [
    "***\n",
    "# LOOP FOR\n",
    "***"
   ]
  },
  {
   "cell_type": "markdown",
   "metadata": {},
   "source": [
    "O laço for é a estrutura de repetição mais utilizada em Python. Pode ser utilizado com uma \n",
    "sequência numérica (gerada com o comando range) ou associado a uma lista. O trecho de código da \n",
    "repetição é executado para cada valor da sequência numérica ou da lista."
   ]
  },
  {
   "cell_type": "markdown",
   "metadata": {},
   "source": [
    "O loop `For` em Python pode iterar pelos itens de qualquer sequencia, como uma lista ou string.\n",
    "\n",
    "`O loop é FINITO`"
   ]
  },
  {
   "cell_type": "markdown",
   "metadata": {},
   "source": [
    "#### Usando com strings"
   ]
  },
  {
   "cell_type": "code",
   "execution_count": 1,
   "metadata": {},
   "outputs": [
    {
     "name": "stdout",
     "output_type": "stream",
     "text": [
      "P\n",
      "y\n",
      "t\n",
      "h\n",
      "o\n",
      "n\n"
     ]
    }
   ],
   "source": [
    "var = 'Python'\n",
    "for x in var:\n",
    "    print(x)"
   ]
  },
  {
   "cell_type": "markdown",
   "metadata": {},
   "source": [
    "#### Usando com Listas"
   ]
  },
  {
   "cell_type": "code",
   "execution_count": 6,
   "metadata": {},
   "outputs": [
    {
     "name": "stdout",
     "output_type": "stream",
     "text": [
      "Fruta: laranja\n",
      "Fruta: morango\n",
      "Fruta: uva\n",
      "Fruta: banana\n"
     ]
    }
   ],
   "source": [
    "frutas = ['laranja','morango','uva','banana']\n",
    "for y in frutas:\n",
    "    print(f'Fruta: {y}')"
   ]
  },
  {
   "cell_type": "markdown",
   "metadata": {},
   "source": [
    "#### ` 1) Função range()` → Gera uma lista contendo uma progressão aritmética.Seus elementos são inteiros\n",
    "\n",
    "\n",
    "\n",
    "`range(inicio,fim,salto)`"
   ]
  },
  {
   "cell_type": "code",
   "execution_count": 53,
   "metadata": {},
   "outputs": [
    {
     "name": "stdout",
     "output_type": "stream",
     "text": [
      "Valores de 0 a 10: range(10) \n",
      "0 → 1 → 2 → 3 → 4 → 5 → 6 → 7 → 8 → 9 → \n",
      " \n",
      "Valores de 5 a 8:  range(5, 9)\n",
      "5 → 6 → 7 → 8 → \n",
      " \n",
      "Valores de 2 a 20, saltando em 2 em 2: range(2, 22, 2)\n",
      "2 → 4 → 6 → 8 → 10 → 12 → 14 → 16 → 18 → 20 → "
     ]
    }
   ],
   "source": [
    "print('Valores de 0 a 10: range(10) ')\n",
    "for x in range(10): \n",
    "    print(x, end=' → ')\n",
    "\n",
    "print('\\n \\nValores de 5 a 8:  range(5, 9)')\n",
    "for y in range(5, 9):  \n",
    "    print(y,end=' → ')\n",
    "\n",
    "print('\\n \\nValores de 2 a 20, saltando em 2 em 2: range(2, 22, 2)')\n",
    "for z in range(2, 22, 2):  \n",
    "    print(z,end=' → ')"
   ]
  },
  {
   "cell_type": "code",
   "execution_count": 7,
   "metadata": {},
   "outputs": [
    {
     "name": "stdout",
     "output_type": "stream",
     "text": [
      "0\n",
      "1\n",
      "2\n",
      "3\n",
      "4\n",
      "5\n",
      "6\n"
     ]
    }
   ],
   "source": [
    "lista = ['a', 2, 'b', 4, 5, 5, 'w']\n",
    "\n",
    "\n",
    "for i in range(len(lista)):\n",
    "    print(i)\n"
   ]
  },
  {
   "cell_type": "markdown",
   "metadata": {},
   "source": [
    "#### `enumerate()` → Retorna seus elementos são tuplas que contem inteiros e valores"
   ]
  },
  {
   "cell_type": "code",
   "execution_count": 26,
   "metadata": {},
   "outputs": [
    {
     "name": "stdout",
     "output_type": "stream",
     "text": [
      "Retorna (indice, objeto) \n",
      "(0, 'a')\n",
      "(1, 2)\n",
      "(2, 'b')\n",
      "(3, 4)\n",
      "(4, 5)\n",
      "(5, 5)\n",
      "(6, 'w')\n"
     ]
    }
   ],
   "source": [
    "lista = ['a', 2, 'b', 4, 5, 5, 'w']\n",
    "print('Retorna (indice, objeto) ')\n",
    "for i in enumerate(lista):\n",
    "    print(i)\n",
    "    \n"
   ]
  },
  {
   "cell_type": "code",
   "execution_count": 28,
   "metadata": {},
   "outputs": [
    {
     "name": "stdout",
     "output_type": "stream",
     "text": [
      "Retorna o mesmo com o range(len(lista)) \n",
      "0\n",
      "1\n",
      "2\n",
      "3\n",
      "4\n",
      "5\n",
      "6\n"
     ]
    }
   ],
   "source": [
    "lista = ['a', 2, 'b', 4, 5, 5, 'w']\n",
    "print('Retorna o mesmo com o range(len(lista)) ')\n",
    "for i in enumerate(lista):\n",
    "    print(i[0])\n"
   ]
  },
  {
   "cell_type": "code",
   "execution_count": 29,
   "metadata": {},
   "outputs": [
    {
     "name": "stdout",
     "output_type": "stream",
     "text": [
      "Retorna os objetos das listas \n",
      "a\n",
      "2\n",
      "b\n",
      "4\n",
      "5\n",
      "5\n",
      "w\n"
     ]
    }
   ],
   "source": [
    "lista = ['a', 2, 'b', 4, 5, 5, 'w']\n",
    "print('Retorna os objetos das listas ')\n",
    "for i in enumerate(lista):\n",
    "    print(i[1])\n"
   ]
  },
  {
   "cell_type": "markdown",
   "metadata": {},
   "source": [
    "***\n",
    "### Exercício:\n",
    "***"
   ]
  },
  {
   "cell_type": "markdown",
   "metadata": {},
   "source": [
    "Faça um loop for para criar uma lista que intercale os valores das listas a seguir:\n",
    "\n",
    "valores = [1,2,3,4,5]\n",
    "\n",
    "letras = ['a','b','c','d','e']"
   ]
  },
  {
   "cell_type": "code",
   "execution_count": 3,
   "metadata": {},
   "outputs": [
    {
     "name": "stdout",
     "output_type": "stream",
     "text": [
      "[1, 'a', 2, 'b', 3, 'c', 4, 'd', 5, 'e']\n"
     ]
    }
   ],
   "source": [
    "valores = [1,2,3,4,5]\n",
    "letras = ['a','b','c','d','e']\n",
    "\n",
    "nova_lista = []\n",
    "\n",
    "for x in range(5):\n",
    "    nova_lista.append(valores[x])\n",
    "    nova_lista.append(letras[x])\n",
    "print(nova_lista)\n",
    "    "
   ]
  },
  {
   "cell_type": "markdown",
   "metadata": {},
   "source": [
    "***\n",
    "### Desafio 1 - Números primos\n",
    "***\n",
    "Crie uma lista com os cinquenta primeiros números primos.\n",
    "\n",
    "Dica: pode ser utilizado o comando break e continue"
   ]
  },
  {
   "cell_type": "code",
   "execution_count": 4,
   "metadata": {},
   "outputs": [
    {
     "name": "stdout",
     "output_type": "stream",
     "text": [
      "[2, 3, 5, 7, 11, 13, 17, 19, 23, 29, 31, 37, 41, 43, 47, 53, 59, 61, 67, 71, 73, 79, 83, 89, 97, 101, 103, 107, 109, 113, 127, 131, 137, 139, 149, 151, 157, 163, 167, 173, 179, 181, 191, 193, 197, 199, 211, 223, 227, 229]\n"
     ]
    }
   ],
   "source": [
    "# Numero primo → divisível por 1 e ele mesmo.\n",
    "num_primos = [2]\n",
    "prox_num = 2\n",
    "\n",
    "while len(num_primos) < 50:\n",
    "    prox_num = prox_num + 1\n",
    "    status = ''\n",
    "\n",
    "    for num in num_primos:\n",
    "        quociente = prox_num/num\n",
    "        quociente_inteiro = prox_num//num\n",
    "\n",
    "        if quociente == quociente_inteiro:\n",
    "            status = 'pula'\n",
    "            break\n",
    "\n",
    "    if status == 'pula':\n",
    "        continue\n",
    "    else:\n",
    "        num_primos.append(prox_num)\n",
    "\n",
    "print(num_primos)\n"
   ]
  },
  {
   "cell_type": "markdown",
   "metadata": {},
   "source": [
    "***\n",
    "### Desafio 2 - Combinação\n",
    "*** \n",
    "\n",
    "Crie uma lista de todas as palavras formadas com as letras: ARARA\n",
    "\n",
    "Dica: o problema se trata de uma permutação com elementos repetidos.\n",
    "\n",
    "$P^{3,2}_{5} = \\frac{5!}{3!2!} = 10$"
   ]
  },
  {
   "cell_type": "code",
   "execution_count": null,
   "metadata": {},
   "outputs": [],
   "source": []
  }
 ],
 "metadata": {
  "interpreter": {
   "hash": "74ab7c6ffe6706754a8af46cc4d18eebe476c74ce21a19282f620e1b1e9919fe"
  },
  "kernelspec": {
   "display_name": "Python 3.9.7 64-bit ('base': conda)",
   "language": "python",
   "name": "python3"
  },
  "language_info": {
   "codemirror_mode": {
    "name": "ipython",
    "version": 3
   },
   "file_extension": ".py",
   "mimetype": "text/x-python",
   "name": "python",
   "nbconvert_exporter": "python",
   "pygments_lexer": "ipython3",
   "version": "3.9.7"
  },
  "orig_nbformat": 4
 },
 "nbformat": 4,
 "nbformat_minor": 2
}
