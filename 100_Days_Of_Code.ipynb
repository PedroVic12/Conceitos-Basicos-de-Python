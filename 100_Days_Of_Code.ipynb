{
 "cells": [
  {
   "cell_type": "markdown",
   "metadata": {},
   "source": [
    "## Day 5: For Loop"
   ]
  },
  {
   "cell_type": "markdown",
   "metadata": {},
   "source": [
    "1) Media usando For Loop\n",
    "\n",
    "180 + 124 + 165 + 173 + 189 + 169 + 146 = 1146\n",
    "\n",
    "There are a total of 7 heights in student_heights\n",
    "\n",
    "1146 ÷ 7 = 163.71428571428572\n",
    "\n",
    "Average height rounded to the nearest whole number = 164\n",
    "\n",
    "Important You should not use the sum() or len() "
   ]
  },
  {
   "cell_type": "code",
   "execution_count": null,
   "metadata": {},
   "outputs": [],
   "source": [
    "# 🚨 Don't change the code below 👇\n",
    "student_heights = input(\"Input a list of student heights \").split()\n",
    "for n in range(0, len(student_heights)):\n",
    "  student_heights[n] = int(student_heights[n])\n",
    "# 🚨 Don't change the code above 👆\n",
    "\n",
    "\n",
    "#Write your code below this row 👇\n",
    "tamanho_lista = 0\n",
    "soma = 0\n",
    "for numeros in student_heights:\n",
    "    soma = soma + numeros\n",
    "    tamanho_lista = tamanho_lista + 1\n",
    "print('Total de numeros', tamanho_lista)\n",
    "print('SOma dos numeros', soma)\n",
    "\n",
    "media = soma/tamanho_lista\n",
    "print(round(media))"
   ]
  },
  {
   "cell_type": "markdown",
   "metadata": {},
   "source": [
    "### Projeto Gerador de Senha"
   ]
  },
  {
   "cell_type": "code",
   "execution_count": 7,
   "metadata": {},
   "outputs": [
    {
     "name": "stdout",
     "output_type": "stream",
     "text": [
      "Welcome to the PyPassword Generator!\n",
      "pX#%)\n",
      "pX#%)7369\n"
     ]
    }
   ],
   "source": [
    "#Password Generator Project\n",
    "import random\n",
    "letters = ['a', 'b', 'c', 'd', 'e', 'f', 'g', 'h', 'i', 'j', 'k', 'l', 'm', 'n', 'o', 'p', 'q', 'r', 's', 't', 'u', 'v', 'w', 'x', 'y', 'z', 'A', 'B', 'C', 'D', 'E', 'F', 'G', 'H', 'I', 'J', 'K', 'L', 'M', 'N', 'O', 'P', 'Q', 'R', 'S', 'T', 'U', 'V', 'W', 'X', 'Y', 'Z']\n",
    "numbers = ['0', '1', '2', '3', '4', '5', '6', '7', '8', '9']\n",
    "symbols = ['!', '#', '$', '%', '&', '(', ')', '*', '+']\n",
    "\n",
    "print(\"Welcome to the PyPassword Generator!\")\n",
    "nr_letters= int(input(\"How many letters would you like in your password?\\n\")) \n",
    "nr_symbols = int(input(f\"How many symbols would you like?\\n\"))\n",
    "nr_numbers = int(input(f\"How many numbers would you like?\\n\"))\n",
    "\n",
    "#!Eazy Level - Order not randomised:\n",
    "#e.g. 4 letter, 2 symbol, 2 number = JduE&!91\n",
    "\n",
    "senha = ''\n",
    "#Generating letters\n",
    "for letras in range(1,nr_letters+1):\n",
    "\tletra_aleatoria = random.choice(letters)\n",
    "\tsenha = senha + letra_aleatoria\n",
    "\n",
    "#Generating Symbols\n",
    "for simbolo in range(1,nr_symbols+1):\n",
    "\tsimbolo_aleatorio = random.choice(symbols)\n",
    "\tsenha = senha + simbolo_aleatorio\n",
    "\n",
    "#Generating Numbers\n",
    "for numero in range(1,nr_numbers + 1):\n",
    "\tnumero_aleatorio = random.choice(numbers)\n",
    "\tsenha = senha + numero_aleatorio\n",
    "print(senha)"
   ]
  },
  {
   "cell_type": "code",
   "execution_count": 17,
   "metadata": {},
   "outputs": [
    {
     "name": "stdout",
     "output_type": "stream",
     "text": [
      "Welcome to the PyPassword Generator!\n",
      "Sua senha é: 0+m37d3M\n"
     ]
    }
   ],
   "source": [
    "#Password Generator Project\n",
    "\n",
    "#!Hard Level - Order of characters randomised:\n",
    "#e.g. 4 letter, 2 symbol, 2 number = g^2jk8&P\n",
    "\n",
    "import random\n",
    "letters = ['a', 'b', 'c', 'd', 'e', 'f', 'g', 'h', 'i', 'j', 'k', 'l', 'm', 'n', 'o', 'p', 'q', 'r', 's', 't', 'u', 'v', 'w', 'x', 'y', 'z', 'A', 'B', 'C', 'D', 'E', 'F', 'G', 'H', 'I', 'J', 'K', 'L', 'M', 'N', 'O', 'P', 'Q', 'R', 'S', 'T', 'U', 'V', 'W', 'X', 'Y', 'Z']\n",
    "numbers = ['0', '1', '2', '3', '4', '5', '6', '7', '8', '9']\n",
    "symbols = ['!', '#', '$', '%', '&', '(', ')', '*', '+']\n",
    "\n",
    "print(\"Welcome to the PyPassword Generator!\")\n",
    "nr_letters= int(input(\"How many letters would you like in your password?\\n\")) \n",
    "nr_symbols = int(input(f\"How many symbols would you like?\\n\"))\n",
    "nr_numbers = int(input(f\"How many numbers would you like?\\n\"))\n",
    "\n",
    "senha = []\n",
    "#Gerando letras\n",
    "for letra in range(1,nr_letters+1):\n",
    "    senha.append(random.choice(letters))\n",
    "\n",
    "#Gerando numeros\n",
    "for numero in range(1,nr_numbers+1):\n",
    "    senha.append(random.choice(numbers))\n",
    "\n",
    "#Gerando simbolos\n",
    "for simbolo in range(1,nr_symbols+1):\n",
    "    senha.append(random.choice(symbols))\n",
    "\n",
    "#*Mudando a ordem\n",
    "random.shuffle(senha)\n",
    "password=''\n",
    "for item in senha:\n",
    "    password = password + item\n",
    "\n",
    "print('Sua senha é:',password)"
   ]
  },
  {
   "cell_type": "markdown",
   "metadata": {},
   "source": [
    "## Day 7 - Jogo da forca, logica muito interessante!"
   ]
  },
  {
   "cell_type": "markdown",
   "metadata": {},
   "source": [
    "### Step 1 \n",
    "\n",
    "1 - Randomly choose a word from the word_list and assign it to a variable called chosen_word.\n",
    "\n",
    "2 - Ask the user to guess a letter and assign their answer to a variable called guess. Make guess lowercase.\n",
    "\n",
    "3 - Check if the letter the user guessed (guess) is one of the letters in the chosen_word.\n"
   ]
  },
  {
   "cell_type": "code",
   "execution_count": 15,
   "metadata": {},
   "outputs": [
    {
     "name": "stdout",
     "output_type": "stream",
     "text": [
      "Palvra: camel\n",
      "Voce escolheu a letra a\n",
      "\n",
      "Wrong\n",
      "Right\n",
      "Wrong\n",
      "Wrong\n",
      "Wrong\n",
      "\n",
      "=====Outra forma de fazer =======\n",
      "\n",
      "Wrong\n",
      "Right\n",
      "Wrong\n",
      "Wrong\n",
      "Wrong\n"
     ]
    }
   ],
   "source": [
    "import random\n",
    "\n",
    "word_list = [\"aardvark\", \"baboon\", \"camel\"]\n",
    "\n",
    "chosen_word =  random.choice(word_list)\n",
    "\n",
    "palavra = input('Chute uma letra: ').lower()\n",
    "\n",
    "print('Palvra:',chosen_word)\n",
    "print(f'Voce escolheu a letra {palavra}\\n')\n",
    "\n",
    "for i in range(len(chosen_word)):\n",
    "    if palavra in chosen_word[i]:\n",
    "        print('Right')\n",
    "    else:\n",
    "        print('Wrong')\n",
    "        \n",
    "#Outro método com o loop for\n",
    "print('\\n=====Outra forma de fazer =======\\n')\n",
    "for letter in chosen_word:\n",
    "    if letter == palavra:\n",
    "        print('Right')\n",
    "    else:\n",
    "        print('Wrong')"
   ]
  },
  {
   "cell_type": "markdown",
   "metadata": {},
   "source": [
    "### Step 2\n",
    "\n",
    "#### 1: - Create an empty List called display.\n",
    "\n",
    "For each letter in the chosen_word, add a \"_\" to 'display'.\n",
    "So if the chosen_word was \"apple\", display should be [\"_\", \"_\", \"_\", \"_\", \"_\"] with 5 \"_\" representing each letter to guess.\n",
    "\n",
    "#### 2: - Loop through each position in the chosen_word;\n",
    "\n",
    "If the letter at that position matches 'guess' then reveal that letter in the display at that position.\n",
    "\n",
    "EX:. If the user guessed \"p\" and the chosen word was \"apple\", then display should be [\"_\", \"p\", \"p\", \"_\", \"_\"].\n",
    "\n",
    "#### 3: - Print 'display' and you should see the guessed letter in the correct position and every other letter replace with \"_\".\n",
    "\n",
    "Hint - Don't worry about getting the user to guess the next letter. We'll tackle that in step 3.\n"
   ]
  },
  {
   "cell_type": "code",
   "execution_count": 3,
   "metadata": {},
   "outputs": [
    {
     "name": "stdout",
     "output_type": "stream",
     "text": [
      "Palavra: aardvark\n",
      "Voce escolheu a letra a\n",
      "\n",
      "['a', 'a', '-', '-', '-', 'a', '-', '-']\n"
     ]
    }
   ],
   "source": [
    "import random\n",
    "\n",
    "word_list = [\"aardvark\", \"baboon\", \"camel\"]\n",
    "\n",
    "chosen_word =  random.choice(word_list)\n",
    "\n",
    "print('Palavra:',chosen_word)\n",
    "\n"
   ]
  },
  {
   "cell_type": "markdown",
   "metadata": {},
   "source": [
    "### Step 3)\n",
    "\n",
    "1: - Use a while loop to let the user guess again. The loop should only stop once the user has guessed all the letters in the chosen_word and 'display' has no more blanks (\"_\"). Then you can tell the user they've won."
   ]
  },
  {
   "cell_type": "code",
   "execution_count": 19,
   "metadata": {},
   "outputs": [
    {
     "name": "stdout",
     "output_type": "stream",
     "text": [
      "Jogo da forca\n",
      "Palavra: camel\n",
      "['-', 'a', '-', '-', '-']\n",
      "['c', 'a', '-', '-', '-']\n",
      "['c', 'a', 'm', '-', '-']\n",
      "['c', 'a', 'm', 'e', '-']\n",
      "['c', 'a', 'm', 'e', '-']\n",
      "['c', 'a', 'm', 'e', '-']\n",
      "['c', 'a', 'm', 'e', 'l']\n",
      "VOCE GANHOU!!!\n"
     ]
    }
   ],
   "source": [
    "word_list = [\"aardvark\", \"baboon\", \"camel\"]\n",
    "\n",
    "chosen_word =  random.choice(word_list)\n",
    "\n",
    "print('Jogo da forca')\n",
    "print('Palavra:',chosen_word)\n",
    "\n",
    "display_forca = []\n",
    "for x in range(len(chosen_word)):\n",
    "    display_forca.append('-')\n",
    "\n",
    "while '-' in display_forca:\n",
    "    palavra = input('Chute uma letra: ').lower()\n",
    "\n",
    "    for i in range(len(chosen_word)):\n",
    "        if palavra in chosen_word[i]:\n",
    "            display_forca[i] = palavra\n",
    "\n",
    "    print(display_forca)\n",
    "    if '-' not in display_forca:\n",
    "        print('VOCE GANHOU!!!')\n",
    "\n",
    "\n"
   ]
  },
  {
   "cell_type": "markdown",
   "metadata": {},
   "source": [
    "### Step 4)\n",
    "\n",
    "#1: - Create a variable called 'lives' to keep track of the number of lives left. \n",
    "#Set 'lives' to equal 6.\n",
    "\n",
    "\n",
    "#2: - If guess is not a letter in the chosen_word,\n",
    "Then reduce 'lives' by 1. \n",
    "If lives goes down to 0 then the game should stop and it should print \"You lose.\"\n",
    "\n",
    "\n",
    "#3: - print the ASCII art from 'stages' that corresponds to the current number of 'lives' the user has remaining."
   ]
  },
  {
   "cell_type": "markdown",
   "metadata": {},
   "source": [
    "### Jogo final"
   ]
  },
  {
   "cell_type": "code",
   "execution_count": 61,
   "metadata": {},
   "outputs": [
    {
     "name": "stdout",
     "output_type": "stream",
     "text": [
      "===JOGO DA FORCA===\n",
      "Palavra: aardvark\n",
      "a a _ _ _ a _ _\n",
      "a a r _ _ a r _\n",
      "Voce ja digitou a letra r\n",
      "a a r _ _ a r _\n",
      "a a r d _ a r _\n",
      "Voce ja digitou a letra d\n",
      "a a r d _ a r _\n",
      "a a r d v a r _\n",
      "Voce ja digitou a letra a\n",
      "a a r d v a r _\n",
      "a a r d v a r k\n",
      "VOCE GANHOU!!!\n"
     ]
    }
   ],
   "source": [
    "import time\n",
    "import random\n",
    "lives = 6\n",
    "\n",
    "word_list = [\"aardvark\", \"baboon\", \"camel\"]\n",
    "\n",
    "chosen_word = random.choice(word_list)\n",
    "\n",
    "print('===JOGO DA FORCA===')\n",
    "print('Palavra:', chosen_word)\n",
    "\n",
    "# Tracinho do jogo da forca\n",
    "display_forca = []\n",
    "for x in range(len(chosen_word)):\n",
    "    display_forca.append('_')\n",
    "\n",
    "time.sleep(1)\n",
    "\n",
    "game_over = False\n",
    "\n",
    "# Game\n",
    "while not game_over:\n",
    "    palavra = input('Chute uma letra: ').lower()\n",
    "    \n",
    "    if palavra in display_forca:\n",
    "        print(f'Voce ja digitou a letra {palavra}')\n",
    "\n",
    "    for i in range(len(chosen_word)):\n",
    "        if palavra in chosen_word[i]:\n",
    "            display_forca[i] = palavra\n",
    "    print(f\"{' '.join(display_forca)}\")\n",
    "\n",
    "\n",
    "    # Numero de vidas\n",
    "    if palavra not in chosen_word:\n",
    "        lives = lives - 1\n",
    "        print('Wrong')\n",
    "        print(f'Seu numero de vidas é {lives}')\n",
    "        if lives == 0:\n",
    "            game_over = True\n",
    "            print('Voce perdeu!!! :( ')\n",
    "\n",
    "    #print(display_forca)\n",
    "\n",
    "    # End Game\n",
    "    if '_' not in display_forca:\n",
    "        print('VOCE GANHOU!!!')\n",
    "        game_over = True\n",
    "    \n"
   ]
  },
  {
   "cell_type": "markdown",
   "metadata": {},
   "source": [
    "# Day 8: Functions"
   ]
  },
  {
   "cell_type": "code",
   "execution_count": 60,
   "metadata": {},
   "outputs": [
    {
     "name": "stdout",
     "output_type": "stream",
     "text": [
      "Sua mensagem é: ujiwt anhytw\n",
      "Sua mensagem é: pedro victor\n",
      "GoodBye!\n"
     ]
    }
   ],
   "source": [
    "import random\n",
    "alphabet = ['a', 'b', 'c', 'd', 'e', 'f', 'g', 'h', 'i', 'j', 'k', 'l', 'm', 'n', 'o', 'p', 'q', 'r', 's', 't', 'u', 'v', 'w', 'x', 'y', 'z','a', 'b', 'c', 'd', 'e', 'f', 'g', 'h', 'i', 'j', 'k', 'l', 'm', 'n', 'o', 'p', 'q', 'r', 's', 't', 'u', 'v', 'w', 'x', 'y', 'z']\n",
    "\n",
    "def caesar(user_text,user_shift,user_direction):\n",
    "    texto_final = ''\n",
    "\n",
    "    if user_direction == 'encode':\n",
    "            user_shift = user_shift * 1\n",
    "    elif user_direction == 'decode':\n",
    "            user_shift = user_shift * -1\n",
    "    for letra in user_text:\n",
    "\n",
    "        if letra in alphabet:\n",
    "            postion = alphabet.index(letra)\n",
    "            new_position = postion + user_shift\n",
    "            texto_final =  texto_final +alphabet[new_position]\n",
    "        else:\n",
    "            texto_final = texto_final + letra \n",
    "            \n",
    "    print('Sua mensagem é:',texto_final)\n",
    "\n",
    "resposta = True\n",
    "\n",
    "while resposta:\n",
    "    direction = input(\"Type 'encode' to encrypt, type 'decode' to decrypt:\\n\")\n",
    "    text = input(\"Type your message:\\n\").lower()\n",
    "    shift = int(input(\"Type the shift number:\\n\"))\n",
    "\n",
    "    if shift > 26:\n",
    "        shift = shift % 26\n",
    "\n",
    "    caesar(user_text = text,user_shift= shift,user_direction= direction)\n",
    "\n",
    "    resposta = input('Deseja Continuar? [S/N]').upper()\n",
    "    if resposta == 'S':\n",
    "        resposta = True\n",
    "    elif resposta == 'N':\n",
    "        resposta = False\n",
    "        print('GoodBye!')\n",
    "\n",
    "\n",
    "\n"
   ]
  },
  {
   "cell_type": "markdown",
   "metadata": {},
   "source": [
    "# Day 9 - Dicionários"
   ]
  },
  {
   "cell_type": "code",
   "execution_count": 1,
   "metadata": {},
   "outputs": [
    {
     "name": "stdout",
     "output_type": "stream",
     "text": [
      "{'Harry': 81, 'Ron': 78, 'Hermione': 99, 'Draco': 74, 'Neville': 62}\n",
      "\n",
      "{'Harry': 'Exceeds Expectations', 'Ron': 'Acceptable', 'Hermione': 'Outstanding', 'Draco': 'Acceptable', 'Neville': 'Fail'}\n"
     ]
    }
   ],
   "source": [
    "student_scores = {\n",
    "  \"Harry\": 81,\n",
    "  \"Ron\": 78,\n",
    "  \"Hermione\": 99, \n",
    "  \"Draco\": 74,\n",
    "  \"Neville\": 62,\n",
    "}\n",
    "# 🚨 Don't change the code above 👆\n",
    "\n",
    "#TODO-1: Create an empty dictionary called student_grades.\n",
    "student_grades = {}\n",
    "\n",
    "#TODO-2: Write your code below to add the grades to student_grades.👇\n",
    "print(student_scores)\n",
    "\n",
    "for key in student_scores:\n",
    "    #student_grades[key] = student_scores[key]\n",
    "    notas = student_scores[key]\n",
    "\n",
    "    if notas > 90:\n",
    "        student_grades[key] = 'Outstanding'\n",
    "\n",
    "    elif (notas > 80) and (notas < 90):\n",
    "        student_grades[key] = 'Exceeds Expectations'\n",
    "\n",
    "    elif (notas > 70) and (notas <= 80):\n",
    "        student_grades[key] = 'Acceptable'\n",
    "        \n",
    "    else:\n",
    "        student_grades[key] = 'Fail'\n",
    "\n",
    "    \n",
    "# 🚨 Don't change the code below 👇\n",
    "print('')\n",
    "print(student_grades)"
   ]
  },
  {
   "cell_type": "code",
   "execution_count": 2,
   "metadata": {},
   "outputs": [
    {
     "name": "stdout",
     "output_type": "stream",
     "text": [
      "{'country': 'Russia', 'visits': 2, 'cities': ['Moscow', 'Saint Petersburg']}\n",
      "\n",
      "You've visited Russia 2 times\n",
      "\n",
      "You've been to Moscow and Saint Petersburg.\n"
     ]
    }
   ],
   "source": [
    "travel_log = [\n",
    "{\n",
    "  \"country\": \"France\",\n",
    "  \"visits\": 12,\n",
    "  \"cities\": [\"Paris\", \"Lille\", \"Dijon\"]\n",
    "},\n",
    "{\n",
    "  \"country\": \"Germany\",\n",
    "  \"visits\": 5,\n",
    "  \"cities\": [\"Berlin\", \"Hamburg\", \"Stuttgart\"]\n",
    "},\n",
    "]\n",
    "#🚨 Do NOT change the code above\n",
    "\n",
    "#TODO: Write the function that will allow new countries\n",
    "#to be added to the travel_log. 👇\n",
    "\n",
    "\n",
    "def add_new_country(pais,visitas,lugares):\n",
    "  novo_pais = {}\n",
    "\n",
    "  novo_pais['country'] = pais\n",
    "  novo_pais[\"visits\"] = visitas\n",
    "  novo_pais[\"cities\"] = lugares\n",
    "\n",
    "  travel_log.append(novo_pais)\n",
    "\n",
    "\n",
    "#🚨 Do not change the code below\n",
    "add_new_country(\"Russia\", 2, [\"Moscow\", \"Saint Petersburg\"])\n",
    "print(travel_log[2])\n",
    "\n",
    "print(f\"\\nYou've visited {travel_log[2]['country']} {travel_log[2]['visits']} times\\n\")\n",
    "\n",
    "print(f\"You've been to {travel_log[2]['cities'][0]} and {travel_log[2]['cities'][1]}.\")\n",
    "\n",
    "\n",
    "\n",
    "\n"
   ]
  },
  {
   "cell_type": "code",
   "execution_count": 69,
   "metadata": {},
   "outputs": [
    {
     "name": "stdout",
     "output_type": "stream",
     "text": [
      "Welcome to the secret auction program.\n",
      "{'Pedro': 100}\n",
      "{'Pedro': 100, 'Victor': 40}\n",
      "O vencedor foi Pedro com 100 reais\n"
     ]
    }
   ],
   "source": [
    "print('Welcome to the secret auction program.')\n",
    "dic = {}\n",
    "\n",
    "answer = True\n",
    "\n",
    "def vencedor(dic):\n",
    "    maior = 0\n",
    "    vencedor = ''\n",
    "    for key in dic:\n",
    "        maior_aposta = dic[key]\n",
    "        if maior_aposta > maior:\n",
    "            maior = maior_aposta\n",
    "            vencedor = key\n",
    "    print(f'O vencedor foi {vencedor} com {maior} reais')\n",
    "\n",
    "while answer:\n",
    "    name = input('Whats your name?')\n",
    "    aposta = int(input('Whats your bid?'))\n",
    "    answer = input('Are there any other bidders? [YES/NO]').upper()\n",
    "    if answer == 'NO':\n",
    "        answer = False\n",
    "    dic[name] = aposta\n",
    "\n",
    "    print(dic)\n",
    "vencedor(dic)  "
   ]
  },
  {
   "cell_type": "markdown",
   "metadata": {},
   "source": [
    "# Dia 10: Calculadora"
   ]
  },
  {
   "cell_type": "code",
   "execution_count": 73,
   "metadata": {},
   "outputs": [
    {
     "name": "stdout",
     "output_type": "stream",
     "text": [
      "\n",
      "=====================\n",
      "Escolha uma operação:\n",
      "\n",
      "         +\n",
      "         -\n",
      "         *\n",
      "         /\n",
      "\n",
      "=====================\n",
      "10.0 * 5.0 = 50.0\n",
      "50.0 * 10.0 = 500.0\n",
      "\n",
      "=====================\n",
      "Escolha uma operação:\n",
      "\n",
      "         +\n",
      "         -\n",
      "         *\n",
      "         /\n",
      "\n",
      "=====================\n",
      "10.0 / 2.0 = 5.0\n",
      "50.0 * 3.0 = 150.0\n"
     ]
    }
   ],
   "source": [
    "# Class Calculadora:\n",
    "def soma(n1,n2):\n",
    "    return n1 + n2\n",
    "\n",
    "\n",
    "def subtração(n1,n2):\n",
    "    return n1 - n2\n",
    "\n",
    "\n",
    "def Multiplicação(n1,n2):\n",
    "    return n1*n2\n",
    "\n",
    "\n",
    "def divisão(n1,n2):\n",
    "    return n1/n2\n",
    "\n",
    "\n",
    "print('\\nBEM VINDO CALCULADORA SIMPLES PARA NOOBS\\n')\n",
    "\n",
    "calc_dic = {\n",
    "    '+':soma,\n",
    "    '-':subtração,\n",
    "    '*':Multiplicação,\n",
    "    '/':divisão\n",
    "}\n",
    "\n",
    "def inputUsuario():\n",
    "    print('\\n=====================')\n",
    "    print('Escolha uma operação:\\n')\n",
    "    for symbol in calc_dic:\n",
    "        print('        ', symbol)\n",
    "    print('\\n=====================')\n",
    "\n",
    "def calcularadora():\n",
    "    n1 = float(input('Digite o primeiro numero: '))\n",
    "\n",
    "    #loop\n",
    "    controle = True\n",
    "    while controle:\n",
    "        inputUsuario()\n",
    "        operation = input('Digite qual operação deseja: ')\n",
    "        n2 = float(input('Digite o segundo numero: '))\n",
    "\n",
    "        #Calculo\n",
    "        calcular = calc_dic[operation]\n",
    "        result = calcular(n1,n2)\n",
    "        print (f'{n1} {operation} {n2} = {result}')\n",
    "\n",
    "        #Loop Controle\n",
    "        resp = input('Deseja continuar? [S | N] ou new para um novo calculo ').lower()\n",
    "        if resp == 'n':\n",
    "            controle = False\n",
    "        if resp == 's':\n",
    "            n1 = result\n",
    "        if resp == 'new':\n",
    "            calcularadora()\n",
    "\n",
    "\n",
    "\n",
    "\n",
    "calcularadora()"
   ]
  },
  {
   "cell_type": "markdown",
   "metadata": {},
   "source": [
    "# Day 11: Blackjack"
   ]
  },
  {
   "cell_type": "code",
   "execution_count": 179,
   "metadata": {},
   "outputs": [
    {
     "name": "stdout",
     "output_type": "stream",
     "text": [
      "BEM VINDO AO JOGO DE BLACK JACK\n",
      "\n",
      "\n",
      "Sua carta é [2, 3] | Carta do pc é [10]\n",
      "Seu Score = 5      |  Score PC = 21\n",
      "=====================================================\n",
      "\n",
      "Sua carta é [2, 3, 6] | Carta do pc é [10]\n",
      "Seu Score = 11      |  Score PC = 21\n",
      "=====================================================\n",
      "\n",
      "Sua carta é [2, 3, 6, 4] | Carta do pc é [10]\n",
      "Seu Score = 15      |  Score PC = 21\n",
      "=====================================================\n",
      "\n",
      "Sua carta é [2, 3, 6, 4, 6] | Carta do pc é [10]\n",
      "Seu Score = 21      |  Score PC = 21\n",
      "=====================================================\n",
      "\n",
      "EMPATE!\n"
     ]
    }
   ],
   "source": [
    "import random\n",
    "import time\n",
    "\n",
    "def retirarCartaDoDeck():\n",
    "    \"\"\"Returns a random card from the deck.\"\"\"\n",
    "    cards = [11, 2, 3, 4, 5, 6, 7, 8, 9, 10, 10, 10, 10]\n",
    "    card = random.choice(cards)\n",
    "    return card\n",
    "\n",
    "def calculateScore(cards):\n",
    "    if sum(cards) == 21 and len(cards) == 2:\n",
    "        return 0\n",
    "    if 11 in cards and sum(cards)>21:\n",
    "        cards.remove(11)\n",
    "        cards.append(1)\n",
    "    return sum(cards)\n",
    "\n",
    "def compare(user_score,pc_score):\n",
    "    if user_score == pc_score:\n",
    "        return 'EMPATE!'\n",
    "    elif pc_score == 0:\n",
    "        return 'BLACKJACK, VOCE PERDEU!!!'\n",
    "    elif user_score ==0:\n",
    "        return 'BLACKJACK, VOCE GANHOU!!!'\n",
    "    elif pc_score > 21:\n",
    "        return 'BLACKJACK, VOCE GANHOU!!!'\n",
    "\n",
    "    elif user_score > 21:\n",
    "        return 'BLACKJACK, VOCE PERDEU!!!'\n",
    "    elif user_score > pc_score:\n",
    "        return 'BLACKJACK, VOCE GANHOU!!!'\n",
    "    else:\n",
    "        return 'BLACKJACK, VOCE PERDEU!!!'\n",
    "\n",
    "def PlayGame():\n",
    "    game_over = False\n",
    "    cards = [11, 2, 3, 4, 5, 6, 7, 8, 9, 10, 10, 10, 10]\n",
    "    print('BEM VINDO AO JOGO DE BLACK JACK\\n')\n",
    "    user_card = []\n",
    "    pc_card = []    \n",
    "\n",
    "    for i in range(2):\n",
    "        user_card.append(retirarCartaDoDeck())\n",
    "        pc_card.append(retirarCartaDoDeck())\n",
    "        \n",
    "    while not game_over:    \n",
    "        user_score = sum(user_card)\n",
    "        pc_score = sum(pc_card)\n",
    "\n",
    "        print(f'\\nSua carta é {user_card} | Carta do pc é [{pc_card[0]}]')\n",
    "        print(f'Seu Score = {user_score}      |  Score PC = {pc_score}') \n",
    "        print('=====================================================')\n",
    "        if user_score > 21 and pc_score > 21:\n",
    "            game_over = True\n",
    "        else:\n",
    "            time.sleep(1)\n",
    "            user_ask_card = input('Digite [S] se deseja outra carta ou [N] para passar a vez ').upper()\n",
    "            if user_ask_card == 'S':\n",
    "                user_card.append(retirarCartaDoDeck())\n",
    "                \n",
    "            else:\n",
    "                game_over = True\n",
    "    \n",
    "    while pc_score !=0 and pc_score < 17:\n",
    "        pc_card.append(retirarCartaDoDeck())\n",
    "        pc_score = calculateScore(pc_card)\n",
    "\n",
    "    print(f'\\n{compare(user_score,pc_score)}')\n",
    "PlayGame()\n",
    "\n",
    "\n",
    "\n"
   ]
  },
  {
   "cell_type": "markdown",
   "metadata": {},
   "source": [
    "# Day 12"
   ]
  }
 ],
 "metadata": {
  "interpreter": {
   "hash": "afb090d2136167c637cdf2ab404a1619580975951f3bbf81646ef2416054516d"
  },
  "kernelspec": {
   "display_name": "Python 3.9.7 ('base')",
   "language": "python",
   "name": "python3"
  },
  "language_info": {
   "codemirror_mode": {
    "name": "ipython",
    "version": 3
   },
   "file_extension": ".py",
   "mimetype": "text/x-python",
   "name": "python",
   "nbconvert_exporter": "python",
   "pygments_lexer": "ipython3",
   "version": "3.9.7"
  },
  "orig_nbformat": 4
 },
 "nbformat": 4,
 "nbformat_minor": 2
}
