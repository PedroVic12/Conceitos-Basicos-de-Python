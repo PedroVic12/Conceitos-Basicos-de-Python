{
 "cells": [
  {
   "cell_type": "markdown",
   "metadata": {},
   "source": [
    "# List Comprehension"
   ]
  },
  {
   "cell_type": "markdown",
   "metadata": {},
   "source": [
    "Forma de construir uma lista no Python de forma mais rapida e mais efetivo:"
   ]
  },
  {
   "cell_type": "markdown",
   "metadata": {},
   "source": [
    "### 1) Fazendo uma lista com o for\n",
    "- Caso 1: Dobrar o valor de um produto\n",
    "- Caso 2: Todos os produtos que custarem acima de 1000 dolares, imposto temq eu subir 50% sobre o valor total"
   ]
  },
  {
   "cell_type": "code",
   "execution_count": 6,
   "metadata": {},
   "outputs": [
    {
     "name": "stdout",
     "output_type": "stream",
     "text": [
      "[500, 1500, 2000, 100, 25]\n"
     ]
    }
   ],
   "source": [
    "# LISTA INICIAL:\n",
    "lista_precos = [500, 1500, 2000,100,25]\n",
    "print(lista_precos)"
   ]
  },
  {
   "cell_type": "code",
   "execution_count": 2,
   "metadata": {},
   "outputs": [
    {
     "name": "stdout",
     "output_type": "stream",
     "text": [
      "[1000, 3000, 4000, 200, 50]\n"
     ]
    }
   ],
   "source": [
    "# CASO 1:\n",
    "nova_lista = []\n",
    "for preco in lista_precos:\n",
    "    nova_lista.append(preco*2)\n",
    "print(nova_lista)\n"
   ]
  },
  {
   "cell_type": "code",
   "execution_count": 15,
   "metadata": {},
   "outputs": [
    {
     "name": "stdout",
     "output_type": "stream",
     "text": [
      "[500, 1500, 2000, 100, 25]\n",
      "[750.0, 1000.0]\n",
      "Imposto sobre 1500 = 750.0 \n",
      "Imposto sobre 2000 = 1000.0 \n"
     ]
    }
   ],
   "source": [
    "# Caso 2:\n",
    "imposto = []\n",
    "for preco in lista_precos:\n",
    "    if preco > 1000:\n",
    "        imposto.append(preco*0.5)\n",
    "print(lista_precos)\n",
    "print(imposto)\n",
    "print(f\"Imposto sobre {lista_precos[1]} = {imposto[0]} \") \n",
    "print(f\"Imposto sobre {lista_precos[2]} = {imposto[1]} \") \n",
    "\n"
   ]
  },
  {
   "cell_type": "markdown",
   "metadata": {},
   "source": [
    "### 2) Fazendo uma lista com List Comprehension"
   ]
  },
  {
   "cell_type": "code",
   "execution_count": 4,
   "metadata": {},
   "outputs": [
    {
     "name": "stdout",
     "output_type": "stream",
     "text": [
      "[1000, 3000, 4000, 200, 50]\n"
     ]
    }
   ],
   "source": [
    "#CASO 1:\n",
    "nova_lista2 = [preco * 2 for preco in lista_precos]\n",
    "print(nova_lista2)"
   ]
  },
  {
   "cell_type": "code",
   "execution_count": 19,
   "metadata": {},
   "outputs": [
    {
     "name": "stdout",
     "output_type": "stream",
     "text": [
      "[500, 1500, 2000, 100, 25]\n",
      "[750.0, 1000.0]\n",
      "Imposto sobre 1500 = 750.0 \n",
      "Imposto sobre 2000 = 1000.0 \n"
     ]
    }
   ],
   "source": [
    "#CASO 2:\n",
    "imposto2 = [preco*0.5 for preco in lista_precos if preco > 1000]\n",
    "print(lista_precos)\n",
    "print(imposto2)\n",
    "print(f\"Imposto sobre {lista_precos[1]} = {imposto2[0]} \") \n",
    "print(f\"Imposto sobre {lista_precos[2]} = {imposto2[1]} \")"
   ]
  },
  {
   "cell_type": "markdown",
   "metadata": {},
   "source": [
    "## Quais são as vantagens?\n",
    "- Tudo em um codigo menor. Quanto menos codigo, menos erros.\n",
    "- Mais rapido e mais simples se estiver acostumado(saiba o que esta fazendo)"
   ]
  }
 ],
 "metadata": {
  "interpreter": {
   "hash": "74ab7c6ffe6706754a8af46cc4d18eebe476c74ce21a19282f620e1b1e9919fe"
  },
  "kernelspec": {
   "display_name": "Python 3.9.7 64-bit ('base': conda)",
   "language": "python",
   "name": "python3"
  },
  "language_info": {
   "codemirror_mode": {
    "name": "ipython",
    "version": 3
   },
   "file_extension": ".py",
   "mimetype": "text/x-python",
   "name": "python",
   "nbconvert_exporter": "python",
   "pygments_lexer": "ipython3",
   "version": "3.9.7"
  },
  "orig_nbformat": 4
 },
 "nbformat": 4,
 "nbformat_minor": 2
}
