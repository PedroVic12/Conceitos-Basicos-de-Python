{
 "cells": [
  {
   "cell_type": "markdown",
   "metadata": {},
   "source": [
    "# 1) Tipos de Variaveis e FORMAT"
   ]
  },
  {
   "cell_type": "markdown",
   "metadata": {},
   "source": [
    "## O que sao Variaveis?"
   ]
  },
  {
   "cell_type": "markdown",
   "metadata": {},
   "source": [
    "Variáveis  são espaços  reservados  na  memória  docomputador  para  que possamosarmazenar,temporariamente,um determinado dado.\n",
    "\n",
    "Vale  ressaltarque  “dado”  é  algo  que por si  só  e  de  maneira  isolada não possui significado para o usuário final. O “dado” apenas passa a ter significado para o usuário  final  quando  o  combinamos  com  outros  “dados”,   tornando-o   uma “informação”\n",
    "\n",
    "- Se eu falar para você: dezenove. O que significa? Você pode pensar: é uma dezena ou é uma idade, é a temperatura ambiente ou é a quantidade de alunos, é a quantidade  de  tarefas  ou  é  a  quantidade  de pontos  que  uma  equipe  de  basquete realizou,  enfim,o  dado  “dezenove”  por  si  só  não  tem  significado,  pois  pode  ser qualquer uma dessas hipótesesou até mesmo todas as hipóteses.Agora,  se  eu  falar:  dezenove  sobrinhos,  você  saberá  que  estou  falando  em quantidade  de  pessoas,  mas  ainda  não  tem  a  informação  exata,  por  quê? Porque faltam  dados.Quantomais  dados  tivermos,  melhor poderá  sera  informação  que obteremos. Podemos chegar auma informação do tipo: tenho dezenove sobrinhos, dez commais de 20anose os outros nove com menosou exatamente 20anos."
   ]
  },
  {
   "cell_type": "markdown",
   "metadata": {},
   "source": [
    "## Indicadores"
   ]
  },
  {
   "cell_type": "markdown",
   "metadata": {},
   "source": [
    "Como  poderemos  encontrar  um  dado  dentro  de  uma  variável  que,por  sua vez, está dentro da memória do computador? \n",
    "\n",
    "Vamos pensar na prática. Quando você chega em um laboratório de exames clínicos  muito  movimentado  (cada  pessoa  é  uma  variável),  pega  uma  senha  na entrada e  aguarda a  chamada.  A  atendente precisa  saber  quem é  o  próximo  a  ser atendido  (dado).  Ecomo  ela  faz  isso?  Chamando pelosnúmeros  que ficaramdisponíveis na entradapara os clientes, ou seja, elachamapela sua identificação, o número é o seu identificador.\n",
    "\n",
    " O  mesmo  processo vai ocorrer  com  as  variáveis,  se  eu  preciso  de  um  dado que está dentro da variável vou chamar pelo identificador. Com isso, podemos dizer que  o  identificador  é  o  nome  que  atribuímos a uma  variável.  E  assim  como  no mundo  real,  temos  algumas  regras  e  padrões  para  definirmos  um  identificador  de variável."
   ]
  },
  {
   "cell_type": "markdown",
   "metadata": {},
   "source": [
    "# Exemplo:"
   ]
  },
  {
   "cell_type": "code",
   "execution_count": 4,
   "metadata": {},
   "outputs": [
    {
     "name": "stdout",
     "output_type": "stream",
     "text": [
      "O funcionario Pedro Victor trabalha na empresa SpaceX\n",
      "Possui 5000 funcionarios \n",
      "A media de mensalidade é 7500.0 \n",
      "\n",
      "Verifique os tipos de dados abaixo:\n",
      " \n",
      "O tipo de dado da variavel Pedro Victor é: <class 'str'>\n",
      "O tipo de dado da variavel SpaceX é: <class 'str'>\n",
      "O tipo de dado da variavel 5000 é: <class 'int'>\n",
      "O tipo de dado da variavel 7500.0 é: <class 'float'>\n"
     ]
    }
   ],
   "source": [
    "nome = input(\"Digite o nome de um funcionario: \")\n",
    "empresa = input(\"Digite a instituição: \")\n",
    "qtd_funcionarios = int(input(\"Difite a quantidade de funcionarios:\"))\n",
    "media_mensalidade = float(input(\"Digite a media da mensalidade\"))\n",
    "print(f\"O funcionario {nome} trabalha na empresa {empresa}\")\n",
    "print(f\"Possui {qtd_funcionarios} funcionarios \")\n",
    "print(f\"A media de mensalidade é {str(media_mensalidade)} \")\n",
    "print(\"\\nVerifique os tipos de dados abaixo:\\n \")\n",
    "print(f\"O tipo de dado da variavel {nome} é:\",type(nome))\n",
    "print(f\"O tipo de dado da variavel {empresa} é:\",type(empresa))\n",
    "print(f\"O tipo de dado da variavel {qtd_funcionarios} é:\",type(qtd_funcionarios))\n",
    "print(f\"O tipo de dado da variavel {media_mensalidade} é:\",type(media_mensalidade))"
   ]
  },
  {
   "cell_type": "markdown",
   "metadata": {},
   "source": [
    "# 2) Manipulando textos"
   ]
  },
  {
   "cell_type": "markdown",
   "metadata": {},
   "source": [
    "### --> Letras maisculas, minusculas e tamanho"
   ]
  },
  {
   "cell_type": "code",
   "execution_count": 42,
   "metadata": {},
   "outputs": [
    {
     "name": "stdout",
     "output_type": "stream",
     "text": [
      "Pedro Victor Rodrigues, Seja bem vindo ao DNC\n"
     ]
    }
   ],
   "source": [
    "#Exercicio 1:\n",
    "primeiro_nome = \"Pedro\"\n",
    "segundo_nome = \"Victor\"\n",
    "terceiro_nome = \"Rodrigues\"\n",
    "print(primeiro_nome,segundo_nome,terceiro_nome + \", Seja bem vindo ao DNC\")"
   ]
  },
  {
   "cell_type": "code",
   "execution_count": 43,
   "metadata": {},
   "outputs": [
    {
     "name": "stdout",
     "output_type": "stream",
     "text": [
      "O nome do cliente é Pedro Victor\n",
      "A idade do cliente é 23\n"
     ]
    }
   ],
   "source": [
    "cliente_nome = input('Digite seu nome:')\n",
    "cliente_idade = input('Digite sua idade:')\n",
    "print('O nome do cliente é:',cliente_nome)\n",
    "print(f'A idade do cliente é: {cliente_idade}')"
   ]
  },
  {
   "cell_type": "code",
   "execution_count": 44,
   "metadata": {},
   "outputs": [
    {
     "name": "stdout",
     "output_type": "stream",
     "text": [
      "The Zen of Python, by Tim Peters\n",
      "\n",
      "Beautiful is better than ugly.\n",
      "Explicit is better than implicit.\n",
      "Simple is better than complex.\n",
      "Complex is better than complicated.\n",
      "Flat is better than nested.\n",
      "Sparse is better than dense.\n",
      "Readability counts.\n",
      "Special cases aren't special enough to break the rules.\n",
      "Although practicality beats purity.\n",
      "Errors should never pass silently.\n",
      "Unless explicitly silenced.\n",
      "In the face of ambiguity, refuse the temptation to guess.\n",
      "There should be one-- and preferably only one --obvious way to do it.\n",
      "Although that way may not be obvious at first unless you're Dutch.\n",
      "Now is better than never.\n",
      "Although never is often better than *right* now.\n",
      "If the implementation is hard to explain, it's a bad idea.\n",
      "If the implementation is easy to explain, it may be a good idea.\n",
      "Namespaces are one honking great idea -- let's do more of those!\n"
     ]
    }
   ],
   "source": [
    "import this"
   ]
  },
  {
   "cell_type": "code",
   "execution_count": 30,
   "metadata": {},
   "outputs": [
    {
     "name": "stdout",
     "output_type": "stream",
     "text": [
      "Analisando seu nome...\n",
      "Seu nome em maisculas é: PEDRO\n",
      "Seu nome em minusculas é: pedro\n",
      "Seu nome tem ao todo 5 letras\n",
      "Veras Veras\n",
      "Rodrigues\n",
      "Veras\n"
     ]
    }
   ],
   "source": [
    "nome = input('Digite seu nome Completo')\n",
    "sobrenome = \"Rodrigues Veras\"\n",
    "a = sobrenome.split(\" \")\n",
    "print('Analisando seu nome...')\n",
    "print('Seu nome em maisculas é: {}'.format(nome.upper()))\n",
    "print('Seu nome em minusculas é: {}'.format(nome.lower()))\n",
    "print('Seu nome tem ao todo {} letras'.format(len(nome)))\n",
    "print(sobrenome.replace(\"Rodrigues\", \"Veras\")) # Trocar o rodrigues por veras\n",
    "print(a[0])\n",
    "print(a[1])\n"
   ]
  },
  {
   "cell_type": "code",
   "execution_count": 31,
   "metadata": {},
   "outputs": [
    {
     "name": "stdout",
     "output_type": "stream",
     "text": [
      "Seu nome tem Pedro? True \n",
      " Seu primeiro nome é Pedro \n",
      "Seu ultimo nome é Victor \n"
     ]
    }
   ],
   "source": [
    "n = str(input('Qual é o seu nome?')).strip() #tira os espaços do inicio e no final\n",
    "\n",
    "nome = n.split() # Transforma meu nome em array\n",
    "\n",
    "print('Seu nome tem Pedro? {} '.format('pedro' in n.lower()))\n",
    "print(' Seu primeiro nome é {} '.format(nome[0]))\n",
    "print('Seu ultimo nome é {} '.format(nome[len(nome)- 1]))\n"
   ]
  },
  {
   "cell_type": "markdown",
   "metadata": {},
   "source": [
    "# 3) Condiçoes logicas (IF)"
   ]
  },
  {
   "cell_type": "code",
   "execution_count": 6,
   "metadata": {},
   "outputs": [
    {
     "name": "stdout",
     "output_type": "stream",
     "text": [
      "O paciente Jose deve ser direcionado para a sala de espera reservada \n"
     ]
    }
   ],
   "source": [
    "nome=input(\"Digite o nome: \")\n",
    "idade=int(input(\"Digite a idade: \"))doenca_infectocontagiosa=input(\"Suspeita de doença infectocontagiosa?\").upper()\n",
    "\n",
    "# PRIMEIRO PROBLEMA A SER RESOLVIDO\n",
    "if doenca_infectocontagiosa==\"SIM\":\n",
    "    print(\"Encaminhe o paciente para sala AMARELA\")\n",
    "elif doenca_infectocontagiosa==\"NAO\":\n",
    "    print(\"Encaminhe o paciente para sala BRANCA\")\n",
    "else:\n",
    "    print(\"Responda a suspeita de doença infectocontagiosa com SIM ou NAO\")\n",
    "\n",
    "# SEGUNDO PROBLEMA A SER RESOLVIDO\n",
    "if idade >= 65:\n",
    "    print(\"Paciente COM prioridade\")\n",
    "else:\n",
    "    genero=input(\"Digite o gênero do paciente: \").upper()\n",
    "    \n",
    "    if genero==\"FEMININO\" and idade>10:\n",
    "        gravidez=input(\"A paciente está grávida?\").upper()\n",
    "        \n",
    "        if gravidez==\"SIM\":\n",
    "            print(\"Paciente COM prioridade\")\n",
    "        else:\n",
    "            print(\"Paciente SEM prioridade\"\n",
    "    else:\n",
    "        print(\"Paciente SEM prioridade\")           \n",
    "                    \n",
    "        "
   ]
  },
  {
   "cell_type": "code",
   "execution_count": 8,
   "metadata": {},
   "outputs": [
    {
     "name": "stdout",
     "output_type": "stream",
     "text": [
      "O numero 10 é Par\n",
      "O numero 5 é impar\n"
     ]
    }
   ],
   "source": [
    "# Impar ou par?\n",
    "a = int(input(' Entre com um valor: '))\n",
    "b = int(input('Ente com o segundo valor'))\n",
    "resto_a = a % 2\n",
    "resto_b = b % 2\n",
    "if resto_a  == 0:\n",
    "    print('O numero {} é Par'.format(a))\n",
    "else:\n",
    "    print('O numero {} é impar'.format(a))\n",
    "\n",
    "if resto_b  == 0:\n",
    "    print('O numero {} é Par'.format(b))\n",
    "else:\n",
    "    print('O numero {} é impar'.format(b))\n",
    "    "
   ]
  },
  {
   "cell_type": "code",
   "execution_count": 32,
   "metadata": {},
   "outputs": [
    {
     "name": "stdout",
     "output_type": "stream",
     "text": [
      "Voce digitou alguma nota errada. Digite a terceira nota : \n",
      "Voce digitou alguma nota errada. Digite a terceira nota : \n",
      "Sua primeira nota foi: 10.0 \n",
      "Sua segunda nota foi: 4.0 \n",
      "Sua terceira nota foi: 8.0 \n",
      "Sua quarta nota foi: 2.0 \n",
      "Sua media foi 6.0 \n",
      "Parabens! voce foi aprovado com a media de 6.0 \n"
     ]
    }
   ],
   "source": [
    "# Aprovação de uma aluno\n",
    "\n",
    "n1 = float(input('Digite a primeira nota: '))\n",
    "\n",
    "while n1 > 10:\n",
    "    print('Voce digitou alguma nota errada. Digite a primeira nota')\n",
    "    n1 = float(input('primeira nota :'))\n",
    "\n",
    "n2 = float(input('Digite a segunda nota: '))\n",
    "\n",
    "while n2 > 10:\n",
    "    print('Voce digitou alguma nota errada. Digite a segunda nota')\n",
    "    n2 = float(input('segunda nota :'))\n",
    "\n",
    "n3 = float(input('Digite a terceira nota: Digite a terceira nota'))\n",
    "\n",
    "while n3 > 10:\n",
    "    print('Voce digitou alguma nota errada. Digite a terceira nota : ')\n",
    "    n3 = float(input('terceira nota :'))\n",
    "\n",
    "n4 = float(input('Digite a quarta nota: '))\n",
    "\n",
    "while n4 > 10:\n",
    "    print('Voce digitou alguma nota errada. Digite a quarta nota : ')\n",
    "    n4 = float(input('quarta nota :'))\n",
    "\n",
    "print('Sua primeira nota foi: {} '.format(n1))\n",
    "print('Sua segunda nota foi: {} '.format(n2))\n",
    "print('Sua terceira nota foi: {} '.format(n3))\n",
    "print('Sua quarta nota foi: {} '.format(n4))\n",
    "\n",
    "m = (n1 + n2 + n3 + n4)/4\n",
    "print('Sua media foi {} '.format(m))\n",
    "\n",
    "if m < 7:\n",
    "    print('Parabens! voce foi aprovado com a media de {} '.format(m))\n",
    "else:\n",
    "     print('Voce foi reprovado, busque informaçoes para fazer a prova de recuperação')\n"
   ]
  },
  {
   "cell_type": "markdown",
   "metadata": {},
   "source": [
    "# 4) Loops e repetição ( FOR, WHILE, RANGE)"
   ]
  },
  {
   "cell_type": "markdown",
   "metadata": {},
   "source": [
    "## Loop FOR\n",
    "- Voce pode definir uma faixa onde ele vai analisar. Isso serve para voce definir o inicio e o final do seu loop."
   ]
  },
  {
   "cell_type": "markdown",
   "metadata": {},
   "source": [
    "Tabuada"
   ]
  },
  {
   "cell_type": "code",
   "execution_count": 12,
   "metadata": {},
   "outputs": [
    {
     "name": "stdout",
     "output_type": "stream",
     "text": [
      "Tabuada do numero: 2\n",
      " 2 x 1 = 2\n",
      " 2 x 2 = 4\n",
      " 2 x 3 = 6\n",
      " 2 x 4 = 8\n",
      " 2 x 5 = 10\n",
      " 2 x 6 = 12\n",
      " 2 x 7 = 14\n",
      " 2 x 8 = 16\n",
      " 2 x 9 = 18\n",
      " 2 x 10 = 20\n"
     ]
    }
   ],
   "source": [
    "numero = int(input(\"Digite um numero para exibir a tabuada:\"))\n",
    "print(f\"Tabuada do numero: {numero}\")\n",
    "for valor in range(1,11,1): \n",
    "    \n",
    "    # (1,0,0) = Numero incial \n",
    "    # (11,0,0) = Valor limite \n",
    "    # (0,0,1) = incrimento \n",
    "    \n",
    "    print(f\" {str(numero)} x {str(valor)} = {str(valor*numero)}\")"
   ]
  },
  {
   "cell_type": "code",
   "execution_count": 35,
   "metadata": {},
   "outputs": [
    {
     "name": "stdout",
     "output_type": "stream",
     "text": [
      "HRV\n",
      "Golf\n",
      "  Fiat Uno\n",
      "Argo\n",
      "Focus\n",
      "P\n",
      "e\n",
      "d\n",
      "r\n",
      "o\n"
     ]
    }
   ],
   "source": [
    "carros = ['HRV', 'Golf', 'Argo', 'Focus']\n",
    "\n",
    "for x in carros:\n",
    "    print(x)\n",
    "    if x == \"Golf\": # Depois do golf, imprimir fiat uno\n",
    "        print(\"  Fiat Uno\")\n",
    "\n",
    "for y in \"Pedro\":\n",
    "    print(y)\n",
    "\n"
   ]
  },
  {
   "cell_type": "markdown",
   "metadata": {},
   "source": [
    "### => Resto de divisao"
   ]
  },
  {
   "cell_type": "code",
   "execution_count": 27,
   "metadata": {},
   "outputs": [
    {
     "name": "stdout",
     "output_type": "stream",
     "text": [
      "O numero 11 divido por 1 tem o resto 0 \n",
      "O numero 11 divido por 2 tem o resto 1 \n",
      "O numero 11 divido por 3 tem o resto 2 \n",
      "O numero 11 divido por 4 tem o resto 3 \n",
      "O numero 11 divido por 5 tem o resto 1 \n",
      "O numero 11 divido por 6 tem o resto 5 \n",
      "O numero 11 divido por 7 tem o resto 4 \n",
      "O numero 11 divido por 8 tem o resto 3 \n",
      "O numero 11 divido por 9 tem o resto 2 \n",
      "O numero 11 divido por 10 tem o resto 1 \n",
      "O numero 11 divido por 11 tem o resto 0 \n",
      "O numero é 11 é primo \n"
     ]
    }
   ],
   "source": [
    "a = int(input('Entre com o numero: '))\n",
    "\n",
    "div = 0\n",
    "for x in range(1, a+1):\n",
    "    resto = a % x \n",
    "    print('O numero {} divido por {} tem o resto {} '.format(a,x, resto))\n",
    "    if resto == 0:\n",
    "        # div = div + 1\n",
    "        div += 1 #mesma coisa que o de cima\n",
    "\n",
    "if div == 2:\n",
    "    print('O numero é {} é primo '.format(a))\n",
    "else:\n",
    "    print(' O numero {} NAO é primo'.format(a))"
   ]
  },
  {
   "cell_type": "markdown",
   "metadata": {},
   "source": [
    "### => Todos os numeros primos"
   ]
  },
  {
   "cell_type": "code",
   "execution_count": 39,
   "metadata": {},
   "outputs": [
    {
     "name": "stdout",
     "output_type": "stream",
     "text": [
      "Os numeros primos ate o valor 7 sao \n",
      "2\n",
      "3\n",
      "5\n",
      "7\n"
     ]
    }
   ],
   "source": [
    "\n",
    "n = int(input('Entre com um valor: '))\n",
    "print('Os numeros primos ate o valor {} sao '.format(n))\n",
    "for num in range(n+1):\n",
    "    div = 0\n",
    "\n",
    "    for x in range (1, num +1):\n",
    "        resto = num % x\n",
    "        if resto == 0:\n",
    "            div += 1\n",
    "    if div == 2:\n",
    "        print(num)"
   ]
  },
  {
   "cell_type": "markdown",
   "metadata": {},
   "source": [
    "## Loop WHILE\n",
    "- executará o seu bloco de códigos enquanto a condição for verdadeira e  não  somente  uma  vez,  ou  seja,  a  condição  será  testada  enquanto  não  for  falsa.\n",
    "\n",
    "\n",
    "\n",
    "\"while\" trabalha mais diretamente com a interação  do  usuário  final,  diferentemente  do  “for”, com  o  que normalmente  a situação  está  previamente  definida  pelo  próprio  sistema. "
   ]
  },
  {
   "cell_type": "code",
   "execution_count": 7,
   "metadata": {},
   "outputs": [
    {
     "name": "stdout",
     "output_type": "stream",
     "text": [
      "1\n",
      "2\n",
      "3\n",
      "4\n",
      "5\n"
     ]
    }
   ],
   "source": [
    "n = int(input(\"Digite um numero inicial\"))\n",
    "while n <= 5:\n",
    "    print(n)\n",
    "    n += 1"
   ]
  },
  {
   "cell_type": "code",
   "execution_count": 10,
   "metadata": {},
   "outputs": [
    {
     "name": "stdout",
     "output_type": "stream",
     "text": [
      "\n",
      " Digite não para parar!\n",
      "1\n",
      "2\n",
      "3\n",
      "4\n",
      "5\n"
     ]
    }
   ],
   "source": [
    "num = []\n",
    "print(\"\\n Digite não para parar!\")\n",
    "numero = input(\" Digite um numero.\")\n",
    "while numero != \"não\":\n",
    "    num.append(numero)\n",
    "    numero = input(\" Digite um numero\")\n",
    "\n",
    "for x in num:\n",
    "    print(x)"
   ]
  },
  {
   "cell_type": "markdown",
   "metadata": {},
   "source": [
    "# 5) Listas, Tuplas, Matrizes e Dicionarios"
   ]
  },
  {
   "cell_type": "markdown",
   "metadata": {},
   "source": [
    "## Listas"
   ]
  },
  {
   "cell_type": "code",
   "execution_count": 16,
   "metadata": {},
   "outputs": [
    {
     "name": "stdout",
     "output_type": "stream",
     "text": [
      "Lista carros sem modificação\n",
      "['HRV', 'GOlf', 'Argo', 'Focus', 'Camaro', 'Fiat Uno']\n",
      "Lista carros COM modificação\n",
      "['HRV', 'GOlf', 'Focus', 'Camaro']\n",
      "4 Carros na lista\n",
      "Nova lista de carros: ['HRV', 'GOlf', 'Focus', 'Camaro'] \n",
      "--------------------\n",
      " Somando duas listas fica assim:['HRV', 'GOlf', 'Focus', 'Camaro', 'HRV', 'GOlf', 'Focus', 'Camaro'] \n"
     ]
    }
   ],
   "source": [
    "carros = ['HRV', 'GOlf', \"Argo\", 'Focus']\n",
    "carros.append('Camaro') # Adicionando outros carros\n",
    "carros.append('Fiat Uno')\n",
    "print('Lista carros sem modificação')\n",
    "print(carros)\n",
    "\n",
    "\n",
    "carros.remove(\"Argo\") #removendo algo da lista\n",
    "# del carros[2] tambem serve\n",
    "carros.pop() # Removendo o ultimo elemento da lista(fiat uno)\n",
    "\n",
    "print('Lista carros COM modificação')\n",
    "print(carros)\n",
    "print(str(len(carros)) + ' Carros na lista')\n",
    "\n",
    "carros2 = list(carros) #receber toda a lista carros\n",
    "print('Nova lista de carros: {} '.format(carros2))\n",
    "\n",
    "carros3 = carros + carros2\n",
    "print('--------------------')\n",
    "print(\" Somando duas listas fica assim:{} \".format(carros3))"
   ]
  },
  {
   "cell_type": "markdown",
   "metadata": {},
   "source": [
    "### => Listas sao mutaveis"
   ]
  },
  {
   "cell_type": "code",
   "execution_count": 6,
   "metadata": {},
   "outputs": [
    {
     "name": "stdout",
     "output_type": "stream",
     "text": [
      "18\n",
      "7\n",
      "O lobo nao esta na lista \n",
      "O lobo esta inserido agora\n",
      "['arara', 'cachorro', 'elefante', 'gato', 'lobo']\n"
     ]
    }
   ],
   "source": [
    "lista = [1, 2, 3, 5, 7]\n",
    "lista_animal = ['arara' ,'cachorro', 'gato', 'elefante']\n",
    "print(sum(lista))\n",
    "print(max(lista))\n",
    "\n",
    "lista.sort()\n",
    "lista_animal.sort()\n",
    "\n",
    "if 'lobo' in lista_animal:\n",
    "    print('Existe um lobo na lsita')\n",
    "else:\n",
    "        print('O lobo nao esta na lista ')\n",
    "        lista_animal.append('lobo')\n",
    "        print('O lobo esta inserido agora')\n",
    "        print(lista_animal)\n"
   ]
  },
  {
   "cell_type": "markdown",
   "metadata": {},
   "source": [
    "## Tuplas"
   ]
  },
  {
   "cell_type": "code",
   "execution_count": 46,
   "metadata": {},
   "outputs": [
    {
     "name": "stdout",
     "output_type": "stream",
     "text": [
      "HRV\n",
      "Golf\n",
      "Focus\n",
      "('HRV', 'Golf', 'Fiat Uno')\n"
     ]
    }
   ],
   "source": [
    "lista_carros = [\"HRV\", \"Golf\", \"Fiat Uno\"]\n",
    "tupla_carros = (\"HRV\", \"Golf\", \"Fiat Uno\")\n",
    "\n",
    "lista_carros[2]= \"Focus\" #ISSO SO PODE SER FEITO NA LISTA, Listas sao mutaveis\n",
    "for x in lista_carros:\n",
    "    print(x)\n",
    "\n",
    "print(tupla_carros)\n",
    "\n",
    "# Transformar uma lista em uma tupla e vice versa\n",
    "# lista_carros = list(tupla_carros)\n",
    "# tupla_carros = tuple(lista_carros)\n",
    "\n"
   ]
  },
  {
   "cell_type": "markdown",
   "metadata": {},
   "source": [
    "## Matrizes"
   ]
  },
  {
   "cell_type": "code",
   "execution_count": null,
   "metadata": {},
   "outputs": [],
   "source": []
  },
  {
   "cell_type": "markdown",
   "metadata": {},
   "source": [
    "## Conjuntos e subconjutos"
   ]
  },
  {
   "cell_type": "code",
   "execution_count": 3,
   "metadata": {},
   "outputs": [
    {
     "ename": "TypeError",
     "evalue": "unsupported operand type(s) for %: 'set' and 'int'",
     "output_type": "error",
     "traceback": [
      "\u001b[1;31m---------------------------------------------------------------------------\u001b[0m",
      "\u001b[1;31mTypeError\u001b[0m                                 Traceback (most recent call last)",
      "\u001b[1;32m<ipython-input-3-9d22cc2702ac>\u001b[0m in \u001b[0;36m<module>\u001b[1;34m\u001b[0m\n\u001b[0;32m      3\u001b[0m \u001b[0mconjunto\u001b[0m\u001b[1;33m.\u001b[0m\u001b[0mdiscard\u001b[0m\u001b[1;33m(\u001b[0m\u001b[1;36m2\u001b[0m\u001b[1;33m)\u001b[0m\u001b[1;33m\u001b[0m\u001b[1;33m\u001b[0m\u001b[0m\n\u001b[0;32m      4\u001b[0m \u001b[1;33m\u001b[0m\u001b[0m\n\u001b[1;32m----> 5\u001b[1;33m \u001b[1;32mif\u001b[0m \u001b[0mconjunto\u001b[0m \u001b[1;33m%\u001b[0m \u001b[1;36m2\u001b[0m \u001b[1;33m==\u001b[0m \u001b[1;36m0\u001b[0m\u001b[1;33m:\u001b[0m\u001b[1;33m\u001b[0m\u001b[1;33m\u001b[0m\u001b[0m\n\u001b[0m\u001b[0;32m      6\u001b[0m     \u001b[0mnum_par\u001b[0m \u001b[1;33m=\u001b[0m \u001b[0mconjunto\u001b[0m\u001b[1;33m\u001b[0m\u001b[1;33m\u001b[0m\u001b[0m\n\u001b[0;32m      7\u001b[0m     \u001b[0mprint\u001b[0m\u001b[1;33m(\u001b[0m\u001b[0mnum_par\u001b[0m\u001b[1;33m)\u001b[0m\u001b[1;33m\u001b[0m\u001b[1;33m\u001b[0m\u001b[0m\n",
      "\u001b[1;31mTypeError\u001b[0m: unsupported operand type(s) for %: 'set' and 'int'"
     ]
    }
   ],
   "source": [
    "conjunto = {1,2,3,4,3,2}\n",
    "conjunto.add(5)\n",
    "conjunto.discard(2)\n",
    "   \n",
    "conjunto2 = {5,6,7,8}\n",
    "conjunto_uniao = conjunto.union(conjunto2)\n",
    "print(conjunto_uniao)"
   ]
  },
  {
   "cell_type": "markdown",
   "metadata": {},
   "source": [
    "# 6) Metodos, funçoes e Classes"
   ]
  },
  {
   "cell_type": "code",
   "execution_count": 14,
   "metadata": {},
   "outputs": [
    {
     "name": "stdout",
     "output_type": "stream",
     "text": [
      "12\n",
      "8\n",
      "20\n",
      "5.0\n"
     ]
    }
   ],
   "source": [
    "# Primeira forma\n",
    "class Calculadora:\n",
    "    def __init__(self, n1, n2):\n",
    "        self.a = n1\n",
    "        self.b = n2\n",
    "\n",
    "    # Função:\n",
    "    def soma(self):\n",
    "        return self.a + self.b\n",
    "\n",
    "    def subtracao(self):\n",
    "        return self.a - self.b\n",
    "\n",
    "    def multiplicação(self):\n",
    "        return self.a * self.b\n",
    "\n",
    "    def divisao(self):\n",
    "        return self.a / self.b\n",
    "\n",
    "calculadora = Calculadora(10,2)\n",
    "print(calculadora.soma())\n",
    "print(calculadora.subtracao())\n",
    "print(calculadora.multiplicação())\n",
    "print(calculadora.divisao())\n"
   ]
  },
  {
   "cell_type": "code",
   "execution_count": 16,
   "metadata": {},
   "outputs": [
    {
     "name": "stdout",
     "output_type": "stream",
     "text": [
      "12\n",
      "-4\n",
      "500\n",
      "2.0\n"
     ]
    }
   ],
   "source": [
    "# Segunda forma:\n",
    "class Calculadora:\n",
    "    def __init__(self):\n",
    "        pass\n",
    "        # Função:\n",
    "    def soma(self, a, b):\n",
    "        return a + b\n",
    "\n",
    "    def subtracao(self, a, b):\n",
    "        return a - b\n",
    "\n",
    "    def multiplicação(self, a, b):\n",
    "        return a * b\n",
    "\n",
    "    def divisao(self, a, b):\n",
    "        return a / b\n",
    "\n",
    "\n",
    "calculadora = Calculadora()\n",
    "print(calculadora.soma(10,2))\n",
    "print(calculadora.subtracao(1,5))\n",
    "print(calculadora.multiplicação(50,10))\n",
    "print(calculadora.divisao(10,5))\n"
   ]
  },
  {
   "cell_type": "code",
   "execution_count": 2,
   "metadata": {},
   "outputs": [
    {
     "name": "stdout",
     "output_type": "stream",
     "text": [
      "__main__\n",
      "Televisao esta ligada: False\n",
      "Televisao esta ligada: True\n",
      "Televisao esta ligada: False\n",
      "Canal: 5 \n",
      "Televisao esta ligada: True\n",
      "Canal: 7 \n",
      "Canal: 6 \n"
     ]
    }
   ],
   "source": [
    "# Televisao:\n",
    "class Televisao:\n",
    "    def __init__(self):\n",
    "        self.ligada = False\n",
    "        self.canal = 5\n",
    "\n",
    "    def power(self):\n",
    "        if self.ligada:\n",
    "            self.ligada = False\n",
    "        else:\n",
    "            self.ligada = True\n",
    "\n",
    "    def aumenta_canal(self):\n",
    "        if self.ligada:\n",
    "            self.canal += 1\n",
    "\n",
    "    def diminui_canal(self):\n",
    "        if self.ligada:\n",
    "            self.canal -= 1\n",
    "            \n",
    "# ------------------------------\n",
    "print(__name__)\n",
    "if __name__ == '__main__':\n",
    "# bom para fazer testes!!!!\n",
    "# Bom para importaçoes externas!!!!!!\n",
    "\n",
    "    tv = Televisao()\n",
    "    print('Televisao esta ligada: {}'.format(tv.ligada))\n",
    "    tv.power()\n",
    "    print('Televisao esta ligada: {}'.format(tv.ligada))\n",
    "    tv.power()\n",
    "    print('Televisao esta ligada: {}'.format(tv.ligada))\n",
    "\n",
    "    print('Canal: {} '.format(tv.canal))\n",
    "    tv.power()\n",
    "    print('Televisao esta ligada: {}'.format(tv.ligada))\n",
    "    tv.aumenta_canal()\n",
    "    tv.aumenta_canal()\n",
    "    print('Canal: {} '.format(tv.canal))\n",
    "    tv.diminui_canal()\n",
    "    print('Canal: {} '.format(tv.canal))\n"
   ]
  },
  {
   "cell_type": "markdown",
   "metadata": {},
   "source": [
    "# 7) Lidando com modulos, importação de classes, metodos e contruçoes de funçoes anonimas(lambda)"
   ]
  },
  {
   "cell_type": "code",
   "execution_count": 4,
   "metadata": {},
   "outputs": [
    {
     "name": "stdout",
     "output_type": "stream",
     "text": [
      "False\n",
      "True\n",
      "O total de letras de cada palavra da lista é: [8, 4, 8] \n",
      "teste\n",
      "None\n"
     ]
    }
   ],
   "source": [
    "from programa_tv import Televisao\n",
    "#Pegando um outro arquivo dentro da pasta, isso ajuda a ficar mais organizado...\n",
    "\n",
    "from contador_letras import contador_letras, teste\n",
    "\n",
    "if __name__ == '__main__':\n",
    "    # importando o programa de tv\n",
    "    tv = Televisao()\n",
    "    print(tv.ligada)\n",
    "    tv.power()\n",
    "    print(tv.ligada)\n",
    "    \n",
    "    # Importando o contador de letras\n",
    "    lista = ['cachorro', 'gato', 'elefante']\n",
    "    total_letras = (contador_letras(lista))\n",
    "    print('O total de letras de cada palavra da lista é: {} '.format(total_letras))\n",
    "    \n",
    "print(teste())\n",
    "    "
   ]
  },
  {
   "cell_type": "markdown",
   "metadata": {},
   "source": [
    "# 8) Lambda (funçoes simples!!!)"
   ]
  },
  {
   "cell_type": "code",
   "execution_count": 16,
   "metadata": {},
   "outputs": [
    {
     "name": "stdout",
     "output_type": "stream",
     "text": [
      "[8, 4, 8]\n",
      "15\n",
      "5\n",
      "<class 'dict'>\n",
      "A soma é: 15 \n",
      "A multiplicação é: 100 \n"
     ]
    }
   ],
   "source": [
    "#Função anonima (lambda):\n",
    "contador_letras = lambda lista: [len(x) for x in lista]\n",
    "\n",
    "lista_animais = ['cachorro', 'gato','elefante']\n",
    "print(contador_letras(lista_animais))\n",
    "\n",
    "# dessa forma, é bem mais eficiente com poucas linhas de codigo. Serve para coisas SIMPLES(funçoes simples)\n",
    "\n",
    "soma = lambda a,b: a + b\n",
    "subtracao = lambda a,b: a - b\n",
    "print(soma(5,10))\n",
    "print(subtracao(10,5))\n",
    "\n",
    "#Calculadora como dicionario...\n",
    "calculadora = {\n",
    "    'soma': lambda a, b: a + b,\n",
    "    'subtracao': lambda a, b: a - b,\n",
    "    'mult': lambda a, b: a * b,\n",
    "    'divisao': lambda a, b: a / b\n",
    "}\n",
    "\n",
    "print(type(calculadora))\n",
    "soma = calculadora['soma']\n",
    "mult = calculadora['mult']\n",
    "print('A soma é: {} '.format(soma(10,5)))\n",
    "print('A multiplicação é: {} '.format(mult(10,10)))\n",
    "    "
   ]
  },
  {
   "cell_type": "markdown",
   "metadata": {},
   "source": [
    "# 9) Data e horario"
   ]
  },
  {
   "cell_type": "code",
   "execution_count": 5,
   "metadata": {},
   "outputs": [
    {
     "name": "stdout",
     "output_type": "stream",
     "text": [
      "2021-11-12\n",
      "12/11/2021\n",
      "12--11--2021\n",
      "Friday November 2021\n"
     ]
    }
   ],
   "source": [
    "from datetime import date\n",
    "data_atual = date.today()\n",
    "print(data_atual) #formatação com traço\n",
    "print(data_atual.strftime('%d/%m/%Y'))\n",
    "print(data_atual.strftime('%d--%m--%Y'))\n",
    "print(data_atual.strftime('%A %B %Y'))"
   ]
  },
  {
   "cell_type": "code",
   "execution_count": 10,
   "metadata": {},
   "outputs": [
    {
     "name": "stdout",
     "output_type": "stream",
     "text": [
      "15:18:30\n"
     ]
    }
   ],
   "source": [
    "from datetime import date, time\n",
    "\n",
    "def trabalhando_com_time():\n",
    "    horario = time(hour = 15, minute = 18, second = 30)\n",
    "    print(horario.strftime('%H:%M:%S'))\n",
    "    \n",
    "\n",
    "trabalhando_com_time()"
   ]
  },
  {
   "cell_type": "code",
   "execution_count": 25,
   "metadata": {},
   "outputs": [
    {
     "name": "stdout",
     "output_type": "stream",
     "text": [
      "2021-11-12 00:22:21.865680\n",
      "12/11/2021 -- 00:22:21\n",
      "Fri Nov 12 00:22:21 2021\n",
      "Sexta\n",
      "2021\n"
     ]
    }
   ],
   "source": [
    "from datetime import datetime,timedelta\n",
    "def trabalhando_com_datetime():\n",
    "    data_atual = datetime.now()\n",
    "    print(data_atual)\n",
    "    print(data_atual.strftime('%d/%m/%Y -- %H:%M:%S'))\n",
    "    print(data_atual.strftime('%c'))\n",
    "    tupla = ('Segunda', 'Terça', 'Quarta', 'Quinta', 'Sexta', 'Sabado', 'Domingo')\n",
    "    print(tupla[data_atual.weekday()])\n",
    "    print(data_atual.year)\n",
    "    \n",
    "\n",
    "trabalhando_com_datetime()"
   ]
  },
  {
   "cell_type": "code",
   "execution_count": 35,
   "metadata": {},
   "outputs": [
    {
     "name": "stdout",
     "output_type": "stream",
     "text": [
      "2021-06-12 15:30:22\n",
      "Sat Jun 12 15:30:22 2021\n",
      "2021-11-12 00:00:00\n",
      "2020-11-11 21:45:00\n"
     ]
    }
   ],
   "source": [
    "data_criada = datetime(2021, 6, 12, 15, 30, 22)\n",
    "print(data_criada)\n",
    "print(data_criada.strftime('%c'))\n",
    "data_string = '12/11/2021'\n",
    "\n",
    "\n",
    "\n",
    "data_convertida = datetime.strptime(data_string, '%d/%m/%Y')\n",
    "print(data_convertida)\n",
    "\n",
    "\n",
    "nova_data = data_convertida - timedelta(days = 365, hours= 2, minutes = 15)\n",
    "print(nova_data) "
   ]
  },
  {
   "cell_type": "code",
   "execution_count": 33,
   "metadata": {},
   "outputs": [
    {
     "name": "stdout",
     "output_type": "stream",
     "text": [
      "2020-11-12 00:00:00\n"
     ]
    }
   ],
   "source": [
    "\n"
   ]
  },
  {
   "cell_type": "markdown",
   "metadata": {},
   "source": [
    "# 10) Try, except, else e Finally"
   ]
  },
  {
   "cell_type": "code",
   "execution_count": 8,
   "metadata": {},
   "outputs": [
    {
     "name": "stdout",
     "output_type": "stream",
     "text": [
      "Não é possivel realizar uma divisao por 0\n"
     ]
    }
   ],
   "source": [
    "try:\n",
    "    divisao = 10/0\n",
    "except ZeroDivisionError:\n",
    "    print('Não é possivel realizar uma divisao por 0')\n",
    "except ArithmeticError:\n",
    "    print('Houve uma erro ao realizar uma operção aritimetica')\n"
   ]
  },
  {
   "cell_type": "code",
   "execution_count": 7,
   "metadata": {},
   "outputs": [
    {
     "name": "stdout",
     "output_type": "stream",
     "text": [
      "Erro desconhecido. Erro: name 'a' is not defined \n"
     ]
    }
   ],
   "source": [
    "lista = [1,10]\n",
    "try:\n",
    "    divisao = 10/1\n",
    "    numero = lista [1]\n",
    "    x=a \n",
    "except Exception as ex: \n",
    "    # BaseException = Pai de todas os erros\n",
    "    print(f'Erro desconhecido. Erro: {ex} ')\n"
   ]
  },
  {
   "cell_type": "markdown",
   "metadata": {},
   "source": [
    "## Exemplo Pratico"
   ]
  },
  {
   "cell_type": "code",
   "execution_count": 14,
   "metadata": {},
   "outputs": [
    {
     "name": "stdout",
     "output_type": "stream",
     "text": [
      "-1\n",
      "Valor nao pode ser negativo\n",
      "5\n"
     ]
    }
   ],
   "source": [
    "class Error(Exception):\n",
    "    pass\n",
    "\n",
    "class InputError(Error):\n",
    "    def __init__(self,message):\n",
    "        self.message = message\n",
    "     \n",
    "while True:\n",
    "    try:\n",
    "        x = int(input('Entre com um valor de 0 a 10: '))\n",
    "        print(x)\n",
    "        if x > 10:\n",
    "            raise InputError('Valor nao pode ser maior que 10')\n",
    "            #Raise = Força uma exceção...\n",
    "        elif x < 0:\n",
    "            raise InputError('Valor nao pode ser negativo')\n",
    "        break\n",
    "    except ValueError:\n",
    "        print('Valor invalido. Digite apenas numeros')\n",
    "    except InputError as ex:\n",
    "        print(ex)"
   ]
  },
  {
   "cell_type": "markdown",
   "metadata": {},
   "source": [
    "# 11) Importando biblioteca Requests"
   ]
  },
  {
   "cell_type": "code",
   "execution_count": 10,
   "metadata": {},
   "outputs": [
    {
     "name": "stdout",
     "output_type": "stream",
     "text": [
      "200\n",
      "Arquivo em formato de string\n",
      "{\n",
      "  \"cep\": \"01001-000\",\n",
      "  \"logradouro\": \"Praça da Sé\",\n",
      "  \"complemento\": \"lado ímpar\",\n",
      "  \"bairro\": \"Sé\",\n",
      "  \"localidade\": \"São Paulo\",\n",
      "  \"uf\": \"SP\",\n",
      "  \"ibge\": \"3550308\",\n",
      "  \"gia\": \"1004\",\n",
      "  \"ddd\": \"11\",\n",
      "  \"siafi\": \"7107\"\n",
      "}\n",
      "<class 'str'>\n",
      "\n",
      "Arquivo em formato de dicionario\n",
      "{'cep': '01001-000', 'logradouro': 'Praça da Sé', 'complemento': 'lado ímpar', 'bairro': 'Sé', 'localidade': 'São Paulo', 'uf': 'SP', 'ibge': '3550308', 'gia': '1004', 'ddd': '11', 'siafi': '7107'}\n",
      "<class 'dict'>\n",
      "Praça da Sé\n"
     ]
    }
   ],
   "source": [
    "import requests\n",
    "\n",
    "response = requests.get('https://viacep.com.br/ws/01001000/json/')\n",
    "print(response.status_code)\n",
    "print(\"Arquivo em formato de string\")\n",
    "print(response.text)\n",
    "print(type(response.text))\n",
    "print(\"\\nArquivo em formato de dicionario\")\n",
    "print(response.json())\n",
    "print(type(response.json()))\n",
    "\n",
    "dados_cep = response.json()\n",
    "print(dados_cep['logradouro'])"
   ]
  },
  {
   "cell_type": "code",
   "execution_count": 12,
   "metadata": {},
   "outputs": [
    {
     "name": "stdout",
     "output_type": "stream",
     "text": [
      "https://raw.githubusercontent.com/PokeAPI/sprites/master/sprites/pokemon/shiny/25.png\n"
     ]
    }
   ],
   "source": [
    "def retorna_dados_pokemon(pokemon):\n",
    "    response = requests.get(f'https://pokeapi.co/api/v2/pokemon/{pokemon}/')\n",
    "    dados_pokemon = response.json()\n",
    "    return dados_pokemon\n",
    "\n",
    "dados_pokemon = retorna_dados_pokemon('pikachu')\n",
    "print(dados_pokemon['sprites']['front_shiny'])"
   ]
  },
  {
   "cell_type": "code",
   "execution_count": 13,
   "metadata": {},
   "outputs": [
    {
     "name": "stdout",
     "output_type": "stream",
     "text": [
      "<!DOCTYPE html>\n",
      "<html lang=\"pt-BR\">\n",
      "<head>\n",
      "    <meta charset=\"UTF-8\">\n",
      "   \n",
      "    <meta http-equiv=\"X-UA-Compatible\" content=\"IE=edge\">\n",
      "     <!--Largura da minha pagina é igual a largura do meu dispositivo-->\n",
      "    <meta name=\"viewport\" content=\"width=device-width, initial-scale=1.0\">\n",
      "    <!-- Fundamental para designs responsivo-->\n",
      "    <link rel=\"stylesheet\" href=\"https://cdnjs.cloudflare.com/ajax/libs/meyer-reset/2.0/reset.min.css\"\n",
      "\tintegrity=\"sha512-NmLkDIU1C/C88wi324HBc+S2kLhi08PN5GDeUVVVC/BVt/9Izdsc9SVeVfA1UZbY3sHUlDSyRXhCzHfr6hmPPw==\"\n",
      "\tcrossorigin=\"anonymous\" referrerpolicy=\"no-referrer\" />\n",
      "\t<link rel=\"preconnect\" href=\"https://fonts.gstatic.com\">\n",
      "\t<link href=\"https://fonts.googleapis.com/css2?family=Cairo:wght@300;400;600;700&display=swap\" \n",
      "\trel=\"stylesheet\">\n",
      "\t<link rel=\"stylesheet\" href=\"https://cdnjs.cloudflare.com/ajax/libs/font-awesome/5.15.3/css/all.min.css\"\n",
      "\treferrerpolicy=\"no-referrer\" />\n",
      "\t<link rel=\"stylesheet\" href=\"css/style.css\">\n",
      "    \n",
      "    <link rel=\"icon\" href=\"assets/pvn imoveis logo.PNG\" type=\"image/x-icon\"> \n",
      "    <meta name=\"description\" content=\"Site do corretor Pedro Veras, que trabalha na Direcional Engenharia Vendas. Temos empreendimentos em Campo Grande, Santa Cruz, Barra, Jacarepaguá e Vargem Grande.\">\n",
      "    <link href=\"https://cdn.jsdelivr.net/npm/bootstrap@5.1.2/dist/css/bootstrap.min.css\" rel=\"stylesheet\" integrity=\"sha384-uWxY/CJNBR+1zjPWmfnSnVxwRheevXITnMqoEIeG1LJrdI0GlVs/9cVSyPYXdcSF\" crossorigin=\"anonymous\">\n",
      "\n",
      "    <link rel=\"preconnect\" href=\"https://fonts.googleapis.com\">\n",
      "<link rel=\"preconnect\" href=\"https://fonts.gstatic.com\" crossorigin>\n",
      "<link href=\"https://fonts.googleapis.com/css2?family=Tenor+Sans&display=swap\" rel=\"stylesheet\">\n",
      "    <script src=\"js/script.js\" defer></script>\n",
      "\n",
      "        <title>PVN Imoveis</title>\n",
      "</head>\n",
      "<body>\n",
      "\n",
      "<header id=\"home\">\n",
      "    <nav class=\"navbar\">\n",
      "        <div class=\"navbar-header\">\n",
      "           <h1 class=\"navbar-header_logo\"> PVN </h1>\n",
      "           <h2 class=\"navbar-header_logo2\">IMOVEIS</h2>\n",
      "        </div> \n",
      "           <div>\n",
      "                <button type=\"button\" class=\"navbar-header__toggle\">\n",
      "                <i class=\"fas fa-bars\"></i>\n",
      "                </button>\n",
      "           </div>\n",
      "       \n",
      "\n",
      "        <UL class=\"navbar-list\">\n",
      "            <li>\n",
      "                <a href=\"#home\" class=\"navbar-list__link\">Home</a>\n",
      "            </li>\n",
      "        \n",
      "            <li>\n",
      "                <a href=\"#sobre\" class=\"navbar-list__link\">Sobre mim</a>\n",
      "            </li>\n",
      "        \n",
      "            <li>\n",
      "                <a href=\"#emprendimento\" class=\"navbar-list__link\">Emprendimentos</a>\n",
      "            </li>\n",
      "        \n",
      "            <li>\n",
      "                <a href=\"#galeria\" class=\"navbar-list__link\">Galeria</a>\n",
      "            </li>\n",
      "        </UL><!--navbar-list-->\n",
      "      \n",
      "    </nav><!--NAVBAR-->\n",
      "\n",
      "    <div class=\"hero\">\n",
      "        <!-- <iframe class=\"hero__video\" width=\"580\" height=\"315\" src=\"https://www.youtube.com/embed/XIGd9MU_K9s?autoplay=1&mute=1&playlist=XIGd9MU_K9s&loop=1\" title=\"YouTube video player\" frameborder=\"0\" allow=\"accelerometer; autoplay; clipboard-write; encrypted-media; gyroscope; picture-in-picture\" allowfullscreen></iframe> -->\n",
      "\n",
      "        <iframe width=\"560\" class=\"hero__video\" height=\"315\" src=\"https://www.youtube.com/embed/iIujY54M7Wk?start=60&autoplay=1&mute=1&loop=1\" title=\"YouTube video player\" frameborder=\"0\" allow=\"accelerometer; autoplay; clipboard-write; encrypted-media; gyroscope; picture-in-picture\" allowfullscreen></iframe>\n",
      "        \n",
      " </div><!--hero-->\n",
      "    <div class=\"hero-texto\">\n",
      "        <h1 class=\"hero-texto__titulo\">Conheça a Direcional engenharia: <br> <span class=\"hero-texto__titulo--linha-2\">Onde moram as grandes conquistas</span></h1>\n",
      "        <p class=\"hero-texto__descrição\">40 anos de experiência no mercado com qualidade, eficiência e atitude inovadora, conquistamos protagonismo no cenário da construção civil.</p>\n",
      "        <p>Mais de 150 mil unidades já entregues cada unidade é construída para se tornar local de outras grandes conquistas na vida dos nossos clientes.</p>\n",
      "\n",
      "    </div><!--hero-texto-->\n",
      "   \n",
      "</div>\n",
      "</header><!--home-->\n",
      "\n",
      "<Section id=\"sobre\" class=\"sobre\">\n",
      "<h2 class=\"section__titulo\"> Sobre mim</h2>\n",
      "<div class=\"sobre-c\">\n",
      "    <img src=\"assets/Foto perfil Pedro Veras.jpeg\" alt=\"foto pedro veras\" class=\"sobre-c__img\">\n",
      "    <div class=\"sobre-texto\">\n",
      "    <h3 class=\"sobre-texto__titulo\">Corretor Pedro Veras <br>(CRECI/ RJ 01 078 200)</h3>\n",
      "    <p class=\"sobre-texto__titulo-sobre\" >Realizador de sonhos da casa propria. Meu comprometimento é atraves da Direcional Engenharia Vendas dar oportunidade as pessoas a sairem do aluguel. </p>\n",
      "</div>\n",
      "</div><!--sobre-c-->\n",
      "</Section><!--sobre-->\n",
      "\n",
      "<section id=\"empreendimentos\">\n",
      "    <h2 class=\"section__titulo\"> Empreendimento <span class=\"section__titulo-destaque\"> Direcional</span> </h2>\n",
      "\n",
      "\n",
      "    <div class=\"empreendimentos\">\n",
      "        <article class=\"empreendimento\">\n",
      "            <img src=\"https://direcional.com.br/wp-content/uploads/2021/06/Guarita_Olinda-Ellis_Direcional-332x220_c.jpg\" alt=\"\" class=\"empreendimento__thumb\">\n",
      "            <div class=\"empreendimento__info\">\n",
      "                <div class=\"info-header\">\n",
      "                    <h3 class=\"info-header__titulo\"> Olinda Ellis</h3>\n",
      "                </div><!--info-header-->\n",
      "\n",
      "                <p class=\"info-body\"> No Olinda Ellis, você encontra apartamentos de 1 e 2 quartos com segurança, comodidade e muito lazer. </p>\n",
      "\n",
      "                <div class=\"info-footer\">\n",
      "                    <div class=\"info-footer_preço\">\n",
      "                        <p> Subsídio de <span>R$ 29 mil</span></p>\n",
      "                        <p>Entrada Facilidada em até <span>52x</span></p>\n",
      "                        <p>Sinal a partir de <span>R$ 100</span></p>\n",
      "                    </div>\n",
      "\n",
      "                        <i class=\"fas fa-map-marker-alt\">  Endereço do empreendimento:</i>\n",
      "                    \n",
      "                        <p>Rua Olinda Ellis, 810, Campo Grande – Rio de Janeiro</p>\n",
      "                                \n",
      "                </div>\n",
      "\n",
      "            </div><!--emprendimentos__info-->\n",
      "\n",
      "        </article>\n",
      "\n",
      "        <article class=\"empreendimento\">\n",
      "            <img src=\"https://direcional.com.br/wp-content/uploads/2021/06/PRACA_VV-MOINHO_DIRECIONAL-332x220_c.jpg\" alt=\"\" class=\"empreendimento__thumb\">\n",
      "            <div class=\"empreendimento__info\">\n",
      "                <div class=\"info-header\">\n",
      "                    <h3 class=\"info-header__titulo\"> Viva Vida Moinho</h3>\n",
      "                </div><!--info-header-->\n",
      "\n",
      "                <p class=\"info-body\">Viva Vida Moinho, você sai do aluguel com um sinal de R$499 e ótimas condições. Além de ter fácil acesso você vai ficar perto de tudo o que sua família precisa. </p>\n",
      "\n",
      "                <div class=\"info-footer\">\n",
      "                    <div class=\"info-footer_preço\">\n",
      "                        <p> Subsídio de <span>R$ 29 mil</span></p>\n",
      "                        <p>Entrada Facilidada em até <span>52x</span></p>\n",
      "                        <p>Sinal a partir de <span>R$ 100</span></p>\n",
      "                    </div>\n",
      "\n",
      "                        <i class=\"fas fa-map-marker-alt\">  Endereço do empreendimento:</i>\n",
      "                    \n",
      "                        <p>Estrada do Caboclos, s/n, Campo Grande – Rio de Janeiro</p>\n",
      "                                \n",
      "                </div>\n",
      "\n",
      "            </div><!--emprendimentos__info-->\n",
      "\n",
      "        </article>\n",
      "\n",
      "        <article class=\"empreendimento\">\n",
      "            <img src=\"https://direcional.com.br/wp-content/uploads/2021/06/GUARITA_CONQUISTA-GIRASSOL_DIRECIONAL-332x220_c.jpg\" alt=\"Conquista Jardins\" class=\"empreendimento__thumb\">\n",
      "            <div class=\"empreendimento__info\">\n",
      "                <div class=\"info-header\">\n",
      "                    <h3 class=\"info-header__titulo\"> Conquista Girassol</h3>\n",
      "                </div><!--info-header-->\n",
      "\n",
      "                <p class=\"info-body\"> No Conquista Girassol você tem por perto tudo que interessa. Próximo do WestShopping, do Supermercado Guanabara, da Av. Brasil e acesso fácil para a cidade. </p>\n",
      "\n",
      "                <div class=\"info-footer\">\n",
      "                    <div class=\"info-footer_preço\">\n",
      "                        <p> Subsídio de <span>R$ 29 mil</span></p>\n",
      "                        <p>Entrada Facilidada em até <span>52x</span></p>\n",
      "                        <p>Sinal a partir de <span>R$ 100</span></p>\n",
      "                    </div>\n",
      "\n",
      "                        <i class=\"fas fa-map-marker-alt\">\n",
      "                            Endereço do empreendimento:   \n",
      "                         </i> \n",
      "                        \n",
      "                         <p>Estrada do Mendanha, 2.696, Campo Grande – Rio de Janeiro</p>\n",
      "                                \n",
      "                </div>\n",
      "\n",
      "            </div><!--emprendimentos__info-->\n",
      "\n",
      "        </article>\n",
      "\n",
      "        <article class=\"empreendimento\">\n",
      "            <img src=\"https://direcional.com.br/wp-content/uploads/2021/06/Fachada_RESERVA-PARK-ITANHANGA_DIRECIONAL-Cor-A-scaled-332x220_c.jpg\" alt=\"Conquista Jardins\" class=\"empreendimento__thumb\">\n",
      "            <div class=\"empreendimento__info\">\n",
      "                <div class=\"info-header\">\n",
      "                    <h3 class=\"info-header__titulo\"> Reserva Park Itanhangá</h3>\n",
      "                </div><!--info-header-->\n",
      "\n",
      "                <p class=\"info-body\"> More perto da Barra, do metrô e de tudo o que você precisa. Aproveite os benefícios do programa Casa Verde e Amarela, o financiamento Caixa e o subsídio de até R$ 27.000. </p>\n",
      "\n",
      "                <div class=\"info-footer\">\n",
      "                    <div class=\"info-footer_preço\">\n",
      "                        <p> Subsídio de <span>R$ 29 mil</span></p>\n",
      "                        <p>Entrada Facilidada em até <span>52x</span></p>\n",
      "                        <p>Sinal a partir de <span>R$ 100</span></p>\n",
      "                    </div>\n",
      "\n",
      "                        <i class=\"fas fa-map-marker-alt\">  Endereço do empreendimento: \n",
      "                        </i>\n",
      "                            <p>Av. São Josemaria Escrivá, 302 – Itanhangá – Rio de Janeiro – RJ, 22753-200</p>\n",
      "                                \n",
      "                </div>\n",
      "\n",
      "            </div><!--emprendimentos__info-->\n",
      "\n",
      "        </article>\n",
      "\n",
      "        <article class=\"empreendimento\">\n",
      "            <img src=\"https://direcional.com.br/wp-content/uploads/2021/06/BICICLETARIO_CONQUISTA-JARDINS_DIRECIONAL-332x220_c.jpg\" alt=\"\" class=\"empreendimento__thumb\">\n",
      "            <div class=\"empreendimento__info\">\n",
      "                <div class=\"info-header\">\n",
      "                    <h3 class=\"info-header__titulo\"> Consquista Jardins</h3>\n",
      "                </div><!--info-header-->\n",
      "\n",
      "                <p class=\"info-body\"> O Conquista Jardins está a menos de 10 minutos de carro do West Shopping. Tenha mais tempo para curtir o melhor da região e tenha ótimos momentos ao lado da família. </p>\n",
      "\n",
      "                <div class=\"info-footer\">\n",
      "                    <div class=\"info-footer_preço\">\n",
      "                        <p> Subsídio de <span>R$ 29 mil</span></p>\n",
      "                        <p>Entrada Facilidada em até <span>66x</span></p>\n",
      "                        <p>Sinal a partir de <span>R$ 100</span></p>\n",
      "                    </div>\n",
      "\n",
      "                        <i class=\"fas fa-map-marker-alt\">  Endereço do empreendimento: \n",
      "                        </i>\n",
      "                        br\n",
      "                        <p>Rua Vicente Francisco dos Santos, 584, Campo Grande – Rio de Janeiro</p>\n",
      "                                \n",
      "                </div>\n",
      "\n",
      "            </div><!--emprendimentos__info-->\n",
      "\n",
      "        </article>\n",
      "\n",
      "        <article class=\"empreendimento\">\n",
      "            <img src=\"https://direcional.com.br/wp-content/uploads/2021/06/PIQUENIQUE_RESERVA-ATLANTICA_DIRECIONAL-332x220_c.jpg\" alt=\"\" class=\"empreendimento__thumb\">\n",
      "            <div class=\"empreendimento__info\">\n",
      "                <div class=\"info-header\">\n",
      "                    <h3 class=\"info-header__titulo\"> Reserva Atlantica</h3>\n",
      "                </div><!--info-header-->\n",
      "\n",
      "                <p class=\"info-body\"> Não perca a oportunidade de viver com mais bem-estar no seu dia a dia! More no Reserva Atlântica e respire a natureza, a poucos minutos da Praia do Pontal. </p>\n",
      "\n",
      "                <div class=\"info-footer\">\n",
      "                    <div class=\"info-footer_preço\">\n",
      "                        <p> Subsídio de <span>R$ 29 mil</span></p>\n",
      "                        <p>Entrada Facilidada em até <span>66x</span></p>\n",
      "                        <p>Sinal a partir de <span>R$ 100</span></p>\n",
      "                    </div>\n",
      "\n",
      "                        <i class=\"fas fa-map-marker-alt\">  Endereço do empreendimento: \n",
      "                        </i>\n",
      "                        \n",
      "                        <p>Estrada dos Bandeirantes, 27.508, Vargem Grande – Rio de Janeiro</p>\n",
      "                                \n",
      "                </div>\n",
      "\n",
      "            </div><!--emprendimentos__info-->\n",
      "\n",
      "        </article>\n",
      "\n",
      "        <article class=\"empreendimento\">\n",
      "            <img src=\"https://direcional.com.br/wp-content/uploads/2021/06/PISCINA_RESERVA-ACQUA_DIRECIONAL-332x220_c.jpg\" alt=\"\" class=\"empreendimento__thumb\">\n",
      "            <div class=\"empreendimento__info\">\n",
      "                <div class=\"info-header\">\n",
      "                    <h3 class=\"info-header__titulo\"> Reserva Acqua</h3>\n",
      "                </div><!--info-header-->\n",
      "\n",
      "                <p class=\"info-body\"> Conheça o Reserva Acqua, aproveite nossas condições especiais, realize seu sonho e more colado na Barra, com sinal de R$1.500,00</p>\n",
      "\n",
      "                <div class=\"info-footer\">\n",
      "                    <div class=\"info-footer_preço\">\n",
      "                        <p> Subsídio de <span>R$ 29 mil</span></p>\n",
      "                        <p>Entrada Facilidada em até <span>66x</span></p>\n",
      "                        <p>Sinal a partir de <span>R$ 100</span></p>\n",
      "                    </div>\n",
      "\n",
      "                        <i class=\"fas fa-map-marker-alt\">  Endereço do empreendimento: \n",
      "                        </i>\n",
      "                        \n",
      "                        <p>Rua Goianinha, 230 – Curicica</p>\n",
      "                                \n",
      "                </div>\n",
      "\n",
      "            </div><!--emprendimentos__info-->\n",
      "\n",
      "        </article>\n",
      "        <article class=\"empreendimento\">\n",
      "            <img src=\"https://direcional.com.br/wp-content/uploads/2021/06/Praca-Jogos_VV-TRANQUILIDADE_DIRECIONAL-332x220_c.jpg\" alt=\"\" class=\"empreendimento__thumb\">\n",
      "            <div class=\"empreendimento__info\">\n",
      "                <div class=\"info-header\">\n",
      "                    <h3 class=\"info-header__titulo\"> Viva Vida Tranquilidade</h3>\n",
      "                </div><!--info-header-->\n",
      "\n",
      "                <p class=\"info-body\"> No Viva Vida Tranquilidade, você mora pertinho do BRT Vendas de Varanda e consegue aproveitar as melhores condições para conquistar sua casa própria com subsídio do governo de até R$ 47.500,00*.</p>\n",
      "\n",
      "                <div class=\"info-footer\">\n",
      "                    <div class=\"info-footer_preço\">\n",
      "                        <p> Subsídio de <span>R$ 42.220</span></p>\n",
      "                        <p>Entrada Facilidada em até <span>72x</span></p>\n",
      "                        <p>Sinal a partir de <span>R$ 100</span></p>\n",
      "                    </div>\n",
      "\n",
      "                        <i class=\"fas fa-map-marker-alt\">  Endereço do empreendimento: \n",
      "                        </i>\n",
      "                        \n",
      "                        <p>Rua Aporuna, s/n, Santa Cruz – Rio de Janeiro</p>\n",
      "                                \n",
      "                </div>\n",
      "\n",
      "            </div><!--emprendimentos__info-->\n",
      "\n",
      "        </article>\n",
      "        <article class=\"empreendimento\">\n",
      "            <img src=\"https://direcional.com.br/wp-content/uploads/2021/06/PRACA_VV-FELICIDADE_DIRECIONAL-332x220_c.jpg\" alt=\"\" class=\"empreendimento__thumb\">\n",
      "            <div class=\"empreendimento__info\">\n",
      "                <div class=\"info-header\">\n",
      "                    <h3 class=\"info-header__titulo\"> Viva Vida Felicidade</h3>\n",
      "                </div><!--info-header-->\n",
      "\n",
      "                <p class=\"info-body\"> Aproveite essa oportunidade com sinal de R$499. No Viva Vida Felicidade, você aproveita as melhores condições para sair do aluguel!Você e sua família merecem viver cercados de diversão e morar pertinho do BRT Vendas de Varanda</p>\n",
      "\n",
      "                <div class=\"info-footer\">\n",
      "                    <div class=\"info-footer_preço\">\n",
      "                        <p> Subsídio de <span>R$ 42.220</span></p>\n",
      "                        <p>Entrada Facilidada em até <span>72x</span></p>\n",
      "                        <p>Sinal a partir de <span>R$ 100</span></p>\n",
      "                    </div>\n",
      "\n",
      "                        <i class=\"fas fa-map-marker-alt\">  Endereço do empreendimento: \n",
      "                        </i>\n",
      "                        \n",
      "                        <p>Rua Aporuna, 55, Santa Cruz – Rio de Janeiro</p>\n",
      "                                \n",
      "                </div>\n",
      "\n",
      "            </div><!--emprendimentos__info-->\n",
      "\n",
      "        </article>\n",
      "\n",
      "        <article class=\"empreendimento\">\n",
      "            <img src=\"https://direcional.com.br/wp-content/uploads/2021/06/BICICLETARIO_VV-NATURALE_DIRECIONAL-332x220_c.jpg\" alt=\"\" class=\"empreendimento__thumb\">\n",
      "            <div class=\"empreendimento__info\">\n",
      "                <div class=\"info-header\">\n",
      "                    <h3 class=\"info-header__titulo\"> Viva Vida Naturale</h3>\n",
      "                </div><!--info-header-->\n",
      "\n",
      "                <p class=\"info-body\"> No Viva Vida Naturale, você torna o dia a dia da sua família muito mais divertido, tendo a tranquilidade de saber que, bem pertinho de casa, você e sua família vão ter sempre à disposição transporte fácil e rápido para todos os lados da cidade e regiões vizinhas pagando um sinal de R$499.</p>\n",
      "\n",
      "                <div class=\"info-footer\">\n",
      "                    <div class=\"info-footer_preço\">\n",
      "                        <p> Subsídio de <span>R$ 42.220</span></p>\n",
      "                        <p>Entrada Facilidada em até <span>52x</span></p>\n",
      "                        <p>Sinal a partir de <span>R$ 100</span></p>\n",
      "                    </div>\n",
      "\n",
      "                        <i class=\"fas fa-map-marker-alt\">  Endereço do empreendimento: \n",
      "                        </i>\n",
      "                        \n",
      "                        <p>Av. Sub. Manuel H. da Cunha Rabello, Sgt. Roncalli – Belford Roxo/RJ</p>\n",
      "                                \n",
      "                </div>\n",
      "\n",
      "            </div><!--emprendimentos__info-->\n",
      "\n",
      "        </article>\n",
      "\n",
      "        <article class=\"empreendimento\">\n",
      "            <img src=\"https://direcional.com.br/wp-content/uploads/2021/06/Espaco-Gourmet_VV-ZONA-NORTE_DIRECIONAL-332x220_c.jpg\" alt=\"\" class=\"empreendimento__thumb\">\n",
      "            <div class=\"empreendimento__info\">\n",
      "                <div class=\"info-header\">\n",
      "                    <h3 class=\"info-header__titulo\"> Viva Vida Zona Norte</h3>\n",
      "                </div><!--info-header-->\n",
      "\n",
      "                <p class=\"info-body\"> More com conforto e comodidade na Pavuna! Com apartamentos de 2 quartos e lazer completo, o Viva Vida Zona Norte une a praticidade do dia a dia com mais qualidade de vida para você e sua família.</p>\n",
      "\n",
      "                <div class=\"info-footer\">\n",
      "                    <div class=\"info-footer_preço\">\n",
      "                        <p> Subsídio de <span>R$ 29 mil</span></p>\n",
      "                        <p>Entrada Facilidada em até <span>52x</span></p>\n",
      "                        <p>Sinal a partir de <span>R$ 100</span></p>\n",
      "                    </div>\n",
      "\n",
      "                        <i class=\"fas fa-map-marker-alt\">  Endereço do empreendimento: \n",
      "                        </i>\n",
      "                        \n",
      "                        <p>Rua Edgar Loureiro Valdetaro, 300 – Pavuna, Rio de Janeiro – RJ, Brasil</p>\n",
      "                                \n",
      "                </div>\n",
      "\n",
      "            </div><!--emprendimentos__info-->\n",
      "\n",
      "        </article>\n",
      "    </div><!--emprendimentos-->\n",
      "\n",
      "</section><!--emprendimentos-->\n",
      "\n",
      "<section id=\"empreendimentos\"> \n",
      "    <h2 class=\"section__titulo2\"> Riva <span> Incorporadora</span> </h2>\n",
      "\n",
      "    <div class=\"empreendimentos\">\n",
      "        <article class=\"empreendimento2\">\n",
      "            <img src=\"https://drk9dmqs84y9i.cloudfront.net/wp-content/uploads/2020/11/Guarita-Apogeu-da-Barra-Riva-Incorporadora-332x220_c.jpg\" alt=\"\" class=\"empreendimento__thumb\">\n",
      "            <div class=\"empreendimento__info\">\n",
      "                <div class=\"info-header\">\n",
      "                    <h3 class=\"info-header__titulo\"> Apogeu Barra</h3>\n",
      "                </div><!--info-header-->\n",
      "\n",
      "                <p class=\"info-body\"> Quem sempre viveu a Barra, agora poderá viver na Barra. Por isso, daremos a você oportunidade de mudar sua vida para sempre. Momentos como esse, às vezes, são muito raros. Mas, um destes momentos especiais, está prestes a acontecer. Vamos lançar mais do que um condomínio, vamos lançar um sonho. </p>\n",
      "\n",
      "                <div class=\"info-footer\">\n",
      "                    <div class=\"info-footer_preço2\">\n",
      "                        <p> Unidades a partir de R$ 230.000,00</p>\n",
      "                        <br>\n",
      "                        \n",
      "                        <span>Shoppings:</span>\n",
      "                        <p>Próximo do Shopping Metropolitano, Américas Shopping e Barra Shopping.</p>\n",
      "                        <br>\n",
      "                        <span>Restaurantes:</span>\n",
      "                        <p>Próximo ao Outback e Restaurante Vamo.</p>\n",
      "                        <br>\n",
      "                        <span>Hospitais:</span>\n",
      "                        <p>Próximo ao Unimed Barra, Hospital Vitória e Hospital Rio Mar..</p>\n",
      "                        <br>\n",
      "                        <span>Transporte Público:</span>\n",
      "                        <p>Próximo ao BRT e Metrô.</p>\n",
      "\n",
      "                    </div>\n",
      "\n",
      "                        <i class=\"fas fa-map-marker-alt\">  Endereço do empreendimento:</i>\n",
      "                    \n",
      "                        <p>Estr. dos Bandeirantes, 10.333 – Barra da Tijuca – Rio de Janeiro – RJ – 22783-115</p>\n",
      "                                \n",
      "                </div>\n",
      "\n",
      "            </div><!--emprendimentos__info-->\n",
      "\n",
      "        </article>\n",
      "\n",
      "        <article class=\"empreendimento2\">\n",
      "            <img src=\"https://drk9dmqs84y9i.cloudfront.net/wp-content/uploads/2020/11/Espaco-Gourmet-Apogeu-da-Barra-Riva-Incorporadora-332x220_c.jpg\" alt=\"\" class=\"empreendimento__thumb\">\n",
      "            <div class=\"empreendimento__info\">\n",
      "                <div class=\"info-header\">\n",
      "                    <h3 class=\"info-header__titulo\"> Stillo Barra Residencial</h3>\n",
      "                </div><!--info-header-->\n",
      "\n",
      "                <p class=\"info-body\"> Em uma das regiões mais desejadas da cidade, você vai ter muito conforto e lazer dentro e fora de casa. Há 10 minutos da praia, das conveniências e do que a Barra oferece de bom. Tudo com muita modernidade e sofisticação. </p>\n",
      "\n",
      "                <div class=\"info-footer\">\n",
      "                    <div class=\"info-footer_preço2\">\n",
      "                         \n",
      "                    </div>\n",
      "\n",
      "                        <i class=\"fas fa-map-marker-alt\">  Endereço do empreendimento:</i>\n",
      "                    \n",
      "                        <p>Via Projetada 2, nº 111 – Camorim – RJ CEP: 22783-116</p>\n",
      "                                \n",
      "                </div>\n",
      "\n",
      "            </div><!--emprendimentos__info-->\n",
      "\n",
      "        </article>\n",
      "\n",
      "    </div>\n",
      "\n",
      "</section>\n",
      "\n",
      "<section> \n",
      "    <div class=\"container-md\">Para fechar negocio na hora traga os seguintes documentos: </div>\n",
      "    <div class=\"container overflow-hidden\">\n",
      "        <div class=\"row gx-5\">\n",
      "          <div class=\"col\">\n",
      "           <div class=\"p-3 border bg-light\"><ul>\n",
      "               <li class=\"listaboot\">Documento de identidade(RG)</li>\n",
      "               <li class=\"listaboot\">CPF</li>\n",
      "               <li class=\"listaboot\">Certidao de Nascimentos ou de Casamento</li>\n",
      "               <li class=\"listaboot\">Comprovante de residencia</li>\n",
      "           </ul></div>\n",
      "          </div>\n",
      "          <div class=\"col\">\n",
      "            <div class=\"p-3 border bg-light\">\n",
      "            <ul>\n",
      "                <li class=\"listaboot\">Carteira Profissional(ou contrato de prestação de serviços)</li>\n",
      "                <li class=\"listaboot\">Imposto de renda(se declarado)</li>\n",
      "                <li class=\"listaboot\">Os 3 últimos Extratos Bancarios</li>\n",
      "                <li class=\"listaboot\">Os 3 últimos Contrachques</li>\n",
      "            </ul>\n",
      "            </div>\n",
      "          </div>\n",
      "        </div>\n",
      "      </div>\n",
      "\n",
      "    <div class=\"newsletter-c\">\n",
      "        \n",
      "        <div class=\"newsletter-info\">\n",
      "            <h2 class=\"newsletter-info_titulo\">Gostou de algum Empreendimento?</h2>\n",
      "            <br>\n",
      "            <h2 class=\"newsletter-info_titulo\">Me chame no Whatsapp e marque uma visita no stand comigo!</h2>\n",
      "            <br>\n",
      "            <p class=\"newsletter-info_descrição\">Tire todas as suas duvidas sobre preço, local, planta, número de quartos,unidades disponiveis e documentos necessarios para compra.</p>\n",
      "\n",
      "                <button type=\"submit\" class=\"newsletter-form_sumit\" onclick=\"chamarWhatsapp()\">Meu Whatsapp</button>\n",
      "\n",
      "        </div>\n",
      "    </div>\n",
      "</section>\n",
      "\n",
      "<h2 class=\"section__titulo\">Conheça mais sobre os Emprendimentos</h2>\n",
      "<section class=\"galeria\" id=\"galeria\">\n",
      "    \n",
      "     <article class=\"galeria-item\">\n",
      "\n",
      "       <a href=\"apresentaçoes/Apresentação Olinda Elis.pdf\" target=\"_blank\">\n",
      "        <img src=\"https://direcional.com.br/wp-content/uploads/2021/06/Churrasqueira_Olinda-Ellis_Direcional-332x220_c.jpg\" alt=\"\" class=\"galeria-item_thumb\">\n",
      "        <h4 class=\"galeria-item_local\">Clique aqui para conhecer:  Olinda Ellis </h4>\n",
      "        </a>\n",
      "\n",
      "    </article>\n",
      "\n",
      "    <article class=\"galeria-item\">\n",
      "       \n",
      "       <a href=\"apresentaçoes/Apresentação Moinho.pdf\" target=\"_blank\">\n",
      "        <img src=\"https://direcional.com.br/wp-content/uploads/2021/06/PRACA_VV-MOINHO_DIRECIONAL-332x220_c.jpg\" alt=\"\" class=\"galeria-item_thumb\">\n",
      "        <h4 class=\"galeria-item_local\">Clique aqui para conhecer:  Viva Vida moinho </h4>\n",
      "        </a>\n",
      "    </article>\n",
      "\n",
      "    <article class=\"galeria-item\">\n",
      "        \n",
      "        <a href=\"apresentaçoes/Apresentação Girassol.pdf\" target=\"_blank\">\n",
      "            \n",
      "            <img src=\"https://direcional.com.br/wp-content/uploads/2021/06/GUARITA_CONQUISTA-GIRASSOL_DIRECIONAL-332x220_c.jpg\" alt=\"\" class=\"galeria-item_thumb\">\n",
      "\n",
      "            <h4 class=\"galeria-item_local\">Clique aqui para conhecer:  Conquista Girassol </h4>\n",
      "        </a>\n",
      "    </article>\n",
      "\n",
      "\n",
      "    <article class=\"galeria-item\">\n",
      "        <a href=\"apresentaçoes/Apresentação Itanhangá.pdf\" target=\"_blank\">\n",
      "        <img src=\"https://direcional.com.br/wp-content/uploads/2021/06/Piscina_RESERVA-PARK-ITANHANG-A_DIRECIONAL-scaled-332x220_c.jpg\" alt=\"\" class=\"galeria-item_thumb\">\n",
      "        <h4 class=\"galeria-item_local\">Clique aqui para conhecer:  Reserva Park Itanhangá </h4>\n",
      "        </a>\n",
      "    </article>\n",
      "\n",
      "    <article class=\"galeria-item\">\n",
      "\n",
      "        <a href=\"apresentaçoes/Apresentação Jardins.pdf\" target=\"_blank\">\n",
      "        <img src=\"https://direcional.com.br/wp-content/uploads/2021/06/PET-PLACE_CONQUISTA-JARDINS_DIRECIONAL-332x220_c.jpg\" alt=\"\" class=\"galeria-item_thumb\">\n",
      "        <h4 class=\"galeria-item_local\">Clique aqui para conhecer:  Conquista Jardins </h4>\n",
      "        </a>\n",
      "    </article>\n",
      "\n",
      "    <article class=\"galeria-item\">\n",
      "        <a href=\"apresentaçoes/Revista Reserva Atlântica.pdf\" target=\"_blank\">\n",
      "        <img src=\"https://direcional.com.br/wp-content/uploads/2021/06/CHURRASQUEIRA_RESERVA-ATLANTICA_DIRECIONAL-332x220_c.jpg\" alt=\"\" class=\"galeria-item_thumb\">\n",
      "        <h4 class=\"galeria-item_local\">Clique aqui para conhecer:  Reserva Atlantica </h4>\n",
      "        </a>\n",
      "    </article>\n",
      "\n",
      "    <article class=\"galeria-item\">\n",
      "        <a href=\"apresentaçoes/Apresentação Acqua.pdf\" target=\"_blank\">\n",
      "        <img src=\"https://direcional.com.br/wp-content/uploads/2021/06/PISCINA_RESERVA-ACQUA_DIRECIONAL-332x220_c.jpg\" alt=\"\" class=\"galeria-item_thumb\">\n",
      "        <h4 class=\"galeria-item_local\">Clique aqui para conhecer:  Reserva Acqua </h4>\n",
      "    </a>\n",
      "    </article>\n",
      "\n",
      "    <article class=\"galeria-item\">\n",
      "        <a href=\"apresentaçoes/Apresentação Tranquilidade.pdf\" target=\"_blank\">\n",
      "        <img src=\"https://direcional.com.br/wp-content/uploads/2021/06/Fitness-externo_VV-TRANQUILIDADE_DIRECIONAL-332x220_c.jpg\" alt=\"\" class=\"galeria-item_thumb\">\n",
      "        <h4 class=\"galeria-item_local\">Clique aqui para conhecer:  Viva Vida Tranquilidade</h4>\n",
      "    </a>\n",
      "    </article>\n",
      "\n",
      "    <article class=\"galeria-item\">\n",
      "        <a href=\"apresentaçoes/Apresentação Felicidade.pdf\" target=\"_blank\">\n",
      "        <img src=\"https://direcional.com.br/wp-content/uploads/2021/06/PLAYGROUNG_VV-FELICIDADE_DIRECIONAL-332x220_c.jpg\" alt=\"\" class=\"galeria-item_thumb\">\n",
      "        <h4 class=\"galeria-item_local\">Clique aqui para conhecer:   Viva Vida Felicidade </h4>\n",
      "    </a>\n",
      "    </article>\n",
      "\n",
      "    <article class=\"galeria-item\">\n",
      "        <a href=\"apresentaçoes/Apresentação Naturale.pdf\" target=\"_blank\">\n",
      "        <img src=\"https://direcional.com.br/wp-content/uploads/2021/06/BICICLETARIO_VV-NATURALE_DIRECIONAL-332x220_c.jpg\" alt=\"\" class=\"galeria-item_thumb\">\n",
      "        <h4 class=\"galeria-item_local\">Clique aqui para conhecer:  Viva Vida Naturale </h4>\n",
      "    </a>\n",
      "    </article>\n",
      "\n",
      "    <article class=\"galeria-item\">\n",
      "        <a href=\"apresentaçoes/Apresentação Zona Norte.pdf\" target=\"_blank\">\n",
      "        <img src=\"https://direcional.com.br/wp-content/uploads/2021/06/Fitness_VV-ZONA-NORTE_DIRECIONAL-332x220_c.jpg\" alt=\"\" class=\"galeria-item_thumb\">\n",
      "        <h4 class=\"galeria-item_local\"> Clique aqui para conhecer: Viva Vida Zona Norte </h4>\n",
      "    </a>\n",
      "    </article>\n",
      "\n",
      "</section>\n",
      "\n",
      "<footer>\n",
      "    <ul class=\"footer-list\">\n",
      "        <li class=\"footer-list_item\">\n",
      "            <a href=\"#home\" class=\"footer-list_link\">Home</a>\n",
      "        </li>\n",
      "\n",
      "        <li class=\"footer-list_item\">\n",
      "            <a href=\"#sobre\" class=\"footer-list_link\">Sobre</a>\n",
      "        </li>\n",
      "\n",
      "        <li class=\"footer-list_item\">\n",
      "            <a href=\"#empreendimentos\" class=\"footer-list_link\">Empreendimentos</a>\n",
      "        </li>\n",
      "\n",
      "        <li class=\"footer-list_item\">\n",
      "            <a href=\"#galeria\" class=\"footer-list_link\">Galeria</a>\n",
      "        </li>\n",
      "\n",
      "        \n",
      "    </ul>\n",
      "    <div class=\"wppfooter\">\n",
      "    <p>Me mande uma mensagem no Whtasapp e tire todas as suas duvidas comigo!</p>\n",
      "    <button type=\"submit\" class=\"newsletter-form_sumit2\" onclick=\"chamarWhatsapp()\">Meu Whatsapp</button>\n",
      "    </div>\n",
      "\n",
      "    <div class=\"contatos-footer\">\n",
      "    <h3>Contatos:</h3>\n",
      "    <p>Email: pedroveras2803@gmail.com</p>\n",
      "    <p>Telefone: (21) 999289987</p>\n",
      "    </div>\n",
      "\n",
      "        <div class=\"footer-icon\">\n",
      "        <ul class=\"footer-icons\">\n",
      "            <li>\n",
      "                <a href=\"https://www.instagram.com/direcional.rj/\" target=\"_blank\" class=\"footer-icons_icon\">\n",
      "                <i class=\"fab fa-instagram\"> Direcional</i>\n",
      "                </a>\n",
      "            </li>\n",
      "\n",
      "            <li>\n",
      "                <a href=\"https://direcional.com.br/encontre-seu-apartamento/\" target=\"_blank\" class=\"footer-icons_icon\" >\n",
      "                <i class=\"fas fa-building\"></i> Site da Direcional\n",
      "                </a>\n",
      "            </li>\n",
      "         </ul>\n",
      "        </div>\n",
      "          \n",
      "\n",
      "    <p class=\"copyright\"> Copyright &copy;  PVN Imoveis <span class=\"date\">2021.</span> Todos os direitos reservados </p>\n",
      "</footer>\n",
      "\n",
      "<script src=\"https://cdn.jsdelivr.net/npm/@popperjs/core@2.10.2/dist/umd/popper.min.js\" integrity=\"sha384-7+zCNj/IqJ95wo16oMtfsKbZ9ccEh31eOz1HGyDuCQ6wgnyJNSYdrPa03rtR1zdB\" crossorigin=\"anonymous\"></script>\n",
      "<script src=\"https://cdn.jsdelivr.net/npm/bootstrap@5.1.2/dist/js/bootstrap.min.js\" integrity=\"sha384-PsUw7Xwds7x08Ew3exXhqzbhuEYmA2xnwc8BuD6SEr+UmEHlX8/MCltYEodzWA4u\" crossorigin=\"anonymous\"></script>\n",
      "</body>\n",
      "</html>\n",
      "\n",
      "\n",
      "\n"
     ]
    }
   ],
   "source": [
    "def retorna_response(url):\n",
    "    response = requests.get(url)\n",
    "    return response.text\n",
    "\n",
    "response = retorna_response('https://pvn-imoveis.netlify.app/')\n",
    "print(response)"
   ]
  }
 ],
 "metadata": {
  "interpreter": {
   "hash": "74ab7c6ffe6706754a8af46cc4d18eebe476c74ce21a19282f620e1b1e9919fe"
  },
  "kernelspec": {
   "display_name": "Python 3.8.8 64-bit ('base': conda)",
   "name": "python3"
  },
  "language_info": {
   "codemirror_mode": {
    "name": "ipython",
    "version": 3
   },
   "file_extension": ".py",
   "mimetype": "text/x-python",
   "name": "python",
   "nbconvert_exporter": "python",
   "pygments_lexer": "ipython3",
   "version": "3.9.7"
  },
  "orig_nbformat": 4
 },
 "nbformat": 4,
 "nbformat_minor": 2
}
