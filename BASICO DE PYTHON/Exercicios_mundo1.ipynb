{
 "cells": [
  {
   "cell_type": "markdown",
   "metadata": {},
   "source": [
    "# 1) Contenação"
   ]
  },
  {
   "cell_type": "code",
   "execution_count": 1,
   "metadata": {},
   "outputs": [
    {
     "name": "stdout",
     "output_type": "stream",
     "text": [
      "A soma entre 10 e 5 vale 15\n"
     ]
    }
   ],
   "source": [
    "n1 = int(input('Digite um valor: '))\n",
    "n2 = int(input(\"Digite outro: \"))\n",
    "s = n1 + n2\n",
    "print('A soma entre {0} e {1} vale {2}'.format(n1, n2, s))"
   ]
  },
  {
   "cell_type": "markdown",
   "metadata": {},
   "source": [
    "# 2) Sucessor e antecessor"
   ]
  },
  {
   "cell_type": "code",
   "execution_count": 1,
   "metadata": {},
   "outputs": [
    {
     "name": "stdout",
     "output_type": "stream",
     "text": [
      "Analisando o valor 10, o antecessor é 9 e o sucessor 11 \n"
     ]
    }
   ],
   "source": [
    "n1 = int(input('Digite um valor: '))\n",
    "a = n1 -1\n",
    "s = n1 + 1\n",
    "print('Analisando o valor {}, o antecessor é {} e o sucessor {} '.format(n1,a,s))\n"
   ]
  },
  {
   "cell_type": "markdown",
   "metadata": {},
   "source": [
    "# 3) Dobro, triplo e raiz quadrada"
   ]
  },
  {
   "cell_type": "code",
   "execution_count": null,
   "metadata": {},
   "outputs": [],
   "source": [
    "n = int(input(\"Digite um numero: \"))\n",
    "n2 = n * 2\n",
    "n3= n * 3\n",
    "n4 = n ** (1/2)\n",
    "\n",
    "print(' O dobro de {}: vale {}\\n o tripo vale: {}\\n e a raiz quadrada vale: {} '.format(n,n2,n3,n4))"
   ]
  },
  {
   "cell_type": "markdown",
   "metadata": {},
   "source": [
    "# 4 Media aritimetica"
   ]
  },
  {
   "cell_type": "code",
   "execution_count": null,
   "metadata": {},
   "outputs": [],
   "source": [
    "n1 = int(input(\"Digite a primeira nota: \"))\n",
    "n2 = int(input(\"Digite a segunda nota: \"))\n",
    "m = (n1 + n2)/2\n",
    "\n",
    "print(\" A media entre {} e {} é igual a {} \".format(n1,n2,m))\n",
    "\n",
    "print(\" A primeira nota foi\", n1)\n",
    "print(\"A segunda nota foi:\", n2)\n",
    "print(\" A sua media foi: \", m)"
   ]
  },
  {
   "cell_type": "markdown",
   "metadata": {},
   "source": [
    "# 5) Tabuada"
   ]
  },
  {
   "cell_type": "code",
   "execution_count": null,
   "metadata": {},
   "outputs": [],
   "source": [
    "n = int(input(\"Digite um numero para ver sua tabuada: \"))\n",
    "i=0\n",
    "while i < 10:\n",
    "    i= i + 1\n",
    "    resultado = n*i\n",
    "    print(\"-------------------\")\n",
    "    print('{}x{} = {} '.format(n,i,resultado))\n"
   ]
  },
  {
   "cell_type": "markdown",
   "metadata": {},
   "source": [
    "# 6) Conversor de moedas"
   ]
  },
  {
   "cell_type": "code",
   "execution_count": null,
   "metadata": {},
   "outputs": [],
   "source": [
    "n = float(input(\" Quanto de dinheiro voce tem na sua carteira? \"))\n",
    "\n",
    "dolar = n/5.51\n",
    "euro = n/6.38\n",
    "\n",
    "print(\"Voce pode comprar {:1f} em dolar e {:1f} em euro \".format(dolar,euro))"
   ]
  },
  {
   "cell_type": "markdown",
   "metadata": {},
   "source": [
    "# 7) Exemplos contextuais"
   ]
  },
  {
   "cell_type": "code",
   "execution_count": null,
   "metadata": {},
   "outputs": [],
   "source": [
    "# =========> Pintando parede\n",
    "l = float(input('Digite a largura da sua parede: '))\n",
    "h  = float(input('Digite a altura da sua parede: '))\n",
    "\n",
    "area = l * h\n",
    "tinta = area/2\n",
    "print(\"Sua parede tem dimensao de {}x{} e sua area é de: {}m^2. Portanto, voce precisa de {}L de tinta para pintar sua parede \".format(l,h,area,tinta))"
   ]
  },
  {
   "cell_type": "code",
   "execution_count": null,
   "metadata": {},
   "outputs": [],
   "source": [
    "# =========> Loja de descontos\n",
    "\n",
    "n = float(input('Quanto que custa seu produto? '))\n",
    "\n",
    "promo = n*0.95\n",
    "\n",
    "print('Seu produto de {}reais vai custar {} com desconto de 5%'.format(n, promo))\n",
    "\n"
   ]
  },
  {
   "cell_type": "code",
   "execution_count": null,
   "metadata": {},
   "outputs": [],
   "source": [
    "# =========> reajuste salarial\n",
    "\n",
    "n= float(input(\"Coloque o quanto de salario que voce recebe atualmente: \"))\n",
    "\n",
    "reajuste = n*1.15\n",
    "print('Seu salario de {}reais com um reajuste de 15% sera de {:.2f} '.format(n,reajuste))\n",
    "\n"
   ]
  },
  {
   "cell_type": "code",
   "execution_count": null,
   "metadata": {},
   "outputs": [],
   "source": [
    "# =========> Aluguel de carros\n",
    "dias = float(input('quantos dias alugados pelo carro? '))\n",
    "km = float(input(\"Quantos KM rodados com o carro?\"))\n",
    "# o carro custa R$60 por dia e R$0,15 por Km rodado.\n",
    "\n",
    "pagar_dia = 60*dias\n",
    "pagar_km = 0.15*km\n",
    "\n",
    "pagar_tot = pagar_dia + pagar_km\n",
    "\n",
    "print('O total a pagar com o Aluguel do seu carro será de:{} '.format(pagar_tot))"
   ]
  }
 ],
 "metadata": {
  "interpreter": {
   "hash": "63fd5069d213b44bf678585dea6b12cceca9941eaf7f819626cde1f2670de90d"
  },
  "kernelspec": {
   "display_name": "Python 3.9.7 64-bit",
   "language": "python",
   "name": "python3"
  },
  "language_info": {
   "codemirror_mode": {
    "name": "ipython",
    "version": 3
   },
   "file_extension": ".py",
   "mimetype": "text/x-python",
   "name": "python",
   "nbconvert_exporter": "python",
   "pygments_lexer": "ipython3",
   "version": "3.8.8"
  },
  "orig_nbformat": 4
 },
 "nbformat": 4,
 "nbformat_minor": 2
}
