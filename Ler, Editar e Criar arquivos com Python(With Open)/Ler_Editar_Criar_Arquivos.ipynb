{
 "cells": [
  {
   "cell_type": "markdown",
   "metadata": {},
   "source": [
    "# Python e Arquivos de texto (.txt)\n",
    "- Use sempre a estrutura WITH"
   ]
  },
  {
   "cell_type": "markdown",
   "metadata": {},
   "source": [
    "## Formas de abrir um arquivo"
   ]
  },
  {
   "cell_type": "markdown",
   "metadata": {},
   "source": [
    "- \"r\" -> read -> ler\n",
    "#### ler um arquivo"
   ]
  },
  {
   "cell_type": "code",
   "execution_count": 6,
   "metadata": {},
   "outputs": [
    {
     "name": "stdout",
     "output_type": "stream",
     "text": [
      "pythonimpressionador@gmail.com\n",
      "123456\n",
      "O faturamento desse mês foi de: R$15.000\n",
      "\n"
     ]
    }
   ],
   "source": [
    "# Read => Para arquivos simples (ex: senhas, tokens, informaçoes unicas)\n",
    "\n",
    "with open(\"email.txt\", \"r\") as arquivo:\n",
    "    email = arquivo.read()\n",
    "print(email)\n",
    "\n",
    "with open(\"senha.txt\", \"r\") as arquivo:\n",
    "    senha = arquivo.read()\n",
    "# print(senha)\n",
    "\n",
    "# Read lines -> para arquivos maiores -> transforma em uma array (lista)\n",
    "\n",
    "with open(\"mensagem.txt\", \"r\", encoding=\"utf-8\") as arquivo:\n",
    "    #encoding = utf-8 serve para tirar os caracteres especias\n",
    "    mensagem = arquivo.readlines()\n",
    "for linha in mensagem:\n",
    "    if \"faturamento\" in linha:\n",
    "        print(linha) "
   ]
  },
  {
   "cell_type": "markdown",
   "metadata": {},
   "source": [
    "- \"w\" -> write = escrever\n",
    "#### Substitui por completo o texto que esta escrito"
   ]
  },
  {
   "cell_type": "code",
   "execution_count": 8,
   "metadata": {},
   "outputs": [
    {
     "name": "stdout",
     "output_type": "stream",
     "text": [
      "6\n"
     ]
    }
   ],
   "source": [
    "with open(\"nova_senha.txt\", \"w\") as arquivo:\n",
    "    nova_senha = arquivo.write(\"456789\")\n",
    "print(nova_senha)"
   ]
  },
  {
   "cell_type": "markdown",
   "metadata": {},
   "source": [
    "- \"a\" -> append = adicionar\n",
    "#### Adiciona uma informação ao texto original"
   ]
  },
  {
   "cell_type": "code",
   "execution_count": 9,
   "metadata": {},
   "outputs": [],
   "source": [
    "with open (\"email.txt\", \"a\") as arquivo:\n",
    "    arquivo.write(\"\\npedrovictor.rveras12@gmail.com\")\n",
    "    "
   ]
  },
  {
   "cell_type": "markdown",
   "metadata": {},
   "source": [
    "# Exemplo pratico"
   ]
  },
  {
   "cell_type": "code",
   "execution_count": 1,
   "metadata": {},
   "outputs": [
    {
     "name": "stdout",
     "output_type": "stream",
     "text": [
      "['Rafael,10,9,9,7', 'Felipe,7,8,5,6', 'Galleani,10,9,5,6', 'Cesar,7,9,6,8']\n",
      "=====================\n",
      "Então... outra lista criada\n",
      "=====================\n",
      "\n",
      "['Rafael', '10', '9', '9', '7']\n",
      "__________Organizando..._________\n",
      "Notas do aluno: ['10', '9', '9', '7'] \n",
      "Nome do aluno: Rafael\n",
      "Media do aluno é 8.75\n",
      "\n",
      "['Felipe', '7', '8', '5', '6']\n",
      "__________Organizando..._________\n",
      "Notas do aluno: ['7', '8', '5', '6'] \n",
      "Nome do aluno: Felipe\n",
      "Media do aluno é 6.5\n",
      "\n",
      "['Galleani', '10', '9', '5', '6']\n",
      "__________Organizando..._________\n",
      "Notas do aluno: ['10', '9', '5', '6'] \n",
      "Nome do aluno: Galleani\n",
      "Media do aluno é 7.5\n",
      "\n",
      "['Cesar', '7', '9', '6', '8']\n",
      "__________Organizando..._________\n",
      "Notas do aluno: ['7', '9', '6', '8'] \n",
      "Nome do aluno: Cesar\n",
      "Media do aluno é 7.5\n",
      "\n",
      "Resultado final dos alunos:\n",
      "[{'Rafael': 8.75}, {'Felipe': 6.5}, {'Galleani': 7.5}, {'Cesar': 7.5}]\n"
     ]
    }
   ],
   "source": [
    "def escrever_arquivo(texto):\n",
    "    with open('teste.txt', 'w') as arquivo:\n",
    "        arquivo.write(texto)\n",
    "\n",
    "\n",
    "def ler_arquivo(nome_arquivo):  # qualquer arquivo pode ser lido por aqui...\n",
    "    with open(nome_arquivo, 'r') as arquivo:\n",
    "        nome_arquivo = arquivo.read()\n",
    "        # print(nome_arquivo)\n",
    "\n",
    "\n",
    "def atualizar_arquivo(nome_arquivo, texto):\n",
    "    with open(nome_arquivo, 'a') as arquivo:\n",
    "        arquivo.write(texto)\n",
    "\n",
    "\n",
    "def media_notas(nome_arquivo):\n",
    "    with open(nome_arquivo, 'r') as arquivo:\n",
    "        aluno_nota = arquivo.read()\n",
    "        aluno_nota = aluno_nota.split('\\n')\n",
    "        print(aluno_nota)  # lista criada em string do notas.txt\n",
    "\n",
    "        print('=====================')\n",
    "        print('Então... outra lista criada')\n",
    "        print('=====================\\n')\n",
    "        lista_media = []\n",
    "        for x in aluno_nota:\n",
    "            lista_notas = x.split(',')\n",
    "\n",
    "            # Outro split para deixar cada elemento em 1 array\n",
    "            print(lista_notas)\n",
    "            print('__________Organizando..._________')\n",
    "            aluno = lista_notas[0] #Falando qual o nome do lado, posição 0\n",
    "            \n",
    "            lista_notas.pop(0) #Retirando o nome e deixando apenas a notas na lista\n",
    "            notas = lista_notas\n",
    "            \n",
    "            print('Notas do aluno: {} '.format(notas))\n",
    "            # Cada nome de cada aluno\n",
    "            print('Nome do aluno: {}'.format(aluno))\n",
    "            \n",
    "            media = lambda notas_finais: sum([int(i) for i in notas]) /4 #lambda, ja transforma as notas em uma lista SO DE NUMEROS(o que eu quero...)\n",
    "            \n",
    "            print( f'Media do aluno é {media(notas)}\\n')\n",
    "            \n",
    "            \n",
    "            lista_media.append({aluno:media(lista_notas)}) #dicionario\n",
    "        return lista_media\n",
    "            \n",
    "                \n",
    "\n",
    "\n",
    "if __name__ == '__main__':\n",
    "    lista_media = media_notas('notas.txt')\n",
    "    print('Resultado final dos alunos:')\n",
    "    print(lista_media)\n",
    "    # escrever_arquivo('Primeira linha.\\n')\n",
    "    # ler_arquivo('teste.txt')\n",
    "    # aluno = \"Cesar, 7, 9, 6, 8\\n\"\n",
    "    # atualizar_arquivo('notas.txt',aluno)\n"
   ]
  }
 ],
 "metadata": {
  "interpreter": {
   "hash": "74ab7c6ffe6706754a8af46cc4d18eebe476c74ce21a19282f620e1b1e9919fe"
  },
  "kernelspec": {
   "display_name": "Python 3.8.8 64-bit ('base': conda)",
   "language": "python",
   "name": "python3"
  },
  "language_info": {
   "codemirror_mode": {
    "name": "ipython",
    "version": 3
   },
   "file_extension": ".py",
   "mimetype": "text/x-python",
   "name": "python",
   "nbconvert_exporter": "python",
   "pygments_lexer": "ipython3",
   "version": "3.8.8"
  },
  "orig_nbformat": 4
 },
 "nbformat": 4,
 "nbformat_minor": 2
}
